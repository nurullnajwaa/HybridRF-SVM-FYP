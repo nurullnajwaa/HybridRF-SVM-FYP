{
  "cells": [
    {
      "cell_type": "markdown",
      "metadata": {
        "id": "view-in-github",
        "colab_type": "text"
      },
      "source": [
        "<a href=\"https://colab.research.google.com/github/nurullnajwaa/HybridRF-SVM-FYP/blob/main/PSM2.ipynb\" target=\"_parent\"><img src=\"https://colab.research.google.com/assets/colab-badge.svg\" alt=\"Open In Colab\"/></a>"
      ]
    },
    {
      "cell_type": "code",
      "execution_count": null,
      "metadata": {
        "id": "qImeBy9vHrqZ"
      },
      "outputs": [],
      "source": [
        "#Import libraries\n",
        "import pandas as pd\n",
        "import numpy as np\n",
        "import matplotlib.pyplot as plt\n",
        "import seaborn as sns\n",
        "get_ipython().run_line_magic('matplotlib', 'inline')"
      ]
    },
    {
      "cell_type": "code",
      "execution_count": null,
      "metadata": {
        "colab": {
          "base_uri": "https://localhost:8080/"
        },
        "id": "5ZwKwa7fLI9a",
        "outputId": "dea62b79-bcb3-45f7-d05c-3ac192eb0239"
      },
      "outputs": [
        {
          "output_type": "stream",
          "name": "stdout",
          "text": [
            "Mounted at /content/gdrive/\n"
          ]
        }
      ],
      "source": [
        "#Import the datasets\n",
        "from google.colab import drive\n",
        "drive.mount(\"/content/gdrive/\")"
      ]
    },
    {
      "cell_type": "code",
      "execution_count": null,
      "metadata": {
        "id": "1YRu6Qg0Lit5"
      },
      "outputs": [],
      "source": [
        "SetA=pd.read_csv('/content/gdrive/My Drive/PSM 2/psmdataset/SetA.csv')\n",
        "SetB=pd.read_csv('/content/gdrive/My Drive/PSM 2/psmdataset/SetB.csv')\n",
        "SetC=pd.read_csv('/content/gdrive/My Drive/PSM 2/psmdataset/SetC.csv')"
      ]
    },
    {
      "cell_type": "markdown",
      "metadata": {
        "id": "vAPRjLKdmSYu"
      },
      "source": [
        "# **DATA PRE-PROSESSING**"
      ]
    },
    {
      "cell_type": "markdown",
      "metadata": {
        "id": "mIwRsURgM6c-"
      },
      "source": [
        "# SET A"
      ]
    },
    {
      "cell_type": "code",
      "execution_count": null,
      "metadata": {
        "colab": {
          "base_uri": "https://localhost:8080/"
        },
        "id": "0ydPPI6ESdKs",
        "outputId": "f6fc43f8-2809-4b96-f945-d82cf0c0f834"
      },
      "outputs": [
        {
          "output_type": "stream",
          "name": "stdout",
          "text": [
            "Set A\n"
          ]
        },
        {
          "output_type": "execute_result",
          "data": {
            "text/plain": [
              "   Class  Feature_1  Feature_2  Feature_3  Feature_4  Feature_5  Feature_6  \\\n",
              "0      1      0.939      1.000      1.000      1.000       1.00      1.000   \n",
              "1      1      0.689      0.944      0.470      0.750       0.75      0.727   \n",
              "2      1      0.720      1.000      0.754      0.931       1.00      1.000   \n",
              "3      1      0.332      0.194      0.314      0.493       0.00      0.444   \n",
              "4      1      0.716      0.806      0.097      0.763       0.50      0.778   \n",
              "\n",
              "   Feature_7  Feature_8  Feature_9  ...  Feature_21  Feature_22  Feature_23  \\\n",
              "0      1.000      0.958      1.000  ...       0.919       0.776       0.786   \n",
              "1      0.646      0.831      0.446  ...       0.469       0.504       0.429   \n",
              "2      0.781      1.000      0.791  ...       0.790       0.880       0.629   \n",
              "3      0.165      0.183      0.295  ...       0.339       0.470       0.196   \n",
              "4      0.599      0.765      0.127  ...       0.036       0.813       0.430   \n",
              "\n",
              "   Feature_24  Feature_25  Feature_26  Feature_27  Feature_28  Feature_29  \\\n",
              "0       0.781       0.638       0.605       0.760       0.678       0.647   \n",
              "1       0.452       0.411       0.637       0.387       0.420       0.412   \n",
              "2       0.575       0.818       0.927       0.789       0.892       0.635   \n",
              "3       0.368       0.218       0.293       0.339       0.442       0.120   \n",
              "4       0.632       0.654       0.841       0.064       0.756       0.287   \n",
              "\n",
              "   Feature_30  \n",
              "0       0.607  \n",
              "1       0.404  \n",
              "2       0.539  \n",
              "3       0.409  \n",
              "4       0.636  \n",
              "\n",
              "[5 rows x 31 columns]"
            ],
            "text/html": [
              "\n",
              "  <div id=\"df-35cd800b-40ec-41eb-92e8-5e4d3450a2d4\">\n",
              "    <div class=\"colab-df-container\">\n",
              "      <div>\n",
              "<style scoped>\n",
              "    .dataframe tbody tr th:only-of-type {\n",
              "        vertical-align: middle;\n",
              "    }\n",
              "\n",
              "    .dataframe tbody tr th {\n",
              "        vertical-align: top;\n",
              "    }\n",
              "\n",
              "    .dataframe thead th {\n",
              "        text-align: right;\n",
              "    }\n",
              "</style>\n",
              "<table border=\"1\" class=\"dataframe\">\n",
              "  <thead>\n",
              "    <tr style=\"text-align: right;\">\n",
              "      <th></th>\n",
              "      <th>Class</th>\n",
              "      <th>Feature_1</th>\n",
              "      <th>Feature_2</th>\n",
              "      <th>Feature_3</th>\n",
              "      <th>Feature_4</th>\n",
              "      <th>Feature_5</th>\n",
              "      <th>Feature_6</th>\n",
              "      <th>Feature_7</th>\n",
              "      <th>Feature_8</th>\n",
              "      <th>Feature_9</th>\n",
              "      <th>...</th>\n",
              "      <th>Feature_21</th>\n",
              "      <th>Feature_22</th>\n",
              "      <th>Feature_23</th>\n",
              "      <th>Feature_24</th>\n",
              "      <th>Feature_25</th>\n",
              "      <th>Feature_26</th>\n",
              "      <th>Feature_27</th>\n",
              "      <th>Feature_28</th>\n",
              "      <th>Feature_29</th>\n",
              "      <th>Feature_30</th>\n",
              "    </tr>\n",
              "  </thead>\n",
              "  <tbody>\n",
              "    <tr>\n",
              "      <th>0</th>\n",
              "      <td>1</td>\n",
              "      <td>0.939</td>\n",
              "      <td>1.000</td>\n",
              "      <td>1.000</td>\n",
              "      <td>1.000</td>\n",
              "      <td>1.00</td>\n",
              "      <td>1.000</td>\n",
              "      <td>1.000</td>\n",
              "      <td>0.958</td>\n",
              "      <td>1.000</td>\n",
              "      <td>...</td>\n",
              "      <td>0.919</td>\n",
              "      <td>0.776</td>\n",
              "      <td>0.786</td>\n",
              "      <td>0.781</td>\n",
              "      <td>0.638</td>\n",
              "      <td>0.605</td>\n",
              "      <td>0.760</td>\n",
              "      <td>0.678</td>\n",
              "      <td>0.647</td>\n",
              "      <td>0.607</td>\n",
              "    </tr>\n",
              "    <tr>\n",
              "      <th>1</th>\n",
              "      <td>1</td>\n",
              "      <td>0.689</td>\n",
              "      <td>0.944</td>\n",
              "      <td>0.470</td>\n",
              "      <td>0.750</td>\n",
              "      <td>0.75</td>\n",
              "      <td>0.727</td>\n",
              "      <td>0.646</td>\n",
              "      <td>0.831</td>\n",
              "      <td>0.446</td>\n",
              "      <td>...</td>\n",
              "      <td>0.469</td>\n",
              "      <td>0.504</td>\n",
              "      <td>0.429</td>\n",
              "      <td>0.452</td>\n",
              "      <td>0.411</td>\n",
              "      <td>0.637</td>\n",
              "      <td>0.387</td>\n",
              "      <td>0.420</td>\n",
              "      <td>0.412</td>\n",
              "      <td>0.404</td>\n",
              "    </tr>\n",
              "    <tr>\n",
              "      <th>2</th>\n",
              "      <td>1</td>\n",
              "      <td>0.720</td>\n",
              "      <td>1.000</td>\n",
              "      <td>0.754</td>\n",
              "      <td>0.931</td>\n",
              "      <td>1.00</td>\n",
              "      <td>1.000</td>\n",
              "      <td>0.781</td>\n",
              "      <td>1.000</td>\n",
              "      <td>0.791</td>\n",
              "      <td>...</td>\n",
              "      <td>0.790</td>\n",
              "      <td>0.880</td>\n",
              "      <td>0.629</td>\n",
              "      <td>0.575</td>\n",
              "      <td>0.818</td>\n",
              "      <td>0.927</td>\n",
              "      <td>0.789</td>\n",
              "      <td>0.892</td>\n",
              "      <td>0.635</td>\n",
              "      <td>0.539</td>\n",
              "    </tr>\n",
              "    <tr>\n",
              "      <th>3</th>\n",
              "      <td>1</td>\n",
              "      <td>0.332</td>\n",
              "      <td>0.194</td>\n",
              "      <td>0.314</td>\n",
              "      <td>0.493</td>\n",
              "      <td>0.00</td>\n",
              "      <td>0.444</td>\n",
              "      <td>0.165</td>\n",
              "      <td>0.183</td>\n",
              "      <td>0.295</td>\n",
              "      <td>...</td>\n",
              "      <td>0.339</td>\n",
              "      <td>0.470</td>\n",
              "      <td>0.196</td>\n",
              "      <td>0.368</td>\n",
              "      <td>0.218</td>\n",
              "      <td>0.293</td>\n",
              "      <td>0.339</td>\n",
              "      <td>0.442</td>\n",
              "      <td>0.120</td>\n",
              "      <td>0.409</td>\n",
              "    </tr>\n",
              "    <tr>\n",
              "      <th>4</th>\n",
              "      <td>1</td>\n",
              "      <td>0.716</td>\n",
              "      <td>0.806</td>\n",
              "      <td>0.097</td>\n",
              "      <td>0.763</td>\n",
              "      <td>0.50</td>\n",
              "      <td>0.778</td>\n",
              "      <td>0.599</td>\n",
              "      <td>0.765</td>\n",
              "      <td>0.127</td>\n",
              "      <td>...</td>\n",
              "      <td>0.036</td>\n",
              "      <td>0.813</td>\n",
              "      <td>0.430</td>\n",
              "      <td>0.632</td>\n",
              "      <td>0.654</td>\n",
              "      <td>0.841</td>\n",
              "      <td>0.064</td>\n",
              "      <td>0.756</td>\n",
              "      <td>0.287</td>\n",
              "      <td>0.636</td>\n",
              "    </tr>\n",
              "  </tbody>\n",
              "</table>\n",
              "<p>5 rows × 31 columns</p>\n",
              "</div>\n",
              "      <button class=\"colab-df-convert\" onclick=\"convertToInteractive('df-35cd800b-40ec-41eb-92e8-5e4d3450a2d4')\"\n",
              "              title=\"Convert this dataframe to an interactive table.\"\n",
              "              style=\"display:none;\">\n",
              "        \n",
              "  <svg xmlns=\"http://www.w3.org/2000/svg\" height=\"24px\"viewBox=\"0 0 24 24\"\n",
              "       width=\"24px\">\n",
              "    <path d=\"M0 0h24v24H0V0z\" fill=\"none\"/>\n",
              "    <path d=\"M18.56 5.44l.94 2.06.94-2.06 2.06-.94-2.06-.94-.94-2.06-.94 2.06-2.06.94zm-11 1L8.5 8.5l.94-2.06 2.06-.94-2.06-.94L8.5 2.5l-.94 2.06-2.06.94zm10 10l.94 2.06.94-2.06 2.06-.94-2.06-.94-.94-2.06-.94 2.06-2.06.94z\"/><path d=\"M17.41 7.96l-1.37-1.37c-.4-.4-.92-.59-1.43-.59-.52 0-1.04.2-1.43.59L10.3 9.45l-7.72 7.72c-.78.78-.78 2.05 0 2.83L4 21.41c.39.39.9.59 1.41.59.51 0 1.02-.2 1.41-.59l7.78-7.78 2.81-2.81c.8-.78.8-2.07 0-2.86zM5.41 20L4 18.59l7.72-7.72 1.47 1.35L5.41 20z\"/>\n",
              "  </svg>\n",
              "      </button>\n",
              "      \n",
              "  <style>\n",
              "    .colab-df-container {\n",
              "      display:flex;\n",
              "      flex-wrap:wrap;\n",
              "      gap: 12px;\n",
              "    }\n",
              "\n",
              "    .colab-df-convert {\n",
              "      background-color: #E8F0FE;\n",
              "      border: none;\n",
              "      border-radius: 50%;\n",
              "      cursor: pointer;\n",
              "      display: none;\n",
              "      fill: #1967D2;\n",
              "      height: 32px;\n",
              "      padding: 0 0 0 0;\n",
              "      width: 32px;\n",
              "    }\n",
              "\n",
              "    .colab-df-convert:hover {\n",
              "      background-color: #E2EBFA;\n",
              "      box-shadow: 0px 1px 2px rgba(60, 64, 67, 0.3), 0px 1px 3px 1px rgba(60, 64, 67, 0.15);\n",
              "      fill: #174EA6;\n",
              "    }\n",
              "\n",
              "    [theme=dark] .colab-df-convert {\n",
              "      background-color: #3B4455;\n",
              "      fill: #D2E3FC;\n",
              "    }\n",
              "\n",
              "    [theme=dark] .colab-df-convert:hover {\n",
              "      background-color: #434B5C;\n",
              "      box-shadow: 0px 1px 3px 1px rgba(0, 0, 0, 0.15);\n",
              "      filter: drop-shadow(0px 1px 2px rgba(0, 0, 0, 0.3));\n",
              "      fill: #FFFFFF;\n",
              "    }\n",
              "  </style>\n",
              "\n",
              "      <script>\n",
              "        const buttonEl =\n",
              "          document.querySelector('#df-35cd800b-40ec-41eb-92e8-5e4d3450a2d4 button.colab-df-convert');\n",
              "        buttonEl.style.display =\n",
              "          google.colab.kernel.accessAllowed ? 'block' : 'none';\n",
              "\n",
              "        async function convertToInteractive(key) {\n",
              "          const element = document.querySelector('#df-35cd800b-40ec-41eb-92e8-5e4d3450a2d4');\n",
              "          const dataTable =\n",
              "            await google.colab.kernel.invokeFunction('convertToInteractive',\n",
              "                                                     [key], {});\n",
              "          if (!dataTable) return;\n",
              "\n",
              "          const docLinkHtml = 'Like what you see? Visit the ' +\n",
              "            '<a target=\"_blank\" href=https://colab.research.google.com/notebooks/data_table.ipynb>data table notebook</a>'\n",
              "            + ' to learn more about interactive tables.';\n",
              "          element.innerHTML = '';\n",
              "          dataTable['output_type'] = 'display_data';\n",
              "          await google.colab.output.renderOutput(dataTable, element);\n",
              "          const docLink = document.createElement('div');\n",
              "          docLink.innerHTML = docLinkHtml;\n",
              "          element.appendChild(docLink);\n",
              "        }\n",
              "      </script>\n",
              "    </div>\n",
              "  </div>\n",
              "  "
            ]
          },
          "metadata": {},
          "execution_count": 4
        }
      ],
      "source": [
        "print('Set A')\n",
        "SetA.head()"
      ]
    },
    {
      "cell_type": "code",
      "execution_count": null,
      "metadata": {
        "colab": {
          "base_uri": "https://localhost:8080/"
        },
        "id": "nYh-N65BkwsS",
        "outputId": "3c06f091-6878-4684-f0b2-1db96875d4ab"
      },
      "outputs": [
        {
          "output_type": "stream",
          "name": "stdout",
          "text": [
            "Set A\n",
            "<class 'pandas.core.frame.DataFrame'>\n",
            "RangeIndex: 10570 entries, 0 to 10569\n",
            "Data columns (total 31 columns):\n",
            " #   Column      Non-Null Count  Dtype  \n",
            "---  ------      --------------  -----  \n",
            " 0   Class       10570 non-null  int64  \n",
            " 1   Feature_1   10570 non-null  float64\n",
            " 2   Feature_2   10570 non-null  float64\n",
            " 3   Feature_3   10570 non-null  float64\n",
            " 4   Feature_4   10570 non-null  float64\n",
            " 5   Feature_5   10570 non-null  float64\n",
            " 6   Feature_6   10570 non-null  float64\n",
            " 7   Feature_7   10570 non-null  float64\n",
            " 8   Feature_8   10570 non-null  float64\n",
            " 9   Feature_9   10570 non-null  float64\n",
            " 10  Feature_10  10570 non-null  float64\n",
            " 11  Feature_11  10570 non-null  float64\n",
            " 12  Feature_12  10570 non-null  float64\n",
            " 13  Feature_13  10570 non-null  float64\n",
            " 14  Feature_14  10570 non-null  float64\n",
            " 15  Feature_15  10570 non-null  float64\n",
            " 16  Feature_16  10570 non-null  float64\n",
            " 17  Feature_17  10570 non-null  float64\n",
            " 18  Feature_18  10570 non-null  float64\n",
            " 19  Feature_19  10570 non-null  float64\n",
            " 20  Feature_20  10570 non-null  float64\n",
            " 21  Feature_21  10570 non-null  float64\n",
            " 22  Feature_22  10570 non-null  float64\n",
            " 23  Feature_23  10570 non-null  float64\n",
            " 24  Feature_24  10570 non-null  float64\n",
            " 25  Feature_25  10570 non-null  float64\n",
            " 26  Feature_26  10570 non-null  float64\n",
            " 27  Feature_27  10570 non-null  float64\n",
            " 28  Feature_28  10570 non-null  float64\n",
            " 29  Feature_29  10570 non-null  float64\n",
            " 30  Feature_30  10570 non-null  float64\n",
            "dtypes: float64(30), int64(1)\n",
            "memory usage: 2.5 MB\n"
          ]
        }
      ],
      "source": [
        "print('Set A')\n",
        "SetA.info()"
      ]
    },
    {
      "cell_type": "code",
      "execution_count": null,
      "metadata": {
        "colab": {
          "base_uri": "https://localhost:8080/"
        },
        "id": "bzn2onFxL79G",
        "outputId": "7787327b-8e8a-4fe6-d883-b0c718316f7e"
      },
      "outputs": [
        {
          "output_type": "stream",
          "name": "stdout",
          "text": [
            "Set A: (10570, 31)\n"
          ]
        }
      ],
      "source": [
        "#Print the contents in the datasets\n",
        "print(\"Set A:\", SetA.shape)"
      ]
    },
    {
      "cell_type": "code",
      "execution_count": null,
      "metadata": {
        "colab": {
          "base_uri": "https://localhost:8080/"
        },
        "id": "dOwFpjBz8Ze9",
        "outputId": "3571d018-06e3-460a-fc4a-4fd54f8f79f5"
      },
      "outputs": [
        {
          "output_type": "execute_result",
          "data": {
            "text/plain": [
              "-1    10110\n",
              " 1      460\n",
              "Name: Class, dtype: int64"
            ]
          },
          "metadata": {},
          "execution_count": 7
        }
      ],
      "source": [
        "SetA.iloc[:,0].value_counts()"
      ]
    },
    {
      "cell_type": "code",
      "execution_count": null,
      "metadata": {
        "colab": {
          "base_uri": "https://localhost:8080/"
        },
        "id": "zo08ERHmS9m8",
        "outputId": "9a2c5055-f6c1-428a-80d8-9674f24c4649"
      },
      "outputs": [
        {
          "output_type": "stream",
          "name": "stdout",
          "text": [
            "SET A\n"
          ]
        },
        {
          "output_type": "display_data",
          "data": {
            "text/plain": [
              "<Figure size 640x480 with 1 Axes>"
            ],
            "image/png": "[encoded data removed]"
          },
          "metadata": {}
        }
      ],
      "source": [
        "SetA.Class.value_counts().plot(kind='bar')\n",
        "print (\"SET A\")"
      ]
    },
    {
      "cell_type": "code",
      "execution_count": null,
      "metadata": {
        "id": "eVGF57PGp7CP"
      },
      "outputs": [],
      "source": [
        "# Remove all null value\n",
        "SetA.dropna(inplace=True)"
      ]
    },
    {
      "cell_type": "markdown",
      "metadata": {
        "id": "_qnBtiirMyzr"
      },
      "source": [
        "#SET B"
      ]
    },
    {
      "cell_type": "code",
      "execution_count": null,
      "metadata": {
        "colab": {
          "base_uri": "https://localhost:8080/"
        },
        "id": "_2WJyUbZMugq",
        "outputId": "691c5144-a339-4a27-9dd6-77a6fb57cd8c"
      },
      "outputs": [
        {
          "output_type": "stream",
          "name": "stdout",
          "text": [
            "Set B\n"
          ]
        },
        {
          "output_type": "execute_result",
          "data": {
            "text/plain": [
              "   Class  Feature 1  Feature 2  Feature 3  Feature 4  Feature 5  Feature 6  \\\n",
              "0      1      0.720      1.000      0.754      0.931       1.00      1.000   \n",
              "1      1      0.939      1.000      1.000      1.000       1.00      1.000   \n",
              "2      1      0.689      0.944      0.470      0.750       0.75      0.727   \n",
              "3      1      0.332      0.194      0.314      0.493       0.00      0.444   \n",
              "4      1      0.716      0.806      0.097      0.763       0.50      0.778   \n",
              "\n",
              "   Feature 7  Feature 8  Feature 9  ...  Feature 21  Feature 22  Feature 23  \\\n",
              "0      0.781      1.000      0.791  ...       0.790       0.880       0.629   \n",
              "1      1.000      0.958      1.000  ...       0.919       0.776       0.786   \n",
              "2      0.646      0.831      0.446  ...       0.469       0.504       0.429   \n",
              "3      0.165      0.183      0.295  ...       0.339       0.470       0.196   \n",
              "4      0.599      0.765      0.127  ...       0.036       0.813       0.430   \n",
              "\n",
              "   Feature 24  Feature 25  Feature 26  Feature 27  Feature 28  Feature 29  \\\n",
              "0       0.575       0.818       0.927       0.789       0.892       0.635   \n",
              "1       0.781       0.638       0.605       0.760       0.678       0.647   \n",
              "2       0.452       0.411       0.637       0.387       0.420       0.412   \n",
              "3       0.368       0.218       0.293       0.339       0.442       0.120   \n",
              "4       0.632       0.654       0.841       0.064       0.756       0.287   \n",
              "\n",
              "   Feature 30  \n",
              "0       0.539  \n",
              "1       0.607  \n",
              "2       0.404  \n",
              "3       0.409  \n",
              "4       0.636  \n",
              "\n",
              "[5 rows x 31 columns]"
            ],
            "text/html": [
              "\n",
              "  <div id=\"df-602d5aed-ea4d-4169-908a-b44c424d0172\">\n",
              "    <div class=\"colab-df-container\">\n",
              "      <div>\n",
              "<style scoped>\n",
              "    .dataframe tbody tr th:only-of-type {\n",
              "        vertical-align: middle;\n",
              "    }\n",
              "\n",
              "    .dataframe tbody tr th {\n",
              "        vertical-align: top;\n",
              "    }\n",
              "\n",
              "    .dataframe thead th {\n",
              "        text-align: right;\n",
              "    }\n",
              "</style>\n",
              "<table border=\"1\" class=\"dataframe\">\n",
              "  <thead>\n",
              "    <tr style=\"text-align: right;\">\n",
              "      <th></th>\n",
              "      <th>Class</th>\n",
              "      <th>Feature 1</th>\n",
              "      <th>Feature 2</th>\n",
              "      <th>Feature 3</th>\n",
              "      <th>Feature 4</th>\n",
              "      <th>Feature 5</th>\n",
              "      <th>Feature 6</th>\n",
              "      <th>Feature 7</th>\n",
              "      <th>Feature 8</th>\n",
              "      <th>Feature 9</th>\n",
              "      <th>...</th>\n",
              "      <th>Feature 21</th>\n",
              "      <th>Feature 22</th>\n",
              "      <th>Feature 23</th>\n",
              "      <th>Feature 24</th>\n",
              "      <th>Feature 25</th>\n",
              "      <th>Feature 26</th>\n",
              "      <th>Feature 27</th>\n",
              "      <th>Feature 28</th>\n",
              "      <th>Feature 29</th>\n",
              "      <th>Feature 30</th>\n",
              "    </tr>\n",
              "  </thead>\n",
              "  <tbody>\n",
              "    <tr>\n",
              "      <th>0</th>\n",
              "      <td>1</td>\n",
              "      <td>0.720</td>\n",
              "      <td>1.000</td>\n",
              "      <td>0.754</td>\n",
              "      <td>0.931</td>\n",
              "      <td>1.00</td>\n",
              "      <td>1.000</td>\n",
              "      <td>0.781</td>\n",
              "      <td>1.000</td>\n",
              "      <td>0.791</td>\n",
              "      <td>...</td>\n",
              "      <td>0.790</td>\n",
              "      <td>0.880</td>\n",
              "      <td>0.629</td>\n",
              "      <td>0.575</td>\n",
              "      <td>0.818</td>\n",
              "      <td>0.927</td>\n",
              "      <td>0.789</td>\n",
              "      <td>0.892</td>\n",
              "      <td>0.635</td>\n",
              "      <td>0.539</td>\n",
              "    </tr>\n",
              "    <tr>\n",
              "      <th>1</th>\n",
              "      <td>1</td>\n",
              "      <td>0.939</td>\n",
              "      <td>1.000</td>\n",
              "      <td>1.000</td>\n",
              "      <td>1.000</td>\n",
              "      <td>1.00</td>\n",
              "      <td>1.000</td>\n",
              "      <td>1.000</td>\n",
              "      <td>0.958</td>\n",
              "      <td>1.000</td>\n",
              "      <td>...</td>\n",
              "      <td>0.919</td>\n",
              "      <td>0.776</td>\n",
              "      <td>0.786</td>\n",
              "      <td>0.781</td>\n",
              "      <td>0.638</td>\n",
              "      <td>0.605</td>\n",
              "      <td>0.760</td>\n",
              "      <td>0.678</td>\n",
              "      <td>0.647</td>\n",
              "      <td>0.607</td>\n",
              "    </tr>\n",
              "    <tr>\n",
              "      <th>2</th>\n",
              "      <td>1</td>\n",
              "      <td>0.689</td>\n",
              "      <td>0.944</td>\n",
              "      <td>0.470</td>\n",
              "      <td>0.750</td>\n",
              "      <td>0.75</td>\n",
              "      <td>0.727</td>\n",
              "      <td>0.646</td>\n",
              "      <td>0.831</td>\n",
              "      <td>0.446</td>\n",
              "      <td>...</td>\n",
              "      <td>0.469</td>\n",
              "      <td>0.504</td>\n",
              "      <td>0.429</td>\n",
              "      <td>0.452</td>\n",
              "      <td>0.411</td>\n",
              "      <td>0.637</td>\n",
              "      <td>0.387</td>\n",
              "      <td>0.420</td>\n",
              "      <td>0.412</td>\n",
              "      <td>0.404</td>\n",
              "    </tr>\n",
              "    <tr>\n",
              "      <th>3</th>\n",
              "      <td>1</td>\n",
              "      <td>0.332</td>\n",
              "      <td>0.194</td>\n",
              "      <td>0.314</td>\n",
              "      <td>0.493</td>\n",
              "      <td>0.00</td>\n",
              "      <td>0.444</td>\n",
              "      <td>0.165</td>\n",
              "      <td>0.183</td>\n",
              "      <td>0.295</td>\n",
              "      <td>...</td>\n",
              "      <td>0.339</td>\n",
              "      <td>0.470</td>\n",
              "      <td>0.196</td>\n",
              "      <td>0.368</td>\n",
              "      <td>0.218</td>\n",
              "      <td>0.293</td>\n",
              "      <td>0.339</td>\n",
              "      <td>0.442</td>\n",
              "      <td>0.120</td>\n",
              "      <td>0.409</td>\n",
              "    </tr>\n",
              "    <tr>\n",
              "      <th>4</th>\n",
              "      <td>1</td>\n",
              "      <td>0.716</td>\n",
              "      <td>0.806</td>\n",
              "      <td>0.097</td>\n",
              "      <td>0.763</td>\n",
              "      <td>0.50</td>\n",
              "      <td>0.778</td>\n",
              "      <td>0.599</td>\n",
              "      <td>0.765</td>\n",
              "      <td>0.127</td>\n",
              "      <td>...</td>\n",
              "      <td>0.036</td>\n",
              "      <td>0.813</td>\n",
              "      <td>0.430</td>\n",
              "      <td>0.632</td>\n",
              "      <td>0.654</td>\n",
              "      <td>0.841</td>\n",
              "      <td>0.064</td>\n",
              "      <td>0.756</td>\n",
              "      <td>0.287</td>\n",
              "      <td>0.636</td>\n",
              "    </tr>\n",
              "  </tbody>\n",
              "</table>\n",
              "<p>5 rows × 31 columns</p>\n",
              "</div>\n",
              "      <button class=\"colab-df-convert\" onclick=\"convertToInteractive('df-602d5aed-ea4d-4169-908a-b44c424d0172')\"\n",
              "              title=\"Convert this dataframe to an interactive table.\"\n",
              "              style=\"display:none;\">\n",
              "        \n",
              "  <svg xmlns=\"http://www.w3.org/2000/svg\" height=\"24px\"viewBox=\"0 0 24 24\"\n",
              "       width=\"24px\">\n",
              "    <path d=\"M0 0h24v24H0V0z\" fill=\"none\"/>\n",
              "    <path d=\"M18.56 5.44l.94 2.06.94-2.06 2.06-.94-2.06-.94-.94-2.06-.94 2.06-2.06.94zm-11 1L8.5 8.5l.94-2.06 2.06-.94-2.06-.94L8.5 2.5l-.94 2.06-2.06.94zm10 10l.94 2.06.94-2.06 2.06-.94-2.06-.94-.94-2.06-.94 2.06-2.06.94z\"/><path d=\"M17.41 7.96l-1.37-1.37c-.4-.4-.92-.59-1.43-.59-.52 0-1.04.2-1.43.59L10.3 9.45l-7.72 7.72c-.78.78-.78 2.05 0 2.83L4 21.41c.39.39.9.59 1.41.59.51 0 1.02-.2 1.41-.59l7.78-7.78 2.81-2.81c.8-.78.8-2.07 0-2.86zM5.41 20L4 18.59l7.72-7.72 1.47 1.35L5.41 20z\"/>\n",
              "  </svg>\n",
              "      </button>\n",
              "      \n",
              "  <style>\n",
              "    .colab-df-container {\n",
              "      display:flex;\n",
              "      flex-wrap:wrap;\n",
              "      gap: 12px;\n",
              "    }\n",
              "\n",
              "    .colab-df-convert {\n",
              "      background-color: #E8F0FE;\n",
              "      border: none;\n",
              "      border-radius: 50%;\n",
              "      cursor: pointer;\n",
              "      display: none;\n",
              "      fill: #1967D2;\n",
              "      height: 32px;\n",
              "      padding: 0 0 0 0;\n",
              "      width: 32px;\n",
              "    }\n",
              "\n",
              "    .colab-df-convert:hover {\n",
              "      background-color: #E2EBFA;\n",
              "      box-shadow: 0px 1px 2px rgba(60, 64, 67, 0.3), 0px 1px 3px 1px rgba(60, 64, 67, 0.15);\n",
              "      fill: #174EA6;\n",
              "    }\n",
              "\n",
              "    [theme=dark] .colab-df-convert {\n",
              "      background-color: #3B4455;\n",
              "      fill: #D2E3FC;\n",
              "    }\n",
              "\n",
              "    [theme=dark] .colab-df-convert:hover {\n",
              "      background-color: #434B5C;\n",
              "      box-shadow: 0px 1px 3px 1px rgba(0, 0, 0, 0.15);\n",
              "      filter: drop-shadow(0px 1px 2px rgba(0, 0, 0, 0.3));\n",
              "      fill: #FFFFFF;\n",
              "    }\n",
              "  </style>\n",
              "\n",
              "      <script>\n",
              "        const buttonEl =\n",
              "          document.querySelector('#df-602d5aed-ea4d-4169-908a-b44c424d0172 button.colab-df-convert');\n",
              "        buttonEl.style.display =\n",
              "          google.colab.kernel.accessAllowed ? 'block' : 'none';\n",
              "\n",
              "        async function convertToInteractive(key) {\n",
              "          const element = document.querySelector('#df-602d5aed-ea4d-4169-908a-b44c424d0172');\n",
              "          const dataTable =\n",
              "            await google.colab.kernel.invokeFunction('convertToInteractive',\n",
              "                                                     [key], {});\n",
              "          if (!dataTable) return;\n",
              "\n",
              "          const docLinkHtml = 'Like what you see? Visit the ' +\n",
              "            '<a target=\"_blank\" href=https://colab.research.google.com/notebooks/data_table.ipynb>data table notebook</a>'\n",
              "            + ' to learn more about interactive tables.';\n",
              "          element.innerHTML = '';\n",
              "          dataTable['output_type'] = 'display_data';\n",
              "          await google.colab.output.renderOutput(dataTable, element);\n",
              "          const docLink = document.createElement('div');\n",
              "          docLink.innerHTML = docLinkHtml;\n",
              "          element.appendChild(docLink);\n",
              "        }\n",
              "      </script>\n",
              "    </div>\n",
              "  </div>\n",
              "  "
            ]
          },
          "metadata": {},
          "execution_count": 10
        }
      ],
      "source": [
        "print ('Set B')\n",
        "SetB.head()"
      ]
    },
    {
      "cell_type": "code",
      "execution_count": null,
      "metadata": {
        "colab": {
          "base_uri": "https://localhost:8080/"
        },
        "id": "6hPhyfrhMugq",
        "outputId": "89047bc9-c02b-4ee0-e93d-91525547abf9"
      },
      "outputs": [
        {
          "output_type": "stream",
          "name": "stdout",
          "text": [
            "Set B\n",
            "<class 'pandas.core.frame.DataFrame'>\n",
            "RangeIndex: 4221 entries, 0 to 4220\n",
            "Data columns (total 31 columns):\n",
            " #   Column      Non-Null Count  Dtype  \n",
            "---  ------      --------------  -----  \n",
            " 0   Class       4221 non-null   int64  \n",
            " 1   Feature 1   4221 non-null   float64\n",
            " 2   Feature 2   4221 non-null   float64\n",
            " 3   Feature 3   4221 non-null   float64\n",
            " 4   Feature 4   4221 non-null   float64\n",
            " 5   Feature 5   4221 non-null   float64\n",
            " 6   Feature 6   4221 non-null   float64\n",
            " 7   Feature 7   4221 non-null   float64\n",
            " 8   Feature 8   4221 non-null   float64\n",
            " 9   Feature 9   4221 non-null   float64\n",
            " 10  Feature 10  4221 non-null   float64\n",
            " 11  Feature 11  4221 non-null   float64\n",
            " 12  Feature 12  4221 non-null   float64\n",
            " 13  Feature 13  4221 non-null   float64\n",
            " 14  Feature 14  4221 non-null   float64\n",
            " 15  Feature 15  4221 non-null   float64\n",
            " 16  Feature 16  4221 non-null   float64\n",
            " 17  Feature 17  4221 non-null   float64\n",
            " 18  Feature 18  4221 non-null   float64\n",
            " 19  Feature 19  4221 non-null   float64\n",
            " 20  Feature 20  4221 non-null   float64\n",
            " 21  Feature 21  4221 non-null   float64\n",
            " 22  Feature 22  4221 non-null   float64\n",
            " 23  Feature 23  4221 non-null   float64\n",
            " 24  Feature 24  4221 non-null   float64\n",
            " 25  Feature 25  4221 non-null   float64\n",
            " 26  Feature 26  4221 non-null   float64\n",
            " 27  Feature 27  4221 non-null   float64\n",
            " 28  Feature 28  4221 non-null   float64\n",
            " 29  Feature 29  4221 non-null   float64\n",
            " 30  Feature 30  4221 non-null   float64\n",
            "dtypes: float64(30), int64(1)\n",
            "memory usage: 1022.4 KB\n"
          ]
        }
      ],
      "source": [
        "print('Set B')\n",
        "SetB.info()"
      ]
    },
    {
      "cell_type": "code",
      "execution_count": null,
      "metadata": {
        "colab": {
          "base_uri": "https://localhost:8080/"
        },
        "id": "idTaeevwMugr",
        "outputId": "8a7594d9-6e55-4c3e-ad03-301d871bded9"
      },
      "outputs": [
        {
          "output_type": "stream",
          "name": "stdout",
          "text": [
            "Set B: (4221, 31)\n"
          ]
        }
      ],
      "source": [
        "#Print the contents in the datasets\n",
        "print(\"Set B:\", SetB.shape)"
      ]
    },
    {
      "cell_type": "code",
      "execution_count": null,
      "metadata": {
        "colab": {
          "base_uri": "https://localhost:8080/"
        },
        "id": "bzSBYxrRMugr",
        "outputId": "66d68f99-d35d-419f-cc18-1425c7901830"
      },
      "outputs": [
        {
          "output_type": "execute_result",
          "data": {
            "text/plain": [
              "-1    3761\n",
              " 1     460\n",
              "Name: Class, dtype: int64"
            ]
          },
          "metadata": {},
          "execution_count": 13
        }
      ],
      "source": [
        "SetB.iloc[:,0].value_counts()"
      ]
    },
    {
      "cell_type": "code",
      "execution_count": null,
      "metadata": {
        "colab": {
          "base_uri": "https://localhost:8080/"
        },
        "id": "khOe6IuJMugr",
        "outputId": "505d43a2-19bb-4591-8c3a-05fcd12a1f40"
      },
      "outputs": [
        {
          "output_type": "stream",
          "name": "stdout",
          "text": [
            "SET B\n"
          ]
        },
        {
          "output_type": "display_data",
          "data": {
            "text/plain": [
              "<Figure size 640x480 with 1 Axes>"
            ],
            "image/png": "[encoded data removed]"
          },
          "metadata": {}
        }
      ],
      "source": [
        "SetB.Class.value_counts().plot(kind='bar')\n",
        "print (\"SET B\")"
      ]
    },
    {
      "cell_type": "code",
      "execution_count": null,
      "metadata": {
        "id": "uNl5Wpc_Mugr"
      },
      "outputs": [],
      "source": [
        "# Remove all null value\n",
        "SetB.dropna(inplace=True)"
      ]
    },
    {
      "cell_type": "markdown",
      "metadata": {
        "id": "ck5HAyeZNCIj"
      },
      "source": [
        "#SET C"
      ]
    },
    {
      "cell_type": "code",
      "execution_count": null,
      "metadata": {
        "colab": {
          "base_uri": "https://localhost:8080/"
        },
        "id": "XL9hemLcNRC8",
        "outputId": "c266bbe1-72c6-4df3-801d-547d864a76b1"
      },
      "outputs": [
        {
          "output_type": "stream",
          "name": "stdout",
          "text": [
            "Set C\n"
          ]
        },
        {
          "output_type": "execute_result",
          "data": {
            "text/plain": [
              "   Feature 1  Feature 2  Feature 3  Feature 4  Feature 5  Feature 6  \\\n",
              "0      0.720      1.000      0.754      0.931       1.00      1.000   \n",
              "1      0.939      1.000      1.000      1.000       1.00      1.000   \n",
              "2      0.689      0.944      0.470      0.750       0.75      0.727   \n",
              "3      0.332      0.194      0.314      0.493       0.00      0.444   \n",
              "4      0.716      0.806      0.097      0.763       0.50      0.778   \n",
              "\n",
              "   Feature 7  Feature 8  Feature 9  Feature 10  ...  Feature 22  Feature 23  \\\n",
              "0      0.781      1.000      0.791       0.960  ...       0.880       0.629   \n",
              "1      1.000      0.958      1.000       1.000  ...       0.776       0.786   \n",
              "2      0.646      0.831      0.446       0.663  ...       0.504       0.429   \n",
              "3      0.165      0.183      0.295       0.375  ...       0.470       0.196   \n",
              "4      0.599      0.765      0.127       0.711  ...       0.813       0.430   \n",
              "\n",
              "   Feature 24  Feature 25  Feature 26  Feature 27  Feature 28  Feature 29  \\\n",
              "0       0.575       0.818       0.927       0.789       0.892       0.635   \n",
              "1       0.781       0.638       0.605       0.760       0.678       0.647   \n",
              "2       0.452       0.411       0.637       0.387       0.420       0.412   \n",
              "3       0.368       0.218       0.293       0.339       0.442       0.120   \n",
              "4       0.632       0.654       0.841       0.064       0.756       0.287   \n",
              "\n",
              "   Feature 30  Class  \n",
              "0       0.539      1  \n",
              "1       0.607      1  \n",
              "2       0.404      1  \n",
              "3       0.409      1  \n",
              "4       0.636      1  \n",
              "\n",
              "[5 rows x 31 columns]"
            ],
            "text/html": [
              "\n",
              "  <div id=\"df-3aad8810-fc02-4f20-bd9e-6132e5694382\">\n",
              "    <div class=\"colab-df-container\">\n",
              "      <div>\n",
              "<style scoped>\n",
              "    .dataframe tbody tr th:only-of-type {\n",
              "        vertical-align: middle;\n",
              "    }\n",
              "\n",
              "    .dataframe tbody tr th {\n",
              "        vertical-align: top;\n",
              "    }\n",
              "\n",
              "    .dataframe thead th {\n",
              "        text-align: right;\n",
              "    }\n",
              "</style>\n",
              "<table border=\"1\" class=\"dataframe\">\n",
              "  <thead>\n",
              "    <tr style=\"text-align: right;\">\n",
              "      <th></th>\n",
              "      <th>Feature 1</th>\n",
              "      <th>Feature 2</th>\n",
              "      <th>Feature 3</th>\n",
              "      <th>Feature 4</th>\n",
              "      <th>Feature 5</th>\n",
              "      <th>Feature 6</th>\n",
              "      <th>Feature 7</th>\n",
              "      <th>Feature 8</th>\n",
              "      <th>Feature 9</th>\n",
              "      <th>Feature 10</th>\n",
              "      <th>...</th>\n",
              "      <th>Feature 22</th>\n",
              "      <th>Feature 23</th>\n",
              "      <th>Feature 24</th>\n",
              "      <th>Feature 25</th>\n",
              "      <th>Feature 26</th>\n",
              "      <th>Feature 27</th>\n",
              "      <th>Feature 28</th>\n",
              "      <th>Feature 29</th>\n",
              "      <th>Feature 30</th>\n",
              "      <th>Class</th>\n",
              "    </tr>\n",
              "  </thead>\n",
              "  <tbody>\n",
              "    <tr>\n",
              "      <th>0</th>\n",
              "      <td>0.720</td>\n",
              "      <td>1.000</td>\n",
              "      <td>0.754</td>\n",
              "      <td>0.931</td>\n",
              "      <td>1.00</td>\n",
              "      <td>1.000</td>\n",
              "      <td>0.781</td>\n",
              "      <td>1.000</td>\n",
              "      <td>0.791</td>\n",
              "      <td>0.960</td>\n",
              "      <td>...</td>\n",
              "      <td>0.880</td>\n",
              "      <td>0.629</td>\n",
              "      <td>0.575</td>\n",
              "      <td>0.818</td>\n",
              "      <td>0.927</td>\n",
              "      <td>0.789</td>\n",
              "      <td>0.892</td>\n",
              "      <td>0.635</td>\n",
              "      <td>0.539</td>\n",
              "      <td>1</td>\n",
              "    </tr>\n",
              "    <tr>\n",
              "      <th>1</th>\n",
              "      <td>0.939</td>\n",
              "      <td>1.000</td>\n",
              "      <td>1.000</td>\n",
              "      <td>1.000</td>\n",
              "      <td>1.00</td>\n",
              "      <td>1.000</td>\n",
              "      <td>1.000</td>\n",
              "      <td>0.958</td>\n",
              "      <td>1.000</td>\n",
              "      <td>1.000</td>\n",
              "      <td>...</td>\n",
              "      <td>0.776</td>\n",
              "      <td>0.786</td>\n",
              "      <td>0.781</td>\n",
              "      <td>0.638</td>\n",
              "      <td>0.605</td>\n",
              "      <td>0.760</td>\n",
              "      <td>0.678</td>\n",
              "      <td>0.647</td>\n",
              "      <td>0.607</td>\n",
              "      <td>1</td>\n",
              "    </tr>\n",
              "    <tr>\n",
              "      <th>2</th>\n",
              "      <td>0.689</td>\n",
              "      <td>0.944</td>\n",
              "      <td>0.470</td>\n",
              "      <td>0.750</td>\n",
              "      <td>0.75</td>\n",
              "      <td>0.727</td>\n",
              "      <td>0.646</td>\n",
              "      <td>0.831</td>\n",
              "      <td>0.446</td>\n",
              "      <td>0.663</td>\n",
              "      <td>...</td>\n",
              "      <td>0.504</td>\n",
              "      <td>0.429</td>\n",
              "      <td>0.452</td>\n",
              "      <td>0.411</td>\n",
              "      <td>0.637</td>\n",
              "      <td>0.387</td>\n",
              "      <td>0.420</td>\n",
              "      <td>0.412</td>\n",
              "      <td>0.404</td>\n",
              "      <td>1</td>\n",
              "    </tr>\n",
              "    <tr>\n",
              "      <th>3</th>\n",
              "      <td>0.332</td>\n",
              "      <td>0.194</td>\n",
              "      <td>0.314</td>\n",
              "      <td>0.493</td>\n",
              "      <td>0.00</td>\n",
              "      <td>0.444</td>\n",
              "      <td>0.165</td>\n",
              "      <td>0.183</td>\n",
              "      <td>0.295</td>\n",
              "      <td>0.375</td>\n",
              "      <td>...</td>\n",
              "      <td>0.470</td>\n",
              "      <td>0.196</td>\n",
              "      <td>0.368</td>\n",
              "      <td>0.218</td>\n",
              "      <td>0.293</td>\n",
              "      <td>0.339</td>\n",
              "      <td>0.442</td>\n",
              "      <td>0.120</td>\n",
              "      <td>0.409</td>\n",
              "      <td>1</td>\n",
              "    </tr>\n",
              "    <tr>\n",
              "      <th>4</th>\n",
              "      <td>0.716</td>\n",
              "      <td>0.806</td>\n",
              "      <td>0.097</td>\n",
              "      <td>0.763</td>\n",
              "      <td>0.50</td>\n",
              "      <td>0.778</td>\n",
              "      <td>0.599</td>\n",
              "      <td>0.765</td>\n",
              "      <td>0.127</td>\n",
              "      <td>0.711</td>\n",
              "      <td>...</td>\n",
              "      <td>0.813</td>\n",
              "      <td>0.430</td>\n",
              "      <td>0.632</td>\n",
              "      <td>0.654</td>\n",
              "      <td>0.841</td>\n",
              "      <td>0.064</td>\n",
              "      <td>0.756</td>\n",
              "      <td>0.287</td>\n",
              "      <td>0.636</td>\n",
              "      <td>1</td>\n",
              "    </tr>\n",
              "  </tbody>\n",
              "</table>\n",
              "<p>5 rows × 31 columns</p>\n",
              "</div>\n",
              "      <button class=\"colab-df-convert\" onclick=\"convertToInteractive('df-3aad8810-fc02-4f20-bd9e-6132e5694382')\"\n",
              "              title=\"Convert this dataframe to an interactive table.\"\n",
              "              style=\"display:none;\">\n",
              "        \n",
              "  <svg xmlns=\"http://www.w3.org/2000/svg\" height=\"24px\"viewBox=\"0 0 24 24\"\n",
              "       width=\"24px\">\n",
              "    <path d=\"M0 0h24v24H0V0z\" fill=\"none\"/>\n",
              "    <path d=\"M18.56 5.44l.94 2.06.94-2.06 2.06-.94-2.06-.94-.94-2.06-.94 2.06-2.06.94zm-11 1L8.5 8.5l.94-2.06 2.06-.94-2.06-.94L8.5 2.5l-.94 2.06-2.06.94zm10 10l.94 2.06.94-2.06 2.06-.94-2.06-.94-.94-2.06-.94 2.06-2.06.94z\"/><path d=\"M17.41 7.96l-1.37-1.37c-.4-.4-.92-.59-1.43-.59-.52 0-1.04.2-1.43.59L10.3 9.45l-7.72 7.72c-.78.78-.78 2.05 0 2.83L4 21.41c.39.39.9.59 1.41.59.51 0 1.02-.2 1.41-.59l7.78-7.78 2.81-2.81c.8-.78.8-2.07 0-2.86zM5.41 20L4 18.59l7.72-7.72 1.47 1.35L5.41 20z\"/>\n",
              "  </svg>\n",
              "      </button>\n",
              "      \n",
              "  <style>\n",
              "    .colab-df-container {\n",
              "      display:flex;\n",
              "      flex-wrap:wrap;\n",
              "      gap: 12px;\n",
              "    }\n",
              "\n",
              "    .colab-df-convert {\n",
              "      background-color: #E8F0FE;\n",
              "      border: none;\n",
              "      border-radius: 50%;\n",
              "      cursor: pointer;\n",
              "      display: none;\n",
              "      fill: #1967D2;\n",
              "      height: 32px;\n",
              "      padding: 0 0 0 0;\n",
              "      width: 32px;\n",
              "    }\n",
              "\n",
              "    .colab-df-convert:hover {\n",
              "      background-color: #E2EBFA;\n",
              "      box-shadow: 0px 1px 2px rgba(60, 64, 67, 0.3), 0px 1px 3px 1px rgba(60, 64, 67, 0.15);\n",
              "      fill: #174EA6;\n",
              "    }\n",
              "\n",
              "    [theme=dark] .colab-df-convert {\n",
              "      background-color: #3B4455;\n",
              "      fill: #D2E3FC;\n",
              "    }\n",
              "\n",
              "    [theme=dark] .colab-df-convert:hover {\n",
              "      background-color: #434B5C;\n",
              "      box-shadow: 0px 1px 3px 1px rgba(0, 0, 0, 0.15);\n",
              "      filter: drop-shadow(0px 1px 2px rgba(0, 0, 0, 0.3));\n",
              "      fill: #FFFFFF;\n",
              "    }\n",
              "  </style>\n",
              "\n",
              "      <script>\n",
              "        const buttonEl =\n",
              "          document.querySelector('#df-3aad8810-fc02-4f20-bd9e-6132e5694382 button.colab-df-convert');\n",
              "        buttonEl.style.display =\n",
              "          google.colab.kernel.accessAllowed ? 'block' : 'none';\n",
              "\n",
              "        async function convertToInteractive(key) {\n",
              "          const element = document.querySelector('#df-3aad8810-fc02-4f20-bd9e-6132e5694382');\n",
              "          const dataTable =\n",
              "            await google.colab.kernel.invokeFunction('convertToInteractive',\n",
              "                                                     [key], {});\n",
              "          if (!dataTable) return;\n",
              "\n",
              "          const docLinkHtml = 'Like what you see? Visit the ' +\n",
              "            '<a target=\"_blank\" href=https://colab.research.google.com/notebooks/data_table.ipynb>data table notebook</a>'\n",
              "            + ' to learn more about interactive tables.';\n",
              "          element.innerHTML = '';\n",
              "          dataTable['output_type'] = 'display_data';\n",
              "          await google.colab.output.renderOutput(dataTable, element);\n",
              "          const docLink = document.createElement('div');\n",
              "          docLink.innerHTML = docLinkHtml;\n",
              "          element.appendChild(docLink);\n",
              "        }\n",
              "      </script>\n",
              "    </div>\n",
              "  </div>\n",
              "  "
            ]
          },
          "metadata": {},
          "execution_count": 16
        }
      ],
      "source": [
        "print ('Set C')\n",
        "SetC.head()"
      ]
    },
    {
      "cell_type": "code",
      "execution_count": null,
      "metadata": {
        "colab": {
          "base_uri": "https://localhost:8080/"
        },
        "id": "xpQzeGw1NRC8",
        "outputId": "fac7ea14-79a1-480d-eaab-c45fb872c528"
      },
      "outputs": [
        {
          "output_type": "stream",
          "name": "stdout",
          "text": [
            "Set C\n",
            "<class 'pandas.core.frame.DataFrame'>\n",
            "RangeIndex: 4549 entries, 0 to 4548\n",
            "Data columns (total 31 columns):\n",
            " #   Column      Non-Null Count  Dtype  \n",
            "---  ------      --------------  -----  \n",
            " 0   Feature 1   4549 non-null   float64\n",
            " 1   Feature 2   4549 non-null   float64\n",
            " 2   Feature 3   4549 non-null   float64\n",
            " 3   Feature 4   4549 non-null   float64\n",
            " 4   Feature 5   4549 non-null   float64\n",
            " 5   Feature 6   4549 non-null   float64\n",
            " 6   Feature 7   4549 non-null   float64\n",
            " 7   Feature 8   4549 non-null   float64\n",
            " 8   Feature 9   4549 non-null   float64\n",
            " 9   Feature 10  4549 non-null   float64\n",
            " 10  Feature 11  4549 non-null   float64\n",
            " 11  Feature 12  4549 non-null   float64\n",
            " 12  Feature 13  4549 non-null   float64\n",
            " 13  Feature 14  4549 non-null   float64\n",
            " 14  Feature 15  4549 non-null   float64\n",
            " 15  Feature 16  4549 non-null   float64\n",
            " 16  Feature 17  4549 non-null   float64\n",
            " 17  Feature 18  4549 non-null   float64\n",
            " 18  Feature 19  4549 non-null   float64\n",
            " 19  Feature 20  4549 non-null   float64\n",
            " 20  Feature 21  4549 non-null   float64\n",
            " 21  Feature 22  4549 non-null   float64\n",
            " 22  Feature 23  4549 non-null   float64\n",
            " 23  Feature 24  4549 non-null   float64\n",
            " 24  Feature 25  4549 non-null   float64\n",
            " 25  Feature 26  4549 non-null   float64\n",
            " 26  Feature 27  4549 non-null   float64\n",
            " 27  Feature 28  4549 non-null   float64\n",
            " 28  Feature 29  4549 non-null   float64\n",
            " 29  Feature 30  4549 non-null   float64\n",
            " 30  Class       4549 non-null   int64  \n",
            "dtypes: float64(30), int64(1)\n",
            "memory usage: 1.1 MB\n"
          ]
        }
      ],
      "source": [
        "print('Set C')\n",
        "SetC.info()"
      ]
    },
    {
      "cell_type": "code",
      "execution_count": null,
      "metadata": {
        "colab": {
          "base_uri": "https://localhost:8080/"
        },
        "id": "5zCETjKANRC9",
        "outputId": "66267ba9-9a21-4c3a-b699-5003bdf5416a"
      },
      "outputs": [
        {
          "output_type": "stream",
          "name": "stdout",
          "text": [
            "Set C: (4549, 31)\n"
          ]
        }
      ],
      "source": [
        "#Print the contents in the datasets\n",
        "print(\"Set C:\", SetC.shape)"
      ]
    },
    {
      "cell_type": "code",
      "execution_count": null,
      "metadata": {
        "colab": {
          "base_uri": "https://localhost:8080/"
        },
        "id": "-G3eRm_mNRC9",
        "outputId": "fadf47ed-d49f-414e-8e7e-6e931fa73dd6"
      },
      "outputs": [
        {
          "output_type": "execute_result",
          "data": {
            "text/plain": [
              "-1    4089\n",
              " 1     460\n",
              "Name: Class, dtype: int64"
            ]
          },
          "metadata": {},
          "execution_count": 19
        }
      ],
      "source": [
        "SetC.iloc[:,30].value_counts()"
      ]
    },
    {
      "cell_type": "code",
      "execution_count": null,
      "metadata": {
        "colab": {
          "base_uri": "https://localhost:8080/"
        },
        "id": "CyZWz8nTNRC9",
        "outputId": "f3c8e780-3df5-4196-bcb2-f1a4f3f575a3"
      },
      "outputs": [
        {
          "output_type": "stream",
          "name": "stdout",
          "text": [
            "SET C\n"
          ]
        },
        {
          "output_type": "display_data",
          "data": {
            "text/plain": [
              "<Figure size 640x480 with 1 Axes>"
            ],
            "image/png": "[encoded data removed]"
          },
          "metadata": {}
        }
      ],
      "source": [
        "SetC.Class.value_counts().plot(kind='bar')\n",
        "print (\"SET C\")"
      ]
    },
    {
      "cell_type": "code",
      "execution_count": null,
      "metadata": {
        "id": "-f9msMunNRC9"
      },
      "outputs": [],
      "source": [
        "# Remove all null value\n",
        "SetC.dropna(inplace=True)"
      ]
    },
    {
      "cell_type": "markdown",
      "metadata": {
        "id": "YP4H778bvNPD"
      },
      "source": [
        "# **SMOTE IMPLEMENTATION**"
      ]
    },
    {
      "cell_type": "markdown",
      "metadata": {
        "id": "WVkIm5db1CDh"
      },
      "source": [
        "#SET A"
      ]
    },
    {
      "cell_type": "code",
      "execution_count": null,
      "metadata": {
        "id": "cv4fy8qdlt4T"
      },
      "outputs": [],
      "source": [
        "#divide data into attribute and label\n",
        "\n",
        "x1 = SetA.drop('Class', axis=1)  #feature matrix\n",
        "y1 = SetA['Class']               #target feature"
      ]
    },
    {
      "cell_type": "code",
      "execution_count": null,
      "metadata": {
        "id": "uwc4PaWklt4T"
      },
      "outputs": [],
      "source": [
        "from sklearn.preprocessing import LabelEncoder\n",
        "encoder1 = LabelEncoder()\n",
        "encoder1.fit(y1)\n",
        "encoded_y_res1 = encoder1.transform(y1)"
      ]
    },
    {
      "cell_type": "code",
      "execution_count": null,
      "metadata": {
        "id": "vKBFgS-fvGuO"
      },
      "outputs": [],
      "source": [
        "from imblearn.over_sampling import SMOTE\n",
        "sm1 = SMOTE(random_state=42)\n",
        "X_res1, y_res1 = sm1.fit_resample(x1, y1)"
      ]
    },
    {
      "cell_type": "code",
      "execution_count": null,
      "metadata": {
        "colab": {
          "base_uri": "https://localhost:8080/"
        },
        "id": "J5O84Pr6wJN0",
        "outputId": "43d3f2c0-13f0-4bf6-8613-d1dd05504a9f"
      },
      "outputs": [
        {
          "output_type": "stream",
          "name": "stdout",
          "text": [
            "(20220, 30)\n",
            "(20220,)\n"
          ]
        }
      ],
      "source": [
        "print(X_res1.shape)\n",
        "print (y_res1.shape)"
      ]
    },
    {
      "cell_type": "markdown",
      "metadata": {
        "id": "4zHU8MiWkeg4"
      },
      "source": [
        "#SET B"
      ]
    },
    {
      "cell_type": "code",
      "execution_count": null,
      "metadata": {
        "id": "_m70P-spNxYM"
      },
      "outputs": [],
      "source": [
        "#divide data into attribute and label\n",
        "\n",
        "x2 = SetB.drop('Class', axis=1)  #feature matrix\n",
        "y2 = SetB['Class']               #target feature"
      ]
    },
    {
      "cell_type": "code",
      "execution_count": null,
      "metadata": {
        "id": "ECCt70YpkjUe"
      },
      "outputs": [],
      "source": [
        "from sklearn.preprocessing import LabelEncoder\n",
        "encoder2 = LabelEncoder()\n",
        "encoder2.fit(y2)\n",
        "encoded_y_res2 = encoder2.transform(y2)"
      ]
    },
    {
      "cell_type": "code",
      "execution_count": null,
      "metadata": {
        "id": "23ZGBYMUl0il"
      },
      "outputs": [],
      "source": [
        "from imblearn.over_sampling import SMOTE\n",
        "sm2 = SMOTE(random_state=42)\n",
        "X_res2, y_res2 = sm2.fit_resample(x2, y2)"
      ]
    },
    {
      "cell_type": "code",
      "execution_count": null,
      "metadata": {
        "colab": {
          "base_uri": "https://localhost:8080/"
        },
        "id": "fbn18c7Vl0il",
        "outputId": "66dc3b59-8b9d-413c-bed9-d9ffd8f4ad7a"
      },
      "outputs": [
        {
          "output_type": "stream",
          "name": "stdout",
          "text": [
            "(7522, 30)\n",
            "(7522,)\n"
          ]
        }
      ],
      "source": [
        "print(X_res2.shape)\n",
        "print (y_res2.shape)"
      ]
    },
    {
      "cell_type": "markdown",
      "metadata": {
        "id": "UdanbJw_l6kh"
      },
      "source": [
        "#SET C"
      ]
    },
    {
      "cell_type": "code",
      "execution_count": null,
      "metadata": {
        "id": "0s-El5j_l9lb"
      },
      "outputs": [],
      "source": [
        "#divide data into attribute and label\n",
        "\n",
        "x3 = SetC.drop('Class', axis=1)  #feature matrix\n",
        "y3 = SetC['Class']               #target feature"
      ]
    },
    {
      "cell_type": "code",
      "execution_count": null,
      "metadata": {
        "id": "i1imdksMl9lb"
      },
      "outputs": [],
      "source": [
        "from sklearn.preprocessing import LabelEncoder\n",
        "encoder3 = LabelEncoder()\n",
        "encoder3.fit(y3)\n",
        "encoded_y_res3 = encoder3.transform(y3)"
      ]
    },
    {
      "cell_type": "code",
      "execution_count": null,
      "metadata": {
        "id": "eysFWc3Al9lc"
      },
      "outputs": [],
      "source": [
        "from imblearn.over_sampling import SMOTE\n",
        "sm3 = SMOTE(random_state=42)\n",
        "X_res3, y_res3 = sm3.fit_resample(x3, y3)"
      ]
    },
    {
      "cell_type": "code",
      "execution_count": null,
      "metadata": {
        "colab": {
          "base_uri": "https://localhost:8080/"
        },
        "id": "o3QKNfxHl9lc",
        "outputId": "b1104ccd-10ed-406b-81b4-db1a3e27f966"
      },
      "outputs": [
        {
          "output_type": "stream",
          "name": "stdout",
          "text": [
            "(8178, 30)\n",
            "(8178,)\n"
          ]
        }
      ],
      "source": [
        "print(X_res3.shape)\n",
        "print (y_res3.shape)"
      ]
    },
    {
      "cell_type": "markdown",
      "metadata": {
        "id": "m2jZUZMXpQlg"
      },
      "source": [
        "# **FEATURE SELECTION (RANDOM FOREST)**"
      ]
    },
    {
      "cell_type": "markdown",
      "metadata": {
        "id": "JR2ItZgIX93v"
      },
      "source": [
        "#SET A"
      ]
    },
    {
      "cell_type": "code",
      "execution_count": null,
      "metadata": {
        "id": "hVnE98e_rELB"
      },
      "outputs": [],
      "source": [
        "# Remove all null value\n",
        "SetA.dropna(inplace=True)"
      ]
    },
    {
      "cell_type": "code",
      "execution_count": null,
      "metadata": {
        "id": "IGdQm47MQ3fE"
      },
      "outputs": [],
      "source": [
        "#encode class values as integers\n",
        "#Set A\n",
        "from sklearn.preprocessing import LabelEncoder\n",
        "encoder_res1 = LabelEncoder()\n",
        "encoder_res1.fit(y_res1)\n",
        "encoded_y_res1 = encoder_res1.transform(y_res1)"
      ]
    },
    {
      "cell_type": "code",
      "execution_count": null,
      "metadata": {
        "colab": {
          "base_uri": "https://localhost:8080/"
        },
        "id": "BDrgnL9De8Tp",
        "outputId": "93891807-c69c-4660-9f55-3d2cf4a97221"
      },
      "outputs": [
        {
          "output_type": "execute_result",
          "data": {
            "text/plain": [
              "Index(['Feature_1', 'Feature_2', 'Feature_3', 'Feature_4', 'Feature_5',\n",
              "       'Feature_6', 'Feature_7', 'Feature_8', 'Feature_9', 'Feature_10',\n",
              "       'Feature_11', 'Feature_12', 'Feature_13', 'Feature_14', 'Feature_15',\n",
              "       'Feature_16', 'Feature_17', 'Feature_18', 'Feature_19', 'Feature_20',\n",
              "       'Feature_21', 'Feature_22', 'Feature_23', 'Feature_24', 'Feature_25',\n",
              "       'Feature_26', 'Feature_27', 'Feature_28', 'Feature_29', 'Feature_30'],\n",
              "      dtype='object')"
            ]
          },
          "metadata": {},
          "execution_count": 36
        }
      ],
      "source": [
        "features1 = X_res1.columns\n",
        "features1"
      ]
    },
    {
      "cell_type": "code",
      "execution_count": null,
      "metadata": {
        "colab": {
          "base_uri": "https://localhost:8080/"
        },
        "id": "4-ga9VtXpK8K",
        "outputId": "d9faf7cc-507b-4b73-ddcc-0daed159f52b"
      },
      "outputs": [
        {
          "output_type": "stream",
          "name": "stdout",
          "text": [
            "Shape of training data x1: (14154, 30)\n",
            "Shape of testing data x1: (6066, 30)\n",
            "Shape of training data y1: (14154,)\n",
            "Shape of testing data y1: (6066,)\n"
          ]
        }
      ],
      "source": [
        "from sklearn.model_selection import train_test_split\n",
        "\n",
        "X_train1,X_test1,y_train1,y_test1 = train_test_split(X_res1,y_res1,random_state = 42,test_size =0.30)\n",
        "print(\"Shape of training data x1:\", X_train1.shape)\n",
        "print(\"Shape of testing data x1:\", X_test1.shape)\n",
        "print(\"Shape of training data y1:\",y_train1.shape)\n",
        "print(\"Shape of testing data y1:\", y_test1.shape)"
      ]
    },
    {
      "cell_type": "code",
      "execution_count": null,
      "metadata": {
        "id": "HVRChPm9cRSY"
      },
      "outputs": [],
      "source": [
        "from sklearn.ensemble import RandomForestClassifier\n",
        "from sklearn.feature_selection import RFE,SelectFromModel\n",
        "from sklearn import metrics\n",
        "\n",
        "rf_w1 = RandomForestClassifier(random_state=42, n_estimators=200)\n",
        "rf_w1.fit(X_train1, y_train1)\n",
        "y_pred_rf_w1 = rf_w1.predict(X_test1)\n",
        "#metrics.accuracy_score(y_test1,y_pred_rf_w1)"
      ]
    },
    {
      "cell_type": "code",
      "execution_count": null,
      "metadata": {
        "id": "Xzv8wpJXsgBt",
        "colab": {
          "base_uri": "https://localhost:8080/"
        },
        "outputId": "2b75b10b-e7a1-4949-91a9-c71e29a3ab46"
      },
      "outputs": [
        {
          "output_type": "execute_result",
          "data": {
            "text/plain": [
              "<Axes: xlabel='Features', ylabel='Importances'>"
            ]
          },
          "metadata": {},
          "execution_count": 39
        },
        {
          "output_type": "display_data",
          "data": {
            "text/plain": [
              "<Figure size 1000x300 with 1 Axes>"
            ],
            "image/png": "[encoded data removed]"
          },
          "metadata": {}
        }
      ],
      "source": [
        "# Get the importance of the resulting features.\n",
        "importances1 = rf_w1.feature_importances_\n",
        "\n",
        "# create a data frame for visualization.\n",
        "final_df1 = pd.DataFrame({\"Features\": X_train1.columns, \"Importances\":importances1})\n",
        "final_df1.set_index('Importances')\n",
        "\n",
        "# sort in ascending order to better visualization.\n",
        "final_df1 = final_df1.sort_values('Importances')\n",
        "\n",
        "# plot the feature importances in bars.\n",
        "plt.figure(figsize=(10,3))\n",
        "plt.xticks(rotation=45)\n",
        "sns.barplot(x=\"Features\",y= \"Importances\", data=final_df1)"
      ]
    },
    {
      "cell_type": "code",
      "execution_count": null,
      "metadata": {
        "id": "Vd-6WwRH88j9",
        "colab": {
          "base_uri": "https://localhost:8080/"
        },
        "outputId": "0e95446b-62a2-4ef1-9345-ba50efaca1c7"
      },
      "outputs": [
        {
          "output_type": "execute_result",
          "data": {
            "text/plain": [
              "      Features  Importances\n",
              "8    Feature_9     0.026579\n",
              "2    Feature_3     0.027428\n",
              "19  Feature_20     0.028051\n",
              "20  Feature_21     0.028202\n",
              "13  Feature_14     0.028405\n",
              "27  Feature_28     0.028430\n",
              "17  Feature_18     0.028495\n",
              "22  Feature_23     0.029135\n",
              "21  Feature_22     0.029327\n",
              "14  Feature_15     0.029979\n",
              "25  Feature_26     0.030619\n",
              "7    Feature_8     0.030619\n",
              "23  Feature_24     0.030878\n",
              "1    Feature_2     0.031275\n",
              "15  Feature_16     0.032432\n",
              "11  Feature_12     0.032439\n",
              "26  Feature_27     0.032814\n",
              "9   Feature_10     0.033818\n",
              "16  Feature_17     0.034338\n",
              "28  Feature_29     0.034403\n",
              "0    Feature_1     0.035181\n",
              "5    Feature_6     0.037269\n",
              "18  Feature_19     0.037359\n",
              "3    Feature_4     0.037663\n",
              "24  Feature_25     0.038214\n",
              "4    Feature_5     0.038472\n",
              "29  Feature_30     0.038903\n",
              "12  Feature_13     0.042233\n",
              "6    Feature_7     0.042387\n",
              "10  Feature_11     0.044656"
            ],
            "text/html": [
              "\n",
              "  <div id=\"df-5ec89eb1-f9b3-41de-b0bf-f20140995646\">\n",
              "    <div class=\"colab-df-container\">\n",
              "      <div>\n",
              "<style scoped>\n",
              "    .dataframe tbody tr th:only-of-type {\n",
              "        vertical-align: middle;\n",
              "    }\n",
              "\n",
              "    .dataframe tbody tr th {\n",
              "        vertical-align: top;\n",
              "    }\n",
              "\n",
              "    .dataframe thead th {\n",
              "        text-align: right;\n",
              "    }\n",
              "</style>\n",
              "<table border=\"1\" class=\"dataframe\">\n",
              "  <thead>\n",
              "    <tr style=\"text-align: right;\">\n",
              "      <th></th>\n",
              "      <th>Features</th>\n",
              "      <th>Importances</th>\n",
              "    </tr>\n",
              "  </thead>\n",
              "  <tbody>\n",
              "    <tr>\n",
              "      <th>8</th>\n",
              "      <td>Feature_9</td>\n",
              "      <td>0.026579</td>\n",
              "    </tr>\n",
              "    <tr>\n",
              "      <th>2</th>\n",
              "      <td>Feature_3</td>\n",
              "      <td>0.027428</td>\n",
              "    </tr>\n",
              "    <tr>\n",
              "      <th>19</th>\n",
              "      <td>Feature_20</td>\n",
              "      <td>0.028051</td>\n",
              "    </tr>\n",
              "    <tr>\n",
              "      <th>20</th>\n",
              "      <td>Feature_21</td>\n",
              "      <td>0.028202</td>\n",
              "    </tr>\n",
              "    <tr>\n",
              "      <th>13</th>\n",
              "      <td>Feature_14</td>\n",
              "      <td>0.028405</td>\n",
              "    </tr>\n",
              "    <tr>\n",
              "      <th>27</th>\n",
              "      <td>Feature_28</td>\n",
              "      <td>0.028430</td>\n",
              "    </tr>\n",
              "    <tr>\n",
              "      <th>17</th>\n",
              "      <td>Feature_18</td>\n",
              "      <td>0.028495</td>\n",
              "    </tr>\n",
              "    <tr>\n",
              "      <th>22</th>\n",
              "      <td>Feature_23</td>\n",
              "      <td>0.029135</td>\n",
              "    </tr>\n",
              "    <tr>\n",
              "      <th>21</th>\n",
              "      <td>Feature_22</td>\n",
              "      <td>0.029327</td>\n",
              "    </tr>\n",
              "    <tr>\n",
              "      <th>14</th>\n",
              "      <td>Feature_15</td>\n",
              "      <td>0.029979</td>\n",
              "    </tr>\n",
              "    <tr>\n",
              "      <th>25</th>\n",
              "      <td>Feature_26</td>\n",
              "      <td>0.030619</td>\n",
              "    </tr>\n",
              "    <tr>\n",
              "      <th>7</th>\n",
              "      <td>Feature_8</td>\n",
              "      <td>0.030619</td>\n",
              "    </tr>\n",
              "    <tr>\n",
              "      <th>23</th>\n",
              "      <td>Feature_24</td>\n",
              "      <td>0.030878</td>\n",
              "    </tr>\n",
              "    <tr>\n",
              "      <th>1</th>\n",
              "      <td>Feature_2</td>\n",
              "      <td>0.031275</td>\n",
              "    </tr>\n",
              "    <tr>\n",
              "      <th>15</th>\n",
              "      <td>Feature_16</td>\n",
              "      <td>0.032432</td>\n",
              "    </tr>\n",
              "    <tr>\n",
              "      <th>11</th>\n",
              "      <td>Feature_12</td>\n",
              "      <td>0.032439</td>\n",
              "    </tr>\n",
              "    <tr>\n",
              "      <th>26</th>\n",
              "      <td>Feature_27</td>\n",
              "      <td>0.032814</td>\n",
              "    </tr>\n",
              "    <tr>\n",
              "      <th>9</th>\n",
              "      <td>Feature_10</td>\n",
              "      <td>0.033818</td>\n",
              "    </tr>\n",
              "    <tr>\n",
              "      <th>16</th>\n",
              "      <td>Feature_17</td>\n",
              "      <td>0.034338</td>\n",
              "    </tr>\n",
              "    <tr>\n",
              "      <th>28</th>\n",
              "      <td>Feature_29</td>\n",
              "      <td>0.034403</td>\n",
              "    </tr>\n",
              "    <tr>\n",
              "      <th>0</th>\n",
              "      <td>Feature_1</td>\n",
              "      <td>0.035181</td>\n",
              "    </tr>\n",
              "    <tr>\n",
              "      <th>5</th>\n",
              "      <td>Feature_6</td>\n",
              "      <td>0.037269</td>\n",
              "    </tr>\n",
              "    <tr>\n",
              "      <th>18</th>\n",
              "      <td>Feature_19</td>\n",
              "      <td>0.037359</td>\n",
              "    </tr>\n",
              "    <tr>\n",
              "      <th>3</th>\n",
              "      <td>Feature_4</td>\n",
              "      <td>0.037663</td>\n",
              "    </tr>\n",
              "    <tr>\n",
              "      <th>24</th>\n",
              "      <td>Feature_25</td>\n",
              "      <td>0.038214</td>\n",
              "    </tr>\n",
              "    <tr>\n",
              "      <th>4</th>\n",
              "      <td>Feature_5</td>\n",
              "      <td>0.038472</td>\n",
              "    </tr>\n",
              "    <tr>\n",
              "      <th>29</th>\n",
              "      <td>Feature_30</td>\n",
              "      <td>0.038903</td>\n",
              "    </tr>\n",
              "    <tr>\n",
              "      <th>12</th>\n",
              "      <td>Feature_13</td>\n",
              "      <td>0.042233</td>\n",
              "    </tr>\n",
              "    <tr>\n",
              "      <th>6</th>\n",
              "      <td>Feature_7</td>\n",
              "      <td>0.042387</td>\n",
              "    </tr>\n",
              "    <tr>\n",
              "      <th>10</th>\n",
              "      <td>Feature_11</td>\n",
              "      <td>0.044656</td>\n",
              "    </tr>\n",
              "  </tbody>\n",
              "</table>\n",
              "</div>\n",
              "      <button class=\"colab-df-convert\" onclick=\"convertToInteractive('df-5ec89eb1-f9b3-41de-b0bf-f20140995646')\"\n",
              "              title=\"Convert this dataframe to an interactive table.\"\n",
              "              style=\"display:none;\">\n",
              "        \n",
              "  <svg xmlns=\"http://www.w3.org/2000/svg\" height=\"24px\"viewBox=\"0 0 24 24\"\n",
              "       width=\"24px\">\n",
              "    <path d=\"M0 0h24v24H0V0z\" fill=\"none\"/>\n",
              "    <path d=\"M18.56 5.44l.94 2.06.94-2.06 2.06-.94-2.06-.94-.94-2.06-.94 2.06-2.06.94zm-11 1L8.5 8.5l.94-2.06 2.06-.94-2.06-.94L8.5 2.5l-.94 2.06-2.06.94zm10 10l.94 2.06.94-2.06 2.06-.94-2.06-.94-.94-2.06-.94 2.06-2.06.94z\"/><path d=\"M17.41 7.96l-1.37-1.37c-.4-.4-.92-.59-1.43-.59-.52 0-1.04.2-1.43.59L10.3 9.45l-7.72 7.72c-.78.78-.78 2.05 0 2.83L4 21.41c.39.39.9.59 1.41.59.51 0 1.02-.2 1.41-.59l7.78-7.78 2.81-2.81c.8-.78.8-2.07 0-2.86zM5.41 20L4 18.59l7.72-7.72 1.47 1.35L5.41 20z\"/>\n",
              "  </svg>\n",
              "      </button>\n",
              "      \n",
              "  <style>\n",
              "    .colab-df-container {\n",
              "      display:flex;\n",
              "      flex-wrap:wrap;\n",
              "      gap: 12px;\n",
              "    }\n",
              "\n",
              "    .colab-df-convert {\n",
              "      background-color: #E8F0FE;\n",
              "      border: none;\n",
              "      border-radius: 50%;\n",
              "      cursor: pointer;\n",
              "      display: none;\n",
              "      fill: #1967D2;\n",
              "      height: 32px;\n",
              "      padding: 0 0 0 0;\n",
              "      width: 32px;\n",
              "    }\n",
              "\n",
              "    .colab-df-convert:hover {\n",
              "      background-color: #E2EBFA;\n",
              "      box-shadow: 0px 1px 2px rgba(60, 64, 67, 0.3), 0px 1px 3px 1px rgba(60, 64, 67, 0.15);\n",
              "      fill: #174EA6;\n",
              "    }\n",
              "\n",
              "    [theme=dark] .colab-df-convert {\n",
              "      background-color: #3B4455;\n",
              "      fill: #D2E3FC;\n",
              "    }\n",
              "\n",
              "    [theme=dark] .colab-df-convert:hover {\n",
              "      background-color: #434B5C;\n",
              "      box-shadow: 0px 1px 3px 1px rgba(0, 0, 0, 0.15);\n",
              "      filter: drop-shadow(0px 1px 2px rgba(0, 0, 0, 0.3));\n",
              "      fill: #FFFFFF;\n",
              "    }\n",
              "  </style>\n",
              "\n",
              "      <script>\n",
              "        const buttonEl =\n",
              "          document.querySelector('#df-5ec89eb1-f9b3-41de-b0bf-f20140995646 button.colab-df-convert');\n",
              "        buttonEl.style.display =\n",
              "          google.colab.kernel.accessAllowed ? 'block' : 'none';\n",
              "\n",
              "        async function convertToInteractive(key) {\n",
              "          const element = document.querySelector('#df-5ec89eb1-f9b3-41de-b0bf-f20140995646');\n",
              "          const dataTable =\n",
              "            await google.colab.kernel.invokeFunction('convertToInteractive',\n",
              "                                                     [key], {});\n",
              "          if (!dataTable) return;\n",
              "\n",
              "          const docLinkHtml = 'Like what you see? Visit the ' +\n",
              "            '<a target=\"_blank\" href=https://colab.research.google.com/notebooks/data_table.ipynb>data table notebook</a>'\n",
              "            + ' to learn more about interactive tables.';\n",
              "          element.innerHTML = '';\n",
              "          dataTable['output_type'] = 'display_data';\n",
              "          await google.colab.output.renderOutput(dataTable, element);\n",
              "          const docLink = document.createElement('div');\n",
              "          docLink.innerHTML = docLinkHtml;\n",
              "          element.appendChild(docLink);\n",
              "        }\n",
              "      </script>\n",
              "    </div>\n",
              "  </div>\n",
              "  "
            ]
          },
          "metadata": {},
          "execution_count": 40
        }
      ],
      "source": [
        "final_df1.head(30)"
      ]
    },
    {
      "cell_type": "code",
      "execution_count": null,
      "metadata": {
        "id": "vH-fuSvesq5q"
      },
      "outputs": [],
      "source": [
        "# With feature selection check accuracy with Random Forest\n",
        "# Retrieve the 10 most informative features\n",
        "# use RFE to eleminate the less importance features\n",
        "\n",
        "sel_rfe_tree1 = RFE(estimator= rf_w1, n_features_to_select=10, step=1)\n",
        "\n",
        "# Fit the RFE object to the training & testing data\n",
        "X_train_rfe_tree1 = sel_rfe_tree1.fit_transform(X_train1, y_train1)\n",
        "X_test_rfe_tree1 = sel_rfe_tree1.transform(X_test1)\n",
        "\n",
        "#Reduce X to the selected features and then predict using the predict\n",
        "y_pred_rf1 = sel_rfe_tree1.predict(X_test1)\n",
        "#metrics.accuracy_score(y_test1,y_pred_rf1)"
      ]
    },
    {
      "cell_type": "code",
      "execution_count": null,
      "metadata": {
        "id": "LZa8kzBNtLkl",
        "colab": {
          "base_uri": "https://localhost:8080/"
        },
        "outputId": "64911eee-137b-4e74-c3d9-c14057ec8a22"
      },
      "outputs": [
        {
          "output_type": "execute_result",
          "data": {
            "text/plain": [
              "['Feature_2',\n",
              " 'Feature_4',\n",
              " 'Feature_6',\n",
              " 'Feature_7',\n",
              " 'Feature_11',\n",
              " 'Feature_13',\n",
              " 'Feature_25',\n",
              " 'Feature_27',\n",
              " 'Feature_29',\n",
              " 'Feature_30']"
            ]
          },
          "metadata": {},
          "execution_count": 42
        }
      ],
      "source": [
        "# Get the selected feature indices\n",
        "sel_feature_1 =sel_rfe_tree1.support_\n",
        "\n",
        "# find the number of selected features with the help of the following script:\n",
        "selected_cols1 = [column for column in X_train1.columns if column in X_train1.columns[sel_rfe_tree1.get_support()]]\n",
        "selected_cols1\n"
      ]
    },
    {
      "cell_type": "markdown",
      "metadata": {
        "id": "9Kli3zHBnO_J"
      },
      "source": [
        "#SET B"
      ]
    },
    {
      "cell_type": "code",
      "execution_count": null,
      "metadata": {
        "id": "smr1bI3TBNqp"
      },
      "outputs": [],
      "source": [
        "# Remove all null value\n",
        "SetB.dropna(inplace=True)"
      ]
    },
    {
      "cell_type": "code",
      "execution_count": null,
      "metadata": {
        "id": "etVXi6xSBNqq"
      },
      "outputs": [],
      "source": [
        "#encode class values as integers\n",
        "#Set B\n",
        "from sklearn.preprocessing import LabelEncoder\n",
        "encoder_res2 = LabelEncoder()\n",
        "encoder_res2.fit(y_res2)\n",
        "encoded_y_res2 = encoder_res2.transform(y_res2)"
      ]
    },
    {
      "cell_type": "code",
      "execution_count": null,
      "metadata": {
        "colab": {
          "base_uri": "https://localhost:8080/"
        },
        "id": "upVO2sjyBNqq",
        "outputId": "2bf6f4e8-25b7-43b3-ba70-08a8613ec90d"
      },
      "outputs": [
        {
          "output_type": "execute_result",
          "data": {
            "text/plain": [
              "Index(['Feature 1', 'Feature 2', 'Feature 3', 'Feature 4', 'Feature 5',\n",
              "       'Feature 6', 'Feature 7', 'Feature 8', 'Feature 9', 'Feature 10',\n",
              "       'Feature 11', 'Feature 12', 'Feature 13', 'Feature 14', 'Feature 15',\n",
              "       'Feature 16', 'Feature 17', 'Feature 18', 'Feature 19', 'Feature 20',\n",
              "       'Feature 21', 'Feature 22', 'Feature 23', 'Feature 24', 'Feature 25',\n",
              "       'Feature 26', 'Feature 27', 'Feature 28', 'Feature 29', 'Feature 30'],\n",
              "      dtype='object')"
            ]
          },
          "metadata": {},
          "execution_count": 45
        }
      ],
      "source": [
        "features2 = X_res2.columns\n",
        "features2"
      ]
    },
    {
      "cell_type": "code",
      "execution_count": null,
      "metadata": {
        "colab": {
          "base_uri": "https://localhost:8080/"
        },
        "id": "k_-aBP8WBNqq",
        "outputId": "b06f5d52-70e0-4092-8c8b-a1562bcba9ba"
      },
      "outputs": [
        {
          "output_type": "stream",
          "name": "stdout",
          "text": [
            "Shape of training data x2: (5265, 30)\n",
            "Shape of testing data x2: (2257, 30)\n",
            "Shape of training data y2: (5265,)\n",
            "Shape of testing data y2: (2257,)\n"
          ]
        }
      ],
      "source": [
        "from sklearn.model_selection import train_test_split\n",
        "\n",
        "X_train2,X_test2,y_train2,y_test2 = train_test_split(X_res2,y_res2,random_state = 42,test_size =0.30)\n",
        "print(\"Shape of training data x2:\", X_train2.shape)\n",
        "print(\"Shape of testing data x2:\", X_test2.shape)\n",
        "print(\"Shape of training data y2:\",y_train2.shape)\n",
        "print(\"Shape of testing data y2:\", y_test2.shape)"
      ]
    },
    {
      "cell_type": "code",
      "execution_count": null,
      "metadata": {
        "id": "5HzxC5K3BNqq"
      },
      "outputs": [],
      "source": [
        "from sklearn.ensemble import RandomForestClassifier\n",
        "from sklearn.feature_selection import RFE,SelectFromModel\n",
        "from sklearn import metrics\n",
        "\n",
        "rf_w2 = RandomForestClassifier(random_state=42, n_estimators=200)\n",
        "rf_w2.fit(X_train2, y_train2)\n",
        "y_pred_rf_w2 = rf_w2.predict(X_test2)\n",
        "#metrics.accuracy_score(y_test1,y_pred_rf_w1)"
      ]
    },
    {
      "cell_type": "code",
      "execution_count": null,
      "metadata": {
        "colab": {
          "base_uri": "https://localhost:8080/",
          "height": 377
        },
        "id": "0KF067m4BNqq",
        "outputId": "be2b555a-6cf7-4c3c-fc09-1a3af710679d"
      },
      "outputs": [
        {
          "output_type": "execute_result",
          "data": {
            "text/plain": [
              "<Axes: xlabel='Features', ylabel='Importances'>"
            ]
          },
          "metadata": {},
          "execution_count": 48
        },
        {
          "output_type": "display_data",
          "data": {
            "text/plain": [
              "<Figure size 1000x300 with 1 Axes>"
            ],
            "image/png": "[encoded data removed]"
          },
          "metadata": {}
        }
      ],
      "source": [
        "# Get the importance of the resulting features.\n",
        "importances2 = rf_w2.feature_importances_\n",
        "\n",
        "# create a data frame for visualization.\n",
        "final_df2 = pd.DataFrame({\"Features\": X_train2.columns, \"Importances\":importances2})\n",
        "final_df2.set_index('Importances')\n",
        "\n",
        "# sort in ascending order to better visualization.\n",
        "final_df2 = final_df2.sort_values('Importances')\n",
        "\n",
        "# plot the feature importances in bars.\n",
        "plt.figure(figsize=(10,3))\n",
        "plt.xticks(rotation=45)\n",
        "sns.barplot(x=\"Features\",y= \"Importances\", data=final_df2)"
      ]
    },
    {
      "cell_type": "code",
      "execution_count": null,
      "metadata": {
        "colab": {
          "base_uri": "https://localhost:8080/",
          "height": 989
        },
        "id": "hsVudioABNqr",
        "outputId": "3bb14d46-bdfd-40e8-8cf9-4716c9c642f9"
      },
      "outputs": [
        {
          "output_type": "execute_result",
          "data": {
            "text/plain": [
              "      Features  Importances\n",
              "4    Feature 5     0.026346\n",
              "7    Feature 8     0.027512\n",
              "2    Feature 3     0.028523\n",
              "1    Feature 2     0.028743\n",
              "19  Feature 20     0.028775\n",
              "21  Feature 22     0.029003\n",
              "8    Feature 9     0.029240\n",
              "13  Feature 14     0.029618\n",
              "17  Feature 18     0.029647\n",
              "25  Feature 26     0.029928\n",
              "11  Feature 12     0.030514\n",
              "20  Feature 21     0.030719\n",
              "14  Feature 15     0.030985\n",
              "27  Feature 28     0.031151\n",
              "28  Feature 29     0.031781\n",
              "15  Feature 16     0.032756\n",
              "22  Feature 23     0.032974\n",
              "9   Feature 10     0.033683\n",
              "16  Feature 17     0.033826\n",
              "3    Feature 4     0.034441\n",
              "26  Feature 27     0.034587\n",
              "23  Feature 24     0.036004\n",
              "0    Feature 1     0.036130\n",
              "10  Feature 11     0.037741\n",
              "5    Feature 6     0.038170\n",
              "29  Feature 30     0.039516\n",
              "24  Feature 25     0.039908\n",
              "6    Feature 7     0.040877\n",
              "18  Feature 19     0.041712\n",
              "12  Feature 13     0.045187"
            ],
            "text/html": [
              "\n",
              "  <div id=\"df-449f32c3-df51-4ad1-b2b1-d0a9c5bb2aa4\">\n",
              "    <div class=\"colab-df-container\">\n",
              "      <div>\n",
              "<style scoped>\n",
              "    .dataframe tbody tr th:only-of-type {\n",
              "        vertical-align: middle;\n",
              "    }\n",
              "\n",
              "    .dataframe tbody tr th {\n",
              "        vertical-align: top;\n",
              "    }\n",
              "\n",
              "    .dataframe thead th {\n",
              "        text-align: right;\n",
              "    }\n",
              "</style>\n",
              "<table border=\"1\" class=\"dataframe\">\n",
              "  <thead>\n",
              "    <tr style=\"text-align: right;\">\n",
              "      <th></th>\n",
              "      <th>Features</th>\n",
              "      <th>Importances</th>\n",
              "    </tr>\n",
              "  </thead>\n",
              "  <tbody>\n",
              "    <tr>\n",
              "      <th>4</th>\n",
              "      <td>Feature 5</td>\n",
              "      <td>0.026346</td>\n",
              "    </tr>\n",
              "    <tr>\n",
              "      <th>7</th>\n",
              "      <td>Feature 8</td>\n",
              "      <td>0.027512</td>\n",
              "    </tr>\n",
              "    <tr>\n",
              "      <th>2</th>\n",
              "      <td>Feature 3</td>\n",
              "      <td>0.028523</td>\n",
              "    </tr>\n",
              "    <tr>\n",
              "      <th>1</th>\n",
              "      <td>Feature 2</td>\n",
              "      <td>0.028743</td>\n",
              "    </tr>\n",
              "    <tr>\n",
              "      <th>19</th>\n",
              "      <td>Feature 20</td>\n",
              "      <td>0.028775</td>\n",
              "    </tr>\n",
              "    <tr>\n",
              "      <th>21</th>\n",
              "      <td>Feature 22</td>\n",
              "      <td>0.029003</td>\n",
              "    </tr>\n",
              "    <tr>\n",
              "      <th>8</th>\n",
              "      <td>Feature 9</td>\n",
              "      <td>0.029240</td>\n",
              "    </tr>\n",
              "    <tr>\n",
              "      <th>13</th>\n",
              "      <td>Feature 14</td>\n",
              "      <td>0.029618</td>\n",
              "    </tr>\n",
              "    <tr>\n",
              "      <th>17</th>\n",
              "      <td>Feature 18</td>\n",
              "      <td>0.029647</td>\n",
              "    </tr>\n",
              "    <tr>\n",
              "      <th>25</th>\n",
              "      <td>Feature 26</td>\n",
              "      <td>0.029928</td>\n",
              "    </tr>\n",
              "    <tr>\n",
              "      <th>11</th>\n",
              "      <td>Feature 12</td>\n",
              "      <td>0.030514</td>\n",
              "    </tr>\n",
              "    <tr>\n",
              "      <th>20</th>\n",
              "      <td>Feature 21</td>\n",
              "      <td>0.030719</td>\n",
              "    </tr>\n",
              "    <tr>\n",
              "      <th>14</th>\n",
              "      <td>Feature 15</td>\n",
              "      <td>0.030985</td>\n",
              "    </tr>\n",
              "    <tr>\n",
              "      <th>27</th>\n",
              "      <td>Feature 28</td>\n",
              "      <td>0.031151</td>\n",
              "    </tr>\n",
              "    <tr>\n",
              "      <th>28</th>\n",
              "      <td>Feature 29</td>\n",
              "      <td>0.031781</td>\n",
              "    </tr>\n",
              "    <tr>\n",
              "      <th>15</th>\n",
              "      <td>Feature 16</td>\n",
              "      <td>0.032756</td>\n",
              "    </tr>\n",
              "    <tr>\n",
              "      <th>22</th>\n",
              "      <td>Feature 23</td>\n",
              "      <td>0.032974</td>\n",
              "    </tr>\n",
              "    <tr>\n",
              "      <th>9</th>\n",
              "      <td>Feature 10</td>\n",
              "      <td>0.033683</td>\n",
              "    </tr>\n",
              "    <tr>\n",
              "      <th>16</th>\n",
              "      <td>Feature 17</td>\n",
              "      <td>0.033826</td>\n",
              "    </tr>\n",
              "    <tr>\n",
              "      <th>3</th>\n",
              "      <td>Feature 4</td>\n",
              "      <td>0.034441</td>\n",
              "    </tr>\n",
              "    <tr>\n",
              "      <th>26</th>\n",
              "      <td>Feature 27</td>\n",
              "      <td>0.034587</td>\n",
              "    </tr>\n",
              "    <tr>\n",
              "      <th>23</th>\n",
              "      <td>Feature 24</td>\n",
              "      <td>0.036004</td>\n",
              "    </tr>\n",
              "    <tr>\n",
              "      <th>0</th>\n",
              "      <td>Feature 1</td>\n",
              "      <td>0.036130</td>\n",
              "    </tr>\n",
              "    <tr>\n",
              "      <th>10</th>\n",
              "      <td>Feature 11</td>\n",
              "      <td>0.037741</td>\n",
              "    </tr>\n",
              "    <tr>\n",
              "      <th>5</th>\n",
              "      <td>Feature 6</td>\n",
              "      <td>0.038170</td>\n",
              "    </tr>\n",
              "    <tr>\n",
              "      <th>29</th>\n",
              "      <td>Feature 30</td>\n",
              "      <td>0.039516</td>\n",
              "    </tr>\n",
              "    <tr>\n",
              "      <th>24</th>\n",
              "      <td>Feature 25</td>\n",
              "      <td>0.039908</td>\n",
              "    </tr>\n",
              "    <tr>\n",
              "      <th>6</th>\n",
              "      <td>Feature 7</td>\n",
              "      <td>0.040877</td>\n",
              "    </tr>\n",
              "    <tr>\n",
              "      <th>18</th>\n",
              "      <td>Feature 19</td>\n",
              "      <td>0.041712</td>\n",
              "    </tr>\n",
              "    <tr>\n",
              "      <th>12</th>\n",
              "      <td>Feature 13</td>\n",
              "      <td>0.045187</td>\n",
              "    </tr>\n",
              "  </tbody>\n",
              "</table>\n",
              "</div>\n",
              "      <button class=\"colab-df-convert\" onclick=\"convertToInteractive('df-449f32c3-df51-4ad1-b2b1-d0a9c5bb2aa4')\"\n",
              "              title=\"Convert this dataframe to an interactive table.\"\n",
              "              style=\"display:none;\">\n",
              "        \n",
              "  <svg xmlns=\"http://www.w3.org/2000/svg\" height=\"24px\"viewBox=\"0 0 24 24\"\n",
              "       width=\"24px\">\n",
              "    <path d=\"M0 0h24v24H0V0z\" fill=\"none\"/>\n",
              "    <path d=\"M18.56 5.44l.94 2.06.94-2.06 2.06-.94-2.06-.94-.94-2.06-.94 2.06-2.06.94zm-11 1L8.5 8.5l.94-2.06 2.06-.94-2.06-.94L8.5 2.5l-.94 2.06-2.06.94zm10 10l.94 2.06.94-2.06 2.06-.94-2.06-.94-.94-2.06-.94 2.06-2.06.94z\"/><path d=\"M17.41 7.96l-1.37-1.37c-.4-.4-.92-.59-1.43-.59-.52 0-1.04.2-1.43.59L10.3 9.45l-7.72 7.72c-.78.78-.78 2.05 0 2.83L4 21.41c.39.39.9.59 1.41.59.51 0 1.02-.2 1.41-.59l7.78-7.78 2.81-2.81c.8-.78.8-2.07 0-2.86zM5.41 20L4 18.59l7.72-7.72 1.47 1.35L5.41 20z\"/>\n",
              "  </svg>\n",
              "      </button>\n",
              "      \n",
              "  <style>\n",
              "    .colab-df-container {\n",
              "      display:flex;\n",
              "      flex-wrap:wrap;\n",
              "      gap: 12px;\n",
              "    }\n",
              "\n",
              "    .colab-df-convert {\n",
              "      background-color: #E8F0FE;\n",
              "      border: none;\n",
              "      border-radius: 50%;\n",
              "      cursor: pointer;\n",
              "      display: none;\n",
              "      fill: #1967D2;\n",
              "      height: 32px;\n",
              "      padding: 0 0 0 0;\n",
              "      width: 32px;\n",
              "    }\n",
              "\n",
              "    .colab-df-convert:hover {\n",
              "      background-color: #E2EBFA;\n",
              "      box-shadow: 0px 1px 2px rgba(60, 64, 67, 0.3), 0px 1px 3px 1px rgba(60, 64, 67, 0.15);\n",
              "      fill: #174EA6;\n",
              "    }\n",
              "\n",
              "    [theme=dark] .colab-df-convert {\n",
              "      background-color: #3B4455;\n",
              "      fill: #D2E3FC;\n",
              "    }\n",
              "\n",
              "    [theme=dark] .colab-df-convert:hover {\n",
              "      background-color: #434B5C;\n",
              "      box-shadow: 0px 1px 3px 1px rgba(0, 0, 0, 0.15);\n",
              "      filter: drop-shadow(0px 1px 2px rgba(0, 0, 0, 0.3));\n",
              "      fill: #FFFFFF;\n",
              "    }\n",
              "  </style>\n",
              "\n",
              "      <script>\n",
              "        const buttonEl =\n",
              "          document.querySelector('#df-449f32c3-df51-4ad1-b2b1-d0a9c5bb2aa4 button.colab-df-convert');\n",
              "        buttonEl.style.display =\n",
              "          google.colab.kernel.accessAllowed ? 'block' : 'none';\n",
              "\n",
              "        async function convertToInteractive(key) {\n",
              "          const element = document.querySelector('#df-449f32c3-df51-4ad1-b2b1-d0a9c5bb2aa4');\n",
              "          const dataTable =\n",
              "            await google.colab.kernel.invokeFunction('convertToInteractive',\n",
              "                                                     [key], {});\n",
              "          if (!dataTable) return;\n",
              "\n",
              "          const docLinkHtml = 'Like what you see? Visit the ' +\n",
              "            '<a target=\"_blank\" href=https://colab.research.google.com/notebooks/data_table.ipynb>data table notebook</a>'\n",
              "            + ' to learn more about interactive tables.';\n",
              "          element.innerHTML = '';\n",
              "          dataTable['output_type'] = 'display_data';\n",
              "          await google.colab.output.renderOutput(dataTable, element);\n",
              "          const docLink = document.createElement('div');\n",
              "          docLink.innerHTML = docLinkHtml;\n",
              "          element.appendChild(docLink);\n",
              "        }\n",
              "      </script>\n",
              "    </div>\n",
              "  </div>\n",
              "  "
            ]
          },
          "metadata": {},
          "execution_count": 49
        }
      ],
      "source": [
        "final_df2.head(30)"
      ]
    },
    {
      "cell_type": "code",
      "execution_count": null,
      "metadata": {
        "id": "kW64yioBBNqr"
      },
      "outputs": [],
      "source": [
        "# With feature selection check accuracy with Random Forest\n",
        "# Retrieve the 10 most informative features\n",
        "# use RFE to eleminate the less importance features\n",
        "\n",
        "sel_rfe_tree2 = RFE(estimator= rf_w2, n_features_to_select=10, step=1)\n",
        "\n",
        "# Fit the RFE object to the training & testing data\n",
        "X_train_rfe_tree2 = sel_rfe_tree2.fit_transform(X_train2, y_train2)\n",
        "X_test_rfe_tree2 = sel_rfe_tree2.transform(X_test2)\n",
        "\n",
        "#Reduce X to the selected features and then predict using the predict\n",
        "y_pred_rf2 = sel_rfe_tree2.predict(X_test2)\n",
        "#metrics.accuracy_score(y_test2,y_pred_rf2)"
      ]
    },
    {
      "cell_type": "code",
      "execution_count": null,
      "metadata": {
        "id": "-mjUf0dYBNqr",
        "colab": {
          "base_uri": "https://localhost:8080/"
        },
        "outputId": "3890c209-993e-4941-db61-ece1826b03f4"
      },
      "outputs": [
        {
          "output_type": "execute_result",
          "data": {
            "text/plain": [
              "['Feature 4',\n",
              " 'Feature 6',\n",
              " 'Feature 7',\n",
              " 'Feature 11',\n",
              " 'Feature 13',\n",
              " 'Feature 15',\n",
              " 'Feature 19',\n",
              " 'Feature 25',\n",
              " 'Feature 27',\n",
              " 'Feature 30']"
            ]
          },
          "metadata": {},
          "execution_count": 51
        }
      ],
      "source": [
        "# Get the selected feature indices\n",
        "sel_feature_2 =sel_rfe_tree2.support_\n",
        "\n",
        "# find the number of selected features with the help of the following script:\n",
        "selected_cols2 = [column for column in X_train2.columns if column in X_train2.columns[sel_rfe_tree2.get_support()]]\n",
        "selected_cols2\n"
      ]
    },
    {
      "cell_type": "markdown",
      "metadata": {
        "id": "Pc8OxL5cnZvA"
      },
      "source": [
        "#SET C"
      ]
    },
    {
      "cell_type": "code",
      "execution_count": null,
      "metadata": {
        "id": "iSqhfpbCCYPK"
      },
      "outputs": [],
      "source": [
        "# Remove all null value\n",
        "SetC.dropna(inplace=True)"
      ]
    },
    {
      "cell_type": "code",
      "execution_count": null,
      "metadata": {
        "id": "PF36rH0ICYPK"
      },
      "outputs": [],
      "source": [
        "#encode class values as integers\n",
        "#Set C\n",
        "from sklearn.preprocessing import LabelEncoder\n",
        "encoder_res3 = LabelEncoder()\n",
        "encoder_res3.fit(y_res3)\n",
        "encoded_y_res3 = encoder_res3.transform(y_res3)"
      ]
    },
    {
      "cell_type": "code",
      "execution_count": null,
      "metadata": {
        "id": "Yvoc-qV6CYPK",
        "colab": {
          "base_uri": "https://localhost:8080/"
        },
        "outputId": "40a93e46-bef8-4e93-cbc0-f174d12909c4"
      },
      "outputs": [
        {
          "output_type": "execute_result",
          "data": {
            "text/plain": [
              "Index(['Feature 1', 'Feature 2', 'Feature 3', 'Feature 4', 'Feature 5',\n",
              "       'Feature 6', 'Feature 7', 'Feature 8', 'Feature 9', 'Feature 10',\n",
              "       'Feature 11', 'Feature 12', 'Feature 13', 'Feature 14', 'Feature 15',\n",
              "       'Feature 16', 'Feature 17', 'Feature 18', 'Feature 19', 'Feature 20',\n",
              "       'Feature 21', 'Feature 22', 'Feature 23', 'Feature 24', 'Feature 25',\n",
              "       'Feature 26', 'Feature 27', 'Feature 28', 'Feature 29', 'Feature 30'],\n",
              "      dtype='object')"
            ]
          },
          "metadata": {},
          "execution_count": 54
        }
      ],
      "source": [
        "features3 = X_res3.columns\n",
        "features3"
      ]
    },
    {
      "cell_type": "code",
      "execution_count": null,
      "metadata": {
        "id": "TXLlzbTQCYPK",
        "colab": {
          "base_uri": "https://localhost:8080/"
        },
        "outputId": "5ca72972-3730-4658-afcf-a089785e082f"
      },
      "outputs": [
        {
          "output_type": "stream",
          "name": "stdout",
          "text": [
            "Shape of training data x3: (5724, 30)\n",
            "Shape of testing data x3: (2454, 30)\n",
            "Shape of training data y3: (5724,)\n",
            "Shape of testing data y3: (2454,)\n"
          ]
        }
      ],
      "source": [
        "from sklearn.model_selection import train_test_split\n",
        "\n",
        "X_train3,X_test3,y_train3,y_test3 = train_test_split(X_res3,y_res3,random_state = 42,test_size =0.30)\n",
        "print(\"Shape of training data x3:\", X_train3.shape)\n",
        "print(\"Shape of testing data x3:\", X_test3.shape)\n",
        "print(\"Shape of training data y3:\",y_train3.shape)\n",
        "print(\"Shape of testing data y3:\", y_test3.shape)"
      ]
    },
    {
      "cell_type": "code",
      "execution_count": null,
      "metadata": {
        "id": "KLqwGX1tCYPL"
      },
      "outputs": [],
      "source": [
        "from sklearn.ensemble import RandomForestClassifier\n",
        "from sklearn.feature_selection import RFE,SelectFromModel\n",
        "from sklearn import metrics\n",
        "\n",
        "rf_w3 = RandomForestClassifier(random_state=42, n_estimators=200)\n",
        "rf_w3.fit(X_train3, y_train3)\n",
        "y_pred_rf_w3 = rf_w3.predict(X_test3)\n",
        "#metrics.accuracy_score(y_test3,y_pred_rf_w3)"
      ]
    },
    {
      "cell_type": "code",
      "execution_count": null,
      "metadata": {
        "id": "QUMlKn4ECYPL",
        "colab": {
          "base_uri": "https://localhost:8080/"
        },
        "outputId": "3518842e-439b-487b-ec5d-422fa4125752"
      },
      "outputs": [
        {
          "output_type": "execute_result",
          "data": {
            "text/plain": [
              "<Axes: xlabel='Features', ylabel='Importances'>"
            ]
          },
          "metadata": {},
          "execution_count": 57
        },
        {
          "output_type": "display_data",
          "data": {
            "text/plain": [
              "<Figure size 1000x300 with 1 Axes>"
            ],
            "image/png": "[encoded data removed]"
          },
          "metadata": {}
        }
      ],
      "source": [
        "# Get the importance of the resulting features.\n",
        "importances3 = rf_w3.feature_importances_\n",
        "\n",
        "# create a data frame for visualization.\n",
        "final_df3 = pd.DataFrame({\"Features\": X_train3.columns, \"Importances\":importances3})\n",
        "final_df3.set_index('Importances')\n",
        "\n",
        "# sort in ascending order to better visualization.\n",
        "final_df3 = final_df3.sort_values('Importances')\n",
        "\n",
        "# plot the feature importances in bars.\n",
        "plt.figure(figsize=(10,3))\n",
        "plt.xticks(rotation=45)\n",
        "sns.barplot(x=\"Features\",y= \"Importances\", data=final_df1)"
      ]
    },
    {
      "cell_type": "code",
      "execution_count": null,
      "metadata": {
        "id": "HroI2Mh_CYPL",
        "colab": {
          "base_uri": "https://localhost:8080/"
        },
        "outputId": "393c31b8-646c-43d6-f213-dbf7c5b0baf7"
      },
      "outputs": [
        {
          "output_type": "execute_result",
          "data": {
            "text/plain": [
              "      Features  Importances\n",
              "4    Feature 5     0.025073\n",
              "8    Feature 9     0.025760\n",
              "7    Feature 8     0.026943\n",
              "2    Feature 3     0.027888\n",
              "1    Feature 2     0.029082\n",
              "20  Feature 21     0.029495\n",
              "14  Feature 15     0.029727\n",
              "17  Feature 18     0.030322\n",
              "25  Feature 26     0.030712\n",
              "11  Feature 12     0.030863\n",
              "27  Feature 28     0.030953\n",
              "19  Feature 20     0.031137\n",
              "26  Feature 27     0.032828\n",
              "28  Feature 29     0.033002\n",
              "21  Feature 22     0.033592\n",
              "16  Feature 17     0.033755\n",
              "23  Feature 24     0.034044\n",
              "13  Feature 14     0.034333\n",
              "9   Feature 10     0.034563\n",
              "0    Feature 1     0.034827\n",
              "15  Feature 16     0.035035\n",
              "22  Feature 23     0.035532\n",
              "5    Feature 6     0.037360\n",
              "24  Feature 25     0.037435\n",
              "3    Feature 4     0.037462\n",
              "29  Feature 30     0.038337\n",
              "6    Feature 7     0.038455\n",
              "10  Feature 11     0.039102\n",
              "18  Feature 19     0.040915\n",
              "12  Feature 13     0.041469"
            ],
            "text/html": [
              "\n",
              "  <div id=\"df-b279053a-b93d-4bd9-b27f-6c3c80ec70c9\">\n",
              "    <div class=\"colab-df-container\">\n",
              "      <div>\n",
              "<style scoped>\n",
              "    .dataframe tbody tr th:only-of-type {\n",
              "        vertical-align: middle;\n",
              "    }\n",
              "\n",
              "    .dataframe tbody tr th {\n",
              "        vertical-align: top;\n",
              "    }\n",
              "\n",
              "    .dataframe thead th {\n",
              "        text-align: right;\n",
              "    }\n",
              "</style>\n",
              "<table border=\"1\" class=\"dataframe\">\n",
              "  <thead>\n",
              "    <tr style=\"text-align: right;\">\n",
              "      <th></th>\n",
              "      <th>Features</th>\n",
              "      <th>Importances</th>\n",
              "    </tr>\n",
              "  </thead>\n",
              "  <tbody>\n",
              "    <tr>\n",
              "      <th>4</th>\n",
              "      <td>Feature 5</td>\n",
              "      <td>0.025073</td>\n",
              "    </tr>\n",
              "    <tr>\n",
              "      <th>8</th>\n",
              "      <td>Feature 9</td>\n",
              "      <td>0.025760</td>\n",
              "    </tr>\n",
              "    <tr>\n",
              "      <th>7</th>\n",
              "      <td>Feature 8</td>\n",
              "      <td>0.026943</td>\n",
              "    </tr>\n",
              "    <tr>\n",
              "      <th>2</th>\n",
              "      <td>Feature 3</td>\n",
              "      <td>0.027888</td>\n",
              "    </tr>\n",
              "    <tr>\n",
              "      <th>1</th>\n",
              "      <td>Feature 2</td>\n",
              "      <td>0.029082</td>\n",
              "    </tr>\n",
              "    <tr>\n",
              "      <th>20</th>\n",
              "      <td>Feature 21</td>\n",
              "      <td>0.029495</td>\n",
              "    </tr>\n",
              "    <tr>\n",
              "      <th>14</th>\n",
              "      <td>Feature 15</td>\n",
              "      <td>0.029727</td>\n",
              "    </tr>\n",
              "    <tr>\n",
              "      <th>17</th>\n",
              "      <td>Feature 18</td>\n",
              "      <td>0.030322</td>\n",
              "    </tr>\n",
              "    <tr>\n",
              "      <th>25</th>\n",
              "      <td>Feature 26</td>\n",
              "      <td>0.030712</td>\n",
              "    </tr>\n",
              "    <tr>\n",
              "      <th>11</th>\n",
              "      <td>Feature 12</td>\n",
              "      <td>0.030863</td>\n",
              "    </tr>\n",
              "    <tr>\n",
              "      <th>27</th>\n",
              "      <td>Feature 28</td>\n",
              "      <td>0.030953</td>\n",
              "    </tr>\n",
              "    <tr>\n",
              "      <th>19</th>\n",
              "      <td>Feature 20</td>\n",
              "      <td>0.031137</td>\n",
              "    </tr>\n",
              "    <tr>\n",
              "      <th>26</th>\n",
              "      <td>Feature 27</td>\n",
              "      <td>0.032828</td>\n",
              "    </tr>\n",
              "    <tr>\n",
              "      <th>28</th>\n",
              "      <td>Feature 29</td>\n",
              "      <td>0.033002</td>\n",
              "    </tr>\n",
              "    <tr>\n",
              "      <th>21</th>\n",
              "      <td>Feature 22</td>\n",
              "      <td>0.033592</td>\n",
              "    </tr>\n",
              "    <tr>\n",
              "      <th>16</th>\n",
              "      <td>Feature 17</td>\n",
              "      <td>0.033755</td>\n",
              "    </tr>\n",
              "    <tr>\n",
              "      <th>23</th>\n",
              "      <td>Feature 24</td>\n",
              "      <td>0.034044</td>\n",
              "    </tr>\n",
              "    <tr>\n",
              "      <th>13</th>\n",
              "      <td>Feature 14</td>\n",
              "      <td>0.034333</td>\n",
              "    </tr>\n",
              "    <tr>\n",
              "      <th>9</th>\n",
              "      <td>Feature 10</td>\n",
              "      <td>0.034563</td>\n",
              "    </tr>\n",
              "    <tr>\n",
              "      <th>0</th>\n",
              "      <td>Feature 1</td>\n",
              "      <td>0.034827</td>\n",
              "    </tr>\n",
              "    <tr>\n",
              "      <th>15</th>\n",
              "      <td>Feature 16</td>\n",
              "      <td>0.035035</td>\n",
              "    </tr>\n",
              "    <tr>\n",
              "      <th>22</th>\n",
              "      <td>Feature 23</td>\n",
              "      <td>0.035532</td>\n",
              "    </tr>\n",
              "    <tr>\n",
              "      <th>5</th>\n",
              "      <td>Feature 6</td>\n",
              "      <td>0.037360</td>\n",
              "    </tr>\n",
              "    <tr>\n",
              "      <th>24</th>\n",
              "      <td>Feature 25</td>\n",
              "      <td>0.037435</td>\n",
              "    </tr>\n",
              "    <tr>\n",
              "      <th>3</th>\n",
              "      <td>Feature 4</td>\n",
              "      <td>0.037462</td>\n",
              "    </tr>\n",
              "    <tr>\n",
              "      <th>29</th>\n",
              "      <td>Feature 30</td>\n",
              "      <td>0.038337</td>\n",
              "    </tr>\n",
              "    <tr>\n",
              "      <th>6</th>\n",
              "      <td>Feature 7</td>\n",
              "      <td>0.038455</td>\n",
              "    </tr>\n",
              "    <tr>\n",
              "      <th>10</th>\n",
              "      <td>Feature 11</td>\n",
              "      <td>0.039102</td>\n",
              "    </tr>\n",
              "    <tr>\n",
              "      <th>18</th>\n",
              "      <td>Feature 19</td>\n",
              "      <td>0.040915</td>\n",
              "    </tr>\n",
              "    <tr>\n",
              "      <th>12</th>\n",
              "      <td>Feature 13</td>\n",
              "      <td>0.041469</td>\n",
              "    </tr>\n",
              "  </tbody>\n",
              "</table>\n",
              "</div>\n",
              "      <button class=\"colab-df-convert\" onclick=\"convertToInteractive('df-b279053a-b93d-4bd9-b27f-6c3c80ec70c9')\"\n",
              "              title=\"Convert this dataframe to an interactive table.\"\n",
              "              style=\"display:none;\">\n",
              "        \n",
              "  <svg xmlns=\"http://www.w3.org/2000/svg\" height=\"24px\"viewBox=\"0 0 24 24\"\n",
              "       width=\"24px\">\n",
              "    <path d=\"M0 0h24v24H0V0z\" fill=\"none\"/>\n",
              "    <path d=\"M18.56 5.44l.94 2.06.94-2.06 2.06-.94-2.06-.94-.94-2.06-.94 2.06-2.06.94zm-11 1L8.5 8.5l.94-2.06 2.06-.94-2.06-.94L8.5 2.5l-.94 2.06-2.06.94zm10 10l.94 2.06.94-2.06 2.06-.94-2.06-.94-.94-2.06-.94 2.06-2.06.94z\"/><path d=\"M17.41 7.96l-1.37-1.37c-.4-.4-.92-.59-1.43-.59-.52 0-1.04.2-1.43.59L10.3 9.45l-7.72 7.72c-.78.78-.78 2.05 0 2.83L4 21.41c.39.39.9.59 1.41.59.51 0 1.02-.2 1.41-.59l7.78-7.78 2.81-2.81c.8-.78.8-2.07 0-2.86zM5.41 20L4 18.59l7.72-7.72 1.47 1.35L5.41 20z\"/>\n",
              "  </svg>\n",
              "      </button>\n",
              "      \n",
              "  <style>\n",
              "    .colab-df-container {\n",
              "      display:flex;\n",
              "      flex-wrap:wrap;\n",
              "      gap: 12px;\n",
              "    }\n",
              "\n",
              "    .colab-df-convert {\n",
              "      background-color: #E8F0FE;\n",
              "      border: none;\n",
              "      border-radius: 50%;\n",
              "      cursor: pointer;\n",
              "      display: none;\n",
              "      fill: #1967D2;\n",
              "      height: 32px;\n",
              "      padding: 0 0 0 0;\n",
              "      width: 32px;\n",
              "    }\n",
              "\n",
              "    .colab-df-convert:hover {\n",
              "      background-color: #E2EBFA;\n",
              "      box-shadow: 0px 1px 2px rgba(60, 64, 67, 0.3), 0px 1px 3px 1px rgba(60, 64, 67, 0.15);\n",
              "      fill: #174EA6;\n",
              "    }\n",
              "\n",
              "    [theme=dark] .colab-df-convert {\n",
              "      background-color: #3B4455;\n",
              "      fill: #D2E3FC;\n",
              "    }\n",
              "\n",
              "    [theme=dark] .colab-df-convert:hover {\n",
              "      background-color: #434B5C;\n",
              "      box-shadow: 0px 1px 3px 1px rgba(0, 0, 0, 0.15);\n",
              "      filter: drop-shadow(0px 1px 2px rgba(0, 0, 0, 0.3));\n",
              "      fill: #FFFFFF;\n",
              "    }\n",
              "  </style>\n",
              "\n",
              "      <script>\n",
              "        const buttonEl =\n",
              "          document.querySelector('#df-b279053a-b93d-4bd9-b27f-6c3c80ec70c9 button.colab-df-convert');\n",
              "        buttonEl.style.display =\n",
              "          google.colab.kernel.accessAllowed ? 'block' : 'none';\n",
              "\n",
              "        async function convertToInteractive(key) {\n",
              "          const element = document.querySelector('#df-b279053a-b93d-4bd9-b27f-6c3c80ec70c9');\n",
              "          const dataTable =\n",
              "            await google.colab.kernel.invokeFunction('convertToInteractive',\n",
              "                                                     [key], {});\n",
              "          if (!dataTable) return;\n",
              "\n",
              "          const docLinkHtml = 'Like what you see? Visit the ' +\n",
              "            '<a target=\"_blank\" href=https://colab.research.google.com/notebooks/data_table.ipynb>data table notebook</a>'\n",
              "            + ' to learn more about interactive tables.';\n",
              "          element.innerHTML = '';\n",
              "          dataTable['output_type'] = 'display_data';\n",
              "          await google.colab.output.renderOutput(dataTable, element);\n",
              "          const docLink = document.createElement('div');\n",
              "          docLink.innerHTML = docLinkHtml;\n",
              "          element.appendChild(docLink);\n",
              "        }\n",
              "      </script>\n",
              "    </div>\n",
              "  </div>\n",
              "  "
            ]
          },
          "metadata": {},
          "execution_count": 58
        }
      ],
      "source": [
        "final_df3.head(30)"
      ]
    },
    {
      "cell_type": "code",
      "execution_count": null,
      "metadata": {
        "id": "CMDWes53CYPL"
      },
      "outputs": [],
      "source": [
        "# With feature selection check accuracy with Random Forest\n",
        "# Retrieve the 10 most informative features\n",
        "# use RFE to eleminate the less importance features\n",
        "\n",
        "sel_rfe_tree3 = RFE(estimator= rf_w3, n_features_to_select=10, step=1)\n",
        "\n",
        "# Fit the RFE object to the training & testing data\n",
        "X_train_rfe_tree3 = sel_rfe_tree3.fit_transform(X_train3, y_train3)\n",
        "X_test_rfe_tree3 = sel_rfe_tree3.transform(X_test3)\n",
        "\n",
        "#Reduce X to the selected features and then predict using the predict\n",
        "y_pred_rf3 = sel_rfe_tree3.predict(X_test3)\n",
        "#metrics.accuracy_score(y_test3,y_pred_rf3)"
      ]
    },
    {
      "cell_type": "code",
      "execution_count": null,
      "metadata": {
        "id": "iax22ZDMCYPL",
        "colab": {
          "base_uri": "https://localhost:8080/"
        },
        "outputId": "e874a3a5-e904-4853-f448-cbd3b239297d"
      },
      "outputs": [
        {
          "output_type": "execute_result",
          "data": {
            "text/plain": [
              "['Feature 4',\n",
              " 'Feature 6',\n",
              " 'Feature 7',\n",
              " 'Feature 11',\n",
              " 'Feature 13',\n",
              " 'Feature 14',\n",
              " 'Feature 16',\n",
              " 'Feature 25',\n",
              " 'Feature 27',\n",
              " 'Feature 30']"
            ]
          },
          "metadata": {},
          "execution_count": 60
        }
      ],
      "source": [
        "# Get the selected feature indices\n",
        "sel_feature_3 =sel_rfe_tree3.support_\n",
        "\n",
        "# find the number of selected features with the help of the following script:\n",
        "selected_cols3 = [column for column in X_train3.columns if column in X_train3.columns[sel_rfe_tree3.get_support()]]\n",
        "selected_cols3\n"
      ]
    },
    {
      "cell_type": "markdown",
      "metadata": {
        "id": "SOr0Q73n60jB"
      },
      "source": [
        "# **MODELLING**"
      ]
    },
    {
      "cell_type": "code",
      "execution_count": null,
      "metadata": {
        "id": "G6NbiGnHK3OD"
      },
      "outputs": [],
      "source": [
        "# Create a new feature matrix with selected features\n",
        "\n",
        "#SET A\n",
        "X_train_selected1 = X_train1.values[:, sel_feature_1]\n",
        "X_test_selected1 = X_test1.values[:, sel_feature_1]\n",
        "\n",
        "\n",
        "# SET B\n",
        "X_train_selected2 = X_train2.values[:, sel_feature_2]\n",
        "X_test_selected2 = X_test2.values[:, sel_feature_2]\n",
        "\n",
        "# SET C\n",
        "X_train_selected3 = X_train3.values[:, sel_feature_3]\n",
        "X_test_selected3 = X_test3.values[:, sel_feature_3]"
      ]
    },
    {
      "cell_type": "markdown",
      "metadata": {
        "id": "Un9xtVxGKt_r"
      },
      "source": [
        "#**HYBRID RF-SVM**"
      ]
    },
    {
      "cell_type": "markdown",
      "metadata": {
        "id": "22cVIDzAdJc4"
      },
      "source": [
        "#SET A"
      ]
    },
    {
      "cell_type": "code",
      "source": [
        "from sklearn.ensemble import RandomForestClassifier\n",
        "from sklearn.svm import SVC\n",
        "from sklearn.model_selection import GridSearchCV\n",
        "from sklearn.metrics import accuracy_score"
      ],
      "metadata": {
        "id": "UE42r3WYuX1S"
      },
      "execution_count": null,
      "outputs": []
    },
    {
      "cell_type": "code",
      "source": [
        "param_grid_rf = {\n",
        "    'n_estimators': [100, 200, 300],   # Number of trees in the random forest\n",
        "    'max_depth': [None, 5, 10],        # Maximum depth of the trees in the random forest\n",
        "}\n",
        "\n",
        "HY_rf_classifier1 = RandomForestClassifier(random_state=42)\n",
        "HY_grid_search_rf1 = GridSearchCV(HY_rf_classifier1, param_grid_rf, cv=5)\n",
        "HY_grid_search_rf1.fit(X_train_selected1,y_train1)\n",
        "\n",
        "HY_best_rf_classifier1 = HY_grid_search_rf1.best_estimator_\n",
        "print(\"Best parameters for Random Forest:\", HY_grid_search_rf1.best_params_)"
      ],
      "metadata": {
        "colab": {
          "base_uri": "https://localhost:8080/"
        },
        "id": "BN7JPPUUpTjU",
        "outputId": "b191e071-353a-4d9b-a5ed-c9c30b3e487c"
      },
      "execution_count": null,
      "outputs": [
        {
          "output_type": "stream",
          "name": "stdout",
          "text": [
            "Best parameters for Random Forest: {'max_depth': None, 'n_estimators': 200}\n"
          ]
        }
      ]
    },
    {
      "cell_type": "code",
      "source": [
        "#Obtain the predicted probabilities from the random forest classifier\n",
        "HY_rf_probabilities1 = HY_best_rf_classifier1.predict_proba(X_test_selected1)"
      ],
      "metadata": {
        "id": "DhlawJYcpXs-"
      },
      "execution_count": null,
      "outputs": []
    },
    {
      "cell_type": "code",
      "source": [
        "param_grid_svm = {\n",
        "    'C': [0.1, 1, 10],               # Regularization parameter for SVM\n",
        "    'gamma': [0.1, 0.01, 0.001]      # Kernel coefficient for SVM\n",
        "}"
      ],
      "metadata": {
        "id": "EqbXetRcpabX"
      },
      "execution_count": null,
      "outputs": []
    },
    {
      "cell_type": "code",
      "source": [
        "HY_svm_classifier1 = SVC(kernel='rbf', random_state=42)\n",
        "HY_grid_search_svm1 = GridSearchCV(HY_svm_classifier1, param_grid_svm, cv=5)\n",
        "HY_grid_search_svm1.fit(HY_rf_probabilities1, y_test1)\n",
        "\n",
        "HY_best_svm_params1 = HY_grid_search_svm1.best_params_\n",
        "\n",
        "#Train the SVM classifier with the best parameters\n",
        "HY_best_svm_classifier1 = SVC(kernel='rbf', random_state=42, **HY_best_svm_params1)\n",
        "HY_best_svm_classifier1.fit(HY_rf_probabilities1, y_test1)"
      ],
      "metadata": {
        "colab": {
          "base_uri": "https://localhost:8080/"
        },
        "id": "14eERuJ2pjDa",
        "outputId": "64c94967-297a-4585-d02c-23c70f329334"
      },
      "execution_count": null,
      "outputs": [
        {
          "output_type": "execute_result",
          "data": {
            "text/plain": [
              "SVC(C=10, gamma=0.01, random_state=42)"
            ],
            "text/html": [
              "<style>#sk-container-id-1 {color: black;background-color: white;}#sk-container-id-1 pre{padding: 0;}#sk-container-id-1 div.sk-toggleable {background-color: white;}#sk-container-id-1 label.sk-toggleable__label {cursor: pointer;display: block;width: 100%;margin-bottom: 0;padding: 0.3em;box-sizing: border-box;text-align: center;}#sk-container-id-1 label.sk-toggleable__label-arrow:before {content: \"▸\";float: left;margin-right: 0.25em;color: #696969;}#sk-container-id-1 label.sk-toggleable__label-arrow:hover:before {color: black;}#sk-container-id-1 div.sk-estimator:hover label.sk-toggleable__label-arrow:before {color: black;}#sk-container-id-1 div.sk-toggleable__content {max-height: 0;max-width: 0;overflow: hidden;text-align: left;background-color: #f0f8ff;}#sk-container-id-1 div.sk-toggleable__content pre {margin: 0.2em;color: black;border-radius: 0.25em;background-color: #f0f8ff;}#sk-container-id-1 input.sk-toggleable__control:checked~div.sk-toggleable__content {max-height: 200px;max-width: 100%;overflow: auto;}#sk-container-id-1 input.sk-toggleable__control:checked~label.sk-toggleable__label-arrow:before {content: \"▾\";}#sk-container-id-1 div.sk-estimator input.sk-toggleable__control:checked~label.sk-toggleable__label {background-color: #d4ebff;}#sk-container-id-1 div.sk-label input.sk-toggleable__control:checked~label.sk-toggleable__label {background-color: #d4ebff;}#sk-container-id-1 input.sk-hidden--visually {border: 0;clip: rect(1px 1px 1px 1px);clip: rect(1px, 1px, 1px, 1px);height: 1px;margin: -1px;overflow: hidden;padding: 0;position: absolute;width: 1px;}#sk-container-id-1 div.sk-estimator {font-family: monospace;background-color: #f0f8ff;border: 1px dotted black;border-radius: 0.25em;box-sizing: border-box;margin-bottom: 0.5em;}#sk-container-id-1 div.sk-estimator:hover {background-color: #d4ebff;}#sk-container-id-1 div.sk-parallel-item::after {content: \"\";width: 100%;border-bottom: 1px solid gray;flex-grow: 1;}#sk-container-id-1 div.sk-label:hover label.sk-toggleable__label {background-color: #d4ebff;}#sk-container-id-1 div.sk-serial::before {content: \"\";position: absolute;border-left: 1px solid gray;box-sizing: border-box;top: 0;bottom: 0;left: 50%;z-index: 0;}#sk-container-id-1 div.sk-serial {display: flex;flex-direction: column;align-items: center;background-color: white;padding-right: 0.2em;padding-left: 0.2em;position: relative;}#sk-container-id-1 div.sk-item {position: relative;z-index: 1;}#sk-container-id-1 div.sk-parallel {display: flex;align-items: stretch;justify-content: center;background-color: white;position: relative;}#sk-container-id-1 div.sk-item::before, #sk-container-id-1 div.sk-parallel-item::before {content: \"\";position: absolute;border-left: 1px solid gray;box-sizing: border-box;top: 0;bottom: 0;left: 50%;z-index: -1;}#sk-container-id-1 div.sk-parallel-item {display: flex;flex-direction: column;z-index: 1;position: relative;background-color: white;}#sk-container-id-1 div.sk-parallel-item:first-child::after {align-self: flex-end;width: 50%;}#sk-container-id-1 div.sk-parallel-item:last-child::after {align-self: flex-start;width: 50%;}#sk-container-id-1 div.sk-parallel-item:only-child::after {width: 0;}#sk-container-id-1 div.sk-dashed-wrapped {border: 1px dashed gray;margin: 0 0.4em 0.5em 0.4em;box-sizing: border-box;padding-bottom: 0.4em;background-color: white;}#sk-container-id-1 div.sk-label label {font-family: monospace;font-weight: bold;display: inline-block;line-height: 1.2em;}#sk-container-id-1 div.sk-label-container {text-align: center;}#sk-container-id-1 div.sk-container {/* jupyter's `normalize.less` sets `[hidden] { display: none; }` but bootstrap.min.css set `[hidden] { display: none !important; }` so we also need the `!important` here to be able to override the default hidden behavior on the sphinx rendered scikit-learn.org. See: https://github.com/scikit-learn/scikit-learn/issues/21755 */display: inline-block !important;position: relative;}#sk-container-id-1 div.sk-text-repr-fallback {display: none;}</style><div id=\"sk-container-id-1\" class=\"sk-top-container\"><div class=\"sk-text-repr-fallback\"><pre>SVC(C=10, gamma=0.01, random_state=42)</pre><b>In a Jupyter environment, please rerun this cell to show the HTML representation or trust the notebook. <br />On GitHub, the HTML representation is unable to render, please try loading this page with nbviewer.org.</b></div><div class=\"sk-container\" hidden><div class=\"sk-item\"><div class=\"sk-estimator sk-toggleable\"><input class=\"sk-toggleable__control sk-hidden--visually\" id=\"sk-estimator-id-1\" type=\"checkbox\" checked><label for=\"sk-estimator-id-1\" class=\"sk-toggleable__label sk-toggleable__label-arrow\">SVC</label><div class=\"sk-toggleable__content\"><pre>SVC(C=10, gamma=0.01, random_state=42)</pre></div></div></div></div></div>"
            ]
          },
          "metadata": {},
          "execution_count": 66
        }
      ]
    },
    {
      "cell_type": "code",
      "source": [
        "HY_svm_predictions1 = HY_best_svm_classifier1.predict(HY_rf_probabilities1)\n",
        "\n",
        "HY_accuracy1 = accuracy_score(y_test1, HY_svm_predictions1)\n",
        "\n",
        "print('Accuracy of Hybrid RF-SVM:', HY_accuracy1)"
      ],
      "metadata": {
        "colab": {
          "base_uri": "https://localhost:8080/"
        },
        "id": "7bwVckVnpdGf",
        "outputId": "a434b3a7-3bca-4096-8aca-9c6fffb37337"
      },
      "execution_count": null,
      "outputs": [
        {
          "output_type": "stream",
          "name": "stdout",
          "text": [
            "Accuracy of Hybrid RF-SVM: 0.9513682822288163\n"
          ]
        }
      ]
    },
    {
      "cell_type": "code",
      "source": [
        "from sklearn.metrics import confusion_matrix, classification_report, fbeta_score\n",
        "\n",
        "print(\"Set A Hybrid RF-SVM's Result =>\")\n",
        "print(\"Confusion matrix:\\n\", confusion_matrix(y_test1, HY_svm_predictions1))\n",
        "tn7, fp7, fn7, tp7 = confusion_matrix(y_test1, HY_svm_predictions1).ravel()\n",
        "\n",
        "HY_accuracy_cm1 = ((tp7 + tn7)/(tp7 + fp7 + tn7 + fn7))\n",
        "print (\"Accuracy:\\n\", HY_accuracy_cm1)\n",
        "\n",
        "HY_sen1 = (tp7/ (tp7 + fn7))\n",
        "print(\"Sensitivity/ Recall:\\n\", HY_sen1)\n",
        "\n",
        "HY_spe1 = (tn7 / (tn7 + fp7))\n",
        "print(\"Specifity:\\n\", HY_spe1)\n",
        "\n",
        "#PPV - Positive predictive values\n",
        "HY_ppv1 = (tp7/(tp7 + fp7))\n",
        "print (\"Positive predictive values/ Precision:\\n\", HY_ppv1)\n",
        "\n",
        "#NPV - Negative predictive values\n",
        "HY_npv1 = (tn7/(tn7 + fn7))\n",
        "print (\"Negative predictive values:\\n\", HY_npv1)\n",
        "\n",
        "#HY_F1_Score1 = 2*((HY_ppv1*HY_sen1)/(HY_ppv1+HY_sen1))\n",
        "#print(\"F1-score:\\n\", HY_F1_Score1)\n",
        "\n",
        "print(\"F1-score:\\n\", fbeta_score(y_test1, HY_svm_predictions1, beta=1.0))\n",
        "print(\"Classification Report:\\n\", classification_report(y_test1,  HY_svm_predictions1))"
      ],
      "metadata": {
        "colab": {
          "base_uri": "https://localhost:8080/"
        },
        "id": "y4fsB_GJrytH",
        "outputId": "d7de9406-be02-42ca-9e38-00142b570e68"
      },
      "execution_count": null,
      "outputs": [
        {
          "output_type": "stream",
          "name": "stdout",
          "text": [
            "Set A Hybrid RF-SVM's Result =>\n",
            "Confusion matrix:\n",
            " [[2914  146]\n",
            " [ 149 2857]]\n",
            "Accuracy:\n",
            " 0.9513682822288163\n",
            "Sensitivity/ Recall:\n",
            " 0.9504324683965403\n",
            "Specifity:\n",
            " 0.9522875816993464\n",
            "Positive predictive values/ Precision:\n",
            " 0.9513819513819514\n",
            "Negative predictive values:\n",
            " 0.9513548808357819\n",
            "F1-score:\n",
            " 0.9509069728740224\n",
            "Classification Report:\n",
            "               precision    recall  f1-score   support\n",
            "\n",
            "          -1       0.95      0.95      0.95      3060\n",
            "           1       0.95      0.95      0.95      3006\n",
            "\n",
            "    accuracy                           0.95      6066\n",
            "   macro avg       0.95      0.95      0.95      6066\n",
            "weighted avg       0.95      0.95      0.95      6066\n",
            "\n"
          ]
        }
      ]
    },
    {
      "cell_type": "code",
      "source": [
        "import seaborn as sns\n",
        "import matplotlib.pyplot as plt\n",
        "\n",
        "# Create confusion matrix\n",
        "HY_cm1 = confusion_matrix(y_test1, HY_svm_predictions1)\n",
        "\n",
        "# Create a heatmap with colors and annotations\n",
        "sns.heatmap(HY_cm1 , annot=True, fmt='d', cmap=\"Blues\")\n",
        "plt.title('Confusion Matrix')\n",
        "plt.xlabel('Predicted')\n",
        "plt.ylabel('Actual')\n",
        "plt.show()"
      ],
      "metadata": {
        "colab": {
          "base_uri": "https://localhost:8080/"
        },
        "id": "HnVWO3pjt9Tu",
        "outputId": "62da037f-2360-4114-a1b5-8302a0774e13"
      },
      "execution_count": null,
      "outputs": [
        {
          "output_type": "display_data",
          "data": {
            "text/plain": [
              "<Figure size 640x480 with 2 Axes>"
            ],
            "image/png": "[encoded data removed]"
          },
          "metadata": {}
        }
      ]
    },
    {
      "cell_type": "markdown",
      "source": [
        "#SET B"
      ],
      "metadata": {
        "id": "A30lDnVHzddv"
      }
    },
    {
      "cell_type": "code",
      "source": [
        "from sklearn.ensemble import RandomForestClassifier\n",
        "from sklearn.svm import SVC\n",
        "from sklearn.model_selection import GridSearchCV\n",
        "from sklearn.metrics import accuracy_score"
      ],
      "metadata": {
        "id": "HuijDrm7zjOD"
      },
      "execution_count": null,
      "outputs": []
    },
    {
      "cell_type": "code",
      "source": [
        "param_grid_rf = {\n",
        "    'n_estimators': [100, 200, 300],   # Number of trees in the random forest\n",
        "    'max_depth': [None, 5, 10],        # Maximum depth of the trees in the random forest\n",
        "}\n",
        "\n",
        "HY_rf_classifier2 = RandomForestClassifier(random_state=42)\n",
        "HY_grid_search_rf2 = GridSearchCV(HY_rf_classifier2, param_grid_rf, cv=5)\n",
        "HY_grid_search_rf2.fit(X_train_selected2,y_train2)\n",
        "\n",
        "HY_best_rf_classifier2 = HY_grid_search_rf2.best_estimator_\n",
        "print(\"Best parameters for Random Forest:\", HY_grid_search_rf2.best_params_)"
      ],
      "metadata": {
        "colab": {
          "base_uri": "https://localhost:8080/"
        },
        "id": "mIVi2iXxzjOK",
        "outputId": "f249930e-fb38-48df-fa16-443c531717cc"
      },
      "execution_count": null,
      "outputs": [
        {
          "output_type": "stream",
          "name": "stdout",
          "text": [
            "Best parameters for Random Forest: {'max_depth': None, 'n_estimators': 300}\n"
          ]
        }
      ]
    },
    {
      "cell_type": "code",
      "source": [
        "#Obtain the predicted probabilities from the random forest classifier\n",
        "HY_rf_probabilities2 = HY_best_rf_classifier2.predict_proba(X_test_selected2)"
      ],
      "metadata": {
        "id": "Focgh2t4zjOK"
      },
      "execution_count": null,
      "outputs": []
    },
    {
      "cell_type": "code",
      "source": [
        "param_grid_svm = {\n",
        "    'C': [0.1, 1, 10],               # Regularization parameter for SVM\n",
        "    'gamma': [0.1, 0.01, 0.001]      # Kernel coefficient for SVM\n",
        "}"
      ],
      "metadata": {
        "id": "kxzcIPRezjOL"
      },
      "execution_count": null,
      "outputs": []
    },
    {
      "cell_type": "code",
      "source": [
        "HY_svm_classifier2 = SVC(kernel='rbf', random_state=42)\n",
        "HY_grid_search_svm2 = GridSearchCV(HY_svm_classifier2, param_grid_svm, cv=5)\n",
        "HY_grid_search_svm2.fit(HY_rf_probabilities2, y_test2)\n",
        "\n",
        "HY_best_svm_params2 = HY_grid_search_svm2.best_params_\n",
        "\n",
        "#Train the SVM classifier with the best parameters\n",
        "HY_best_svm_classifier2 = SVC(kernel='rbf', random_state=42, **HY_best_svm_params2)\n",
        "HY_best_svm_classifier2.fit(HY_rf_probabilities2, y_test2)"
      ],
      "metadata": {
        "colab": {
          "base_uri": "https://localhost:8080/"
        },
        "outputId": "394fc957-c1bf-4eeb-bc00-8d380f4ac56a",
        "id": "GJXBH12JzjOL"
      },
      "execution_count": null,
      "outputs": [
        {
          "output_type": "execute_result",
          "data": {
            "text/plain": [
              "SVC(C=1, gamma=0.1, random_state=42)"
            ],
            "text/html": [
              "<style>#sk-container-id-2 {color: black;background-color: white;}#sk-container-id-2 pre{padding: 0;}#sk-container-id-2 div.sk-toggleable {background-color: white;}#sk-container-id-2 label.sk-toggleable__label {cursor: pointer;display: block;width: 100%;margin-bottom: 0;padding: 0.3em;box-sizing: border-box;text-align: center;}#sk-container-id-2 label.sk-toggleable__label-arrow:before {content: \"▸\";float: left;margin-right: 0.25em;color: #696969;}#sk-container-id-2 label.sk-toggleable__label-arrow:hover:before {color: black;}#sk-container-id-2 div.sk-estimator:hover label.sk-toggleable__label-arrow:before {color: black;}#sk-container-id-2 div.sk-toggleable__content {max-height: 0;max-width: 0;overflow: hidden;text-align: left;background-color: #f0f8ff;}#sk-container-id-2 div.sk-toggleable__content pre {margin: 0.2em;color: black;border-radius: 0.25em;background-color: #f0f8ff;}#sk-container-id-2 input.sk-toggleable__control:checked~div.sk-toggleable__content {max-height: 200px;max-width: 100%;overflow: auto;}#sk-container-id-2 input.sk-toggleable__control:checked~label.sk-toggleable__label-arrow:before {content: \"▾\";}#sk-container-id-2 div.sk-estimator input.sk-toggleable__control:checked~label.sk-toggleable__label {background-color: #d4ebff;}#sk-container-id-2 div.sk-label input.sk-toggleable__control:checked~label.sk-toggleable__label {background-color: #d4ebff;}#sk-container-id-2 input.sk-hidden--visually {border: 0;clip: rect(1px 1px 1px 1px);clip: rect(1px, 1px, 1px, 1px);height: 1px;margin: -1px;overflow: hidden;padding: 0;position: absolute;width: 1px;}#sk-container-id-2 div.sk-estimator {font-family: monospace;background-color: #f0f8ff;border: 1px dotted black;border-radius: 0.25em;box-sizing: border-box;margin-bottom: 0.5em;}#sk-container-id-2 div.sk-estimator:hover {background-color: #d4ebff;}#sk-container-id-2 div.sk-parallel-item::after {content: \"\";width: 100%;border-bottom: 1px solid gray;flex-grow: 1;}#sk-container-id-2 div.sk-label:hover label.sk-toggleable__label {background-color: #d4ebff;}#sk-container-id-2 div.sk-serial::before {content: \"\";position: absolute;border-left: 1px solid gray;box-sizing: border-box;top: 0;bottom: 0;left: 50%;z-index: 0;}#sk-container-id-2 div.sk-serial {display: flex;flex-direction: column;align-items: center;background-color: white;padding-right: 0.2em;padding-left: 0.2em;position: relative;}#sk-container-id-2 div.sk-item {position: relative;z-index: 1;}#sk-container-id-2 div.sk-parallel {display: flex;align-items: stretch;justify-content: center;background-color: white;position: relative;}#sk-container-id-2 div.sk-item::before, #sk-container-id-2 div.sk-parallel-item::before {content: \"\";position: absolute;border-left: 1px solid gray;box-sizing: border-box;top: 0;bottom: 0;left: 50%;z-index: -1;}#sk-container-id-2 div.sk-parallel-item {display: flex;flex-direction: column;z-index: 1;position: relative;background-color: white;}#sk-container-id-2 div.sk-parallel-item:first-child::after {align-self: flex-end;width: 50%;}#sk-container-id-2 div.sk-parallel-item:last-child::after {align-self: flex-start;width: 50%;}#sk-container-id-2 div.sk-parallel-item:only-child::after {width: 0;}#sk-container-id-2 div.sk-dashed-wrapped {border: 1px dashed gray;margin: 0 0.4em 0.5em 0.4em;box-sizing: border-box;padding-bottom: 0.4em;background-color: white;}#sk-container-id-2 div.sk-label label {font-family: monospace;font-weight: bold;display: inline-block;line-height: 1.2em;}#sk-container-id-2 div.sk-label-container {text-align: center;}#sk-container-id-2 div.sk-container {/* jupyter's `normalize.less` sets `[hidden] { display: none; }` but bootstrap.min.css set `[hidden] { display: none !important; }` so we also need the `!important` here to be able to override the default hidden behavior on the sphinx rendered scikit-learn.org. See: https://github.com/scikit-learn/scikit-learn/issues/21755 */display: inline-block !important;position: relative;}#sk-container-id-2 div.sk-text-repr-fallback {display: none;}</style><div id=\"sk-container-id-2\" class=\"sk-top-container\"><div class=\"sk-text-repr-fallback\"><pre>SVC(C=1, gamma=0.1, random_state=42)</pre><b>In a Jupyter environment, please rerun this cell to show the HTML representation or trust the notebook. <br />On GitHub, the HTML representation is unable to render, please try loading this page with nbviewer.org.</b></div><div class=\"sk-container\" hidden><div class=\"sk-item\"><div class=\"sk-estimator sk-toggleable\"><input class=\"sk-toggleable__control sk-hidden--visually\" id=\"sk-estimator-id-2\" type=\"checkbox\" checked><label for=\"sk-estimator-id-2\" class=\"sk-toggleable__label sk-toggleable__label-arrow\">SVC</label><div class=\"sk-toggleable__content\"><pre>SVC(C=1, gamma=0.1, random_state=42)</pre></div></div></div></div></div>"
            ]
          },
          "metadata": {},
          "execution_count": 74
        }
      ]
    },
    {
      "cell_type": "code",
      "source": [
        "HY_svm_predictions2 = HY_best_svm_classifier2.predict(HY_rf_probabilities2)\n",
        "\n",
        "HY_accuracy2 = accuracy_score(y_test2, HY_svm_predictions2)\n",
        "\n",
        "print('Accuracy of Hybrid RF-SVM:', HY_accuracy2)"
      ],
      "metadata": {
        "colab": {
          "base_uri": "https://localhost:8080/"
        },
        "outputId": "d54a65c9-983d-4131-c364-e0d9af169ab9",
        "id": "peVdiReyzjOL"
      },
      "execution_count": null,
      "outputs": [
        {
          "output_type": "stream",
          "name": "stdout",
          "text": [
            "Accuracy of Hybrid RF-SVM: 0.9552503322995126\n"
          ]
        }
      ]
    },
    {
      "cell_type": "code",
      "source": [
        "from sklearn.metrics import confusion_matrix, classification_report, fbeta_score\n",
        "\n",
        "print(\"Set B Hybrid RF-SVM's Result =>\")\n",
        "print(\"Confusion matrix:\\n\", confusion_matrix(y_test2, HY_svm_predictions2))\n",
        "tn8, fp8, fn8, tp8 = confusion_matrix(y_test2, HY_svm_predictions2).ravel()\n",
        "\n",
        "HY_accuracy_cm2 = ((tp8 + tn8)/(tp8 + fp8 + tn8 + fn8))\n",
        "print (\"Accuracy:\\n\", HY_accuracy_cm2)\n",
        "\n",
        "HY_sen2 = (tp8/ (tp8 + fn8))\n",
        "print(\"Sensitivity/ Recall:\\n\", HY_sen2)\n",
        "\n",
        "HY_spe2 = (tn8 / (tn8 + fp8))\n",
        "print(\"Specifity:\\n\", HY_spe2)\n",
        "\n",
        "#PPV - Positive predictive values\n",
        "HY_ppv2 = (tp8/(tp8 + fp8))\n",
        "print (\"Positive predictive values/ Precision:\\n\", HY_ppv2)\n",
        "\n",
        "#NPV - Negative predictive values\n",
        "HY_npv2 = (tn8/(tn8 + fn8))\n",
        "print (\"Negative predictive values:\\n\", HY_npv2)\n",
        "\n",
        "#HY_F1_Score2 = 2*((HY_ppv2 * HY_sen2)/(HY_ppv2 + HY_sen2))\n",
        "#print(\"F1-score:\\n\", HY_F1_Score2)\n",
        "\n",
        "print(\"F1-score:\\n\", fbeta_score(y_test2, HY_svm_predictions2, beta=1.0))\n",
        "print(\"Classification Report:\\n\", classification_report(y_test2, HY_svm_predictions2))"
      ],
      "metadata": {
        "colab": {
          "base_uri": "https://localhost:8080/"
        },
        "outputId": "a5e0e8e3-48c5-43c7-8a88-d94580365afb",
        "id": "bjqoLLrkzjOL"
      },
      "execution_count": null,
      "outputs": [
        {
          "output_type": "stream",
          "name": "stdout",
          "text": [
            "Set B Hybrid RF-SVM's Result =>\n",
            "Confusion matrix:\n",
            " [[1091   45]\n",
            " [  56 1065]]\n",
            "Accuracy:\n",
            " 0.9552503322995126\n",
            "Sensitivity/ Recall:\n",
            " 0.9500446030330062\n",
            "Specifity:\n",
            " 0.960387323943662\n",
            "Positive predictive values/ Precision:\n",
            " 0.9594594594594594\n",
            "Negative predictive values:\n",
            " 0.951176983435048\n",
            "F1-score:\n",
            " 0.9547288211564321\n",
            "Classification Report:\n",
            "               precision    recall  f1-score   support\n",
            "\n",
            "          -1       0.95      0.96      0.96      1136\n",
            "           1       0.96      0.95      0.95      1121\n",
            "\n",
            "    accuracy                           0.96      2257\n",
            "   macro avg       0.96      0.96      0.96      2257\n",
            "weighted avg       0.96      0.96      0.96      2257\n",
            "\n"
          ]
        }
      ]
    },
    {
      "cell_type": "code",
      "source": [
        "import seaborn as sns\n",
        "import matplotlib.pyplot as plt\n",
        "\n",
        "# Create confusion matrix\n",
        "HY_cm2 = confusion_matrix(y_test2, HY_svm_predictions2)\n",
        "\n",
        "# Create a heatmap with colors and annotations\n",
        "sns.heatmap(HY_cm2, annot=True, fmt='d', cmap=\"Blues\")\n",
        "plt.title('Confusion Matrix')\n",
        "plt.xlabel('Predicted')\n",
        "plt.ylabel('Actual')\n",
        "plt.show()"
      ],
      "metadata": {
        "colab": {
          "base_uri": "https://localhost:8080/"
        },
        "outputId": "324047ba-7d9b-4b90-8975-859ad8388b1a",
        "id": "NOPsv8zbzjOL"
      },
      "execution_count": null,
      "outputs": [
        {
          "output_type": "display_data",
          "data": {
            "text/plain": [
              "<Figure size 640x480 with 2 Axes>"
            ],
            "image/png": "[encoded data removed]"
          },
          "metadata": {}
        }
      ]
    },
    {
      "cell_type": "markdown",
      "source": [
        "#SET C"
      ],
      "metadata": {
        "id": "2qCWypn-1TWs"
      }
    },
    {
      "cell_type": "code",
      "source": [
        "from sklearn.ensemble import RandomForestClassifier\n",
        "from sklearn.svm import SVC\n",
        "from sklearn.model_selection import GridSearchCV\n",
        "from sklearn.metrics import accuracy_score"
      ],
      "metadata": {
        "id": "Oj8RtShI1W1t"
      },
      "execution_count": null,
      "outputs": []
    },
    {
      "cell_type": "code",
      "source": [
        "param_grid_rf = {\n",
        "    'n_estimators': [100, 200, 300],   # Number of trees in the random forest\n",
        "    'max_depth': [None, 5, 10],        # Maximum depth of the trees in the random forest\n",
        "}\n",
        "\n",
        "HY_rf_classifier3 = RandomForestClassifier(random_state=42)\n",
        "HY_grid_search_rf3 = GridSearchCV(HY_rf_classifier3, param_grid_rf, cv=5)\n",
        "HY_grid_search_rf3.fit(X_train_selected3,y_train3)\n",
        "\n",
        "HY_best_rf_classifier3 = HY_grid_search_rf3.best_estimator_\n",
        "\n",
        "print(\"Best parameters for Random Forest:\", HY_grid_search_rf3.best_params_)"
      ],
      "metadata": {
        "colab": {
          "base_uri": "https://localhost:8080/"
        },
        "id": "8SOWF5Ku1W1t",
        "outputId": "7f09c21b-ab28-40c7-aa7d-f4491c94790b"
      },
      "execution_count": null,
      "outputs": [
        {
          "output_type": "stream",
          "name": "stdout",
          "text": [
            "Best parameters for Random Forest: {'max_depth': None, 'n_estimators': 300}\n"
          ]
        }
      ]
    },
    {
      "cell_type": "code",
      "source": [
        "#Obtain the predicted probabilities from the random forest classifier\n",
        "HY_rf_probabilities3 = HY_best_rf_classifier3.predict_proba(X_test_selected3)"
      ],
      "metadata": {
        "id": "pHIX-yhj1W1t"
      },
      "execution_count": null,
      "outputs": []
    },
    {
      "cell_type": "code",
      "source": [
        "param_grid_svm = {\n",
        "    'C': [0.1, 1, 10],               # Regularization parameter for SVM\n",
        "    'gamma': [0.1, 0.01, 0.001]      # Kernel coefficient for SVM\n",
        "}"
      ],
      "metadata": {
        "id": "w_lUYB1K1W1u"
      },
      "execution_count": null,
      "outputs": []
    },
    {
      "cell_type": "code",
      "source": [
        "HY_svm_classifier3 = SVC(kernel='rbf', random_state=42)\n",
        "HY_grid_search_svm3 = GridSearchCV(HY_svm_classifier3, param_grid_svm, cv=5)\n",
        "HY_grid_search_svm3.fit(HY_rf_probabilities3, y_test3)\n",
        "\n",
        "HY_best_svm_params3 = HY_grid_search_svm3.best_params_\n",
        "\n",
        "#Train the SVM classifier with the best parameters\n",
        "HY_best_svm_classifier3 = SVC(kernel='rbf', random_state=42, **HY_best_svm_params3)\n",
        "HY_best_svm_classifier3.fit(HY_rf_probabilities3, y_test3)"
      ],
      "metadata": {
        "colab": {
          "base_uri": "https://localhost:8080/"
        },
        "outputId": "38479e30-4aad-434d-875e-eebb2fe3f1e2",
        "id": "Fh6vCe_j1W1u"
      },
      "execution_count": null,
      "outputs": [
        {
          "output_type": "execute_result",
          "data": {
            "text/plain": [
              "SVC(C=10, gamma=0.1, random_state=42)"
            ],
            "text/html": [
              "<style>#sk-container-id-3 {color: black;background-color: white;}#sk-container-id-3 pre{padding: 0;}#sk-container-id-3 div.sk-toggleable {background-color: white;}#sk-container-id-3 label.sk-toggleable__label {cursor: pointer;display: block;width: 100%;margin-bottom: 0;padding: 0.3em;box-sizing: border-box;text-align: center;}#sk-container-id-3 label.sk-toggleable__label-arrow:before {content: \"▸\";float: left;margin-right: 0.25em;color: #696969;}#sk-container-id-3 label.sk-toggleable__label-arrow:hover:before {color: black;}#sk-container-id-3 div.sk-estimator:hover label.sk-toggleable__label-arrow:before {color: black;}#sk-container-id-3 div.sk-toggleable__content {max-height: 0;max-width: 0;overflow: hidden;text-align: left;background-color: #f0f8ff;}#sk-container-id-3 div.sk-toggleable__content pre {margin: 0.2em;color: black;border-radius: 0.25em;background-color: #f0f8ff;}#sk-container-id-3 input.sk-toggleable__control:checked~div.sk-toggleable__content {max-height: 200px;max-width: 100%;overflow: auto;}#sk-container-id-3 input.sk-toggleable__control:checked~label.sk-toggleable__label-arrow:before {content: \"▾\";}#sk-container-id-3 div.sk-estimator input.sk-toggleable__control:checked~label.sk-toggleable__label {background-color: #d4ebff;}#sk-container-id-3 div.sk-label input.sk-toggleable__control:checked~label.sk-toggleable__label {background-color: #d4ebff;}#sk-container-id-3 input.sk-hidden--visually {border: 0;clip: rect(1px 1px 1px 1px);clip: rect(1px, 1px, 1px, 1px);height: 1px;margin: -1px;overflow: hidden;padding: 0;position: absolute;width: 1px;}#sk-container-id-3 div.sk-estimator {font-family: monospace;background-color: #f0f8ff;border: 1px dotted black;border-radius: 0.25em;box-sizing: border-box;margin-bottom: 0.5em;}#sk-container-id-3 div.sk-estimator:hover {background-color: #d4ebff;}#sk-container-id-3 div.sk-parallel-item::after {content: \"\";width: 100%;border-bottom: 1px solid gray;flex-grow: 1;}#sk-container-id-3 div.sk-label:hover label.sk-toggleable__label {background-color: #d4ebff;}#sk-container-id-3 div.sk-serial::before {content: \"\";position: absolute;border-left: 1px solid gray;box-sizing: border-box;top: 0;bottom: 0;left: 50%;z-index: 0;}#sk-container-id-3 div.sk-serial {display: flex;flex-direction: column;align-items: center;background-color: white;padding-right: 0.2em;padding-left: 0.2em;position: relative;}#sk-container-id-3 div.sk-item {position: relative;z-index: 1;}#sk-container-id-3 div.sk-parallel {display: flex;align-items: stretch;justify-content: center;background-color: white;position: relative;}#sk-container-id-3 div.sk-item::before, #sk-container-id-3 div.sk-parallel-item::before {content: \"\";position: absolute;border-left: 1px solid gray;box-sizing: border-box;top: 0;bottom: 0;left: 50%;z-index: -1;}#sk-container-id-3 div.sk-parallel-item {display: flex;flex-direction: column;z-index: 1;position: relative;background-color: white;}#sk-container-id-3 div.sk-parallel-item:first-child::after {align-self: flex-end;width: 50%;}#sk-container-id-3 div.sk-parallel-item:last-child::after {align-self: flex-start;width: 50%;}#sk-container-id-3 div.sk-parallel-item:only-child::after {width: 0;}#sk-container-id-3 div.sk-dashed-wrapped {border: 1px dashed gray;margin: 0 0.4em 0.5em 0.4em;box-sizing: border-box;padding-bottom: 0.4em;background-color: white;}#sk-container-id-3 div.sk-label label {font-family: monospace;font-weight: bold;display: inline-block;line-height: 1.2em;}#sk-container-id-3 div.sk-label-container {text-align: center;}#sk-container-id-3 div.sk-container {/* jupyter's `normalize.less` sets `[hidden] { display: none; }` but bootstrap.min.css set `[hidden] { display: none !important; }` so we also need the `!important` here to be able to override the default hidden behavior on the sphinx rendered scikit-learn.org. See: https://github.com/scikit-learn/scikit-learn/issues/21755 */display: inline-block !important;position: relative;}#sk-container-id-3 div.sk-text-repr-fallback {display: none;}</style><div id=\"sk-container-id-3\" class=\"sk-top-container\"><div class=\"sk-text-repr-fallback\"><pre>SVC(C=10, gamma=0.1, random_state=42)</pre><b>In a Jupyter environment, please rerun this cell to show the HTML representation or trust the notebook. <br />On GitHub, the HTML representation is unable to render, please try loading this page with nbviewer.org.</b></div><div class=\"sk-container\" hidden><div class=\"sk-item\"><div class=\"sk-estimator sk-toggleable\"><input class=\"sk-toggleable__control sk-hidden--visually\" id=\"sk-estimator-id-3\" type=\"checkbox\" checked><label for=\"sk-estimator-id-3\" class=\"sk-toggleable__label sk-toggleable__label-arrow\">SVC</label><div class=\"sk-toggleable__content\"><pre>SVC(C=10, gamma=0.1, random_state=42)</pre></div></div></div></div></div>"
            ]
          },
          "metadata": {},
          "execution_count": 82
        }
      ]
    },
    {
      "cell_type": "code",
      "source": [
        "HY_svm_predictions3 = HY_best_svm_classifier3.predict(HY_rf_probabilities3)\n",
        "\n",
        "HY_accuracy3 = accuracy_score(y_test3, HY_svm_predictions3)\n",
        "\n",
        "print('Accuracy of Hybrid RF-SVM:', HY_accuracy3)"
      ],
      "metadata": {
        "colab": {
          "base_uri": "https://localhost:8080/"
        },
        "outputId": "2d1a71fe-4d4a-4639-ec92-0bff5a2b0cfa",
        "id": "hh7bObJH1W1u"
      },
      "execution_count": null,
      "outputs": [
        {
          "output_type": "stream",
          "name": "stdout",
          "text": [
            "Accuracy of Hybrid RF-SVM: 0.9360228198859005\n"
          ]
        }
      ]
    },
    {
      "cell_type": "code",
      "source": [
        "from sklearn.metrics import confusion_matrix, classification_report, fbeta_score\n",
        "\n",
        "print(\"Set C Hybrid RF-SVM's Result =>\")\n",
        "print(\"Confusion matrix:\\n\", confusion_matrix(y_test3, HY_svm_predictions3))\n",
        "tn9, fp9, fn9, tp9 = confusion_matrix(y_test3, HY_svm_predictions3).ravel()\n",
        "\n",
        "HY_accuracy_cm3 = ((tp9 + tn9)/(tp9 + fp9 + tn9 + fn9))\n",
        "print (\"Accuracy:\\n\", HY_accuracy_cm3)\n",
        "\n",
        "HY_sen3 = (tp9/ (tp9 + fn9))\n",
        "print(\"Sensitivity/ Recall:\\n\", HY_sen3)\n",
        "\n",
        "HY_spe3 = (tn9 / (tn9 + fp9))\n",
        "print(\"Specifity:\\n\", HY_spe3)\n",
        "\n",
        "#PPV - Positive predictive values\n",
        "HY_ppv3 = (tp9/(tp9 + fp9))\n",
        "print (\"Positive predictive values/ Precision:\\n\", HY_ppv3)\n",
        "\n",
        "#NPV - Negative predictive values\n",
        "HY_npv3 = (tn9/(tn9 + fn9))\n",
        "print (\"Negative predictive values:\\n\", HY_npv3)\n",
        "\n",
        "#HY_F1_Score3 = 2*((HY_ppv3 * HY_sen3)/(HY_ppv3 + HY_sen3))\n",
        "#print(\"F1-score:\\n\", HY_F1_Score3)\n",
        "\n",
        "print(\"F1-score:\\n\", fbeta_score(y_test3, HY_svm_predictions3, beta=1.0))\n",
        "print(\"Classification Report:\\n\", classification_report(y_test3, HY_svm_predictions3))"
      ],
      "metadata": {
        "colab": {
          "base_uri": "https://localhost:8080/"
        },
        "outputId": "8c3b52c4-df08-4c0a-d7e9-8e551a872294",
        "id": "3nFeLNcO1W1v"
      },
      "execution_count": null,
      "outputs": [
        {
          "output_type": "stream",
          "name": "stdout",
          "text": [
            "Set C Hybrid RF-SVM's Result =>\n",
            "Confusion matrix:\n",
            " [[1144   65]\n",
            " [  92 1153]]\n",
            "Accuracy:\n",
            " 0.9360228198859005\n",
            "Sensitivity/ Recall:\n",
            " 0.9261044176706827\n",
            "Specifity:\n",
            " 0.946236559139785\n",
            "Positive predictive values/ Precision:\n",
            " 0.9466338259441708\n",
            "Negative predictive values:\n",
            " 0.9255663430420712\n",
            "F1-score:\n",
            " 0.9362565976451481\n",
            "Classification Report:\n",
            "               precision    recall  f1-score   support\n",
            "\n",
            "          -1       0.93      0.95      0.94      1209\n",
            "           1       0.95      0.93      0.94      1245\n",
            "\n",
            "    accuracy                           0.94      2454\n",
            "   macro avg       0.94      0.94      0.94      2454\n",
            "weighted avg       0.94      0.94      0.94      2454\n",
            "\n"
          ]
        }
      ]
    },
    {
      "cell_type": "code",
      "source": [
        "import seaborn as sns\n",
        "import matplotlib.pyplot as plt\n",
        "\n",
        "# Create confusion matrix\n",
        "HY_cm3 = confusion_matrix(y_test3, HY_svm_predictions3)\n",
        "\n",
        "# Create a heatmap with colors and annotations\n",
        "sns.heatmap(HY_cm3, annot=True, fmt='d', cmap=\"Blues\")\n",
        "plt.title('Confusion Matrix')\n",
        "plt.xlabel('Predicted')\n",
        "plt.ylabel('Actual')\n",
        "plt.show()"
      ],
      "metadata": {
        "colab": {
          "base_uri": "https://localhost:8080/"
        },
        "outputId": "65f2d919-069d-4199-b9dd-9b82f3e2ab96",
        "id": "nkFBovHS1W1v"
      },
      "execution_count": null,
      "outputs": [
        {
          "output_type": "display_data",
          "data": {
            "text/plain": [
              "<Figure size 640x480 with 2 Axes>"
            ],
            "image/png": "[encoded data removed]"
          },
          "metadata": {}
        }
      ]
    },
    {
      "cell_type": "markdown",
      "source": [
        "#OVERALL RESULT GRAPH (HYBRID RF-SVM)"
      ],
      "metadata": {
        "id": "FZgolI2N40em"
      }
    },
    {
      "cell_type": "code",
      "source": [
        "import numpy as np\n",
        "import matplotlib.pyplot as plt\n",
        "\n",
        "# Accuracy values for datasets A, B, and C\n",
        "accuracy_A = [HY_accuracy_cm1]\n",
        "accuracy_B = [HY_accuracy_cm2]\n",
        "accuracy_C = [HY_accuracy_cm3]\n",
        "\n",
        "# Sensitivity values for datasets A, B, and C\n",
        "sensitivity_A = [HY_sen1]\n",
        "sensitivity_B = [HY_sen2]\n",
        "sensitivity_C = [HY_sen3]\n",
        "\n",
        "\n",
        "# Specificity values for datasets A, B, and C\n",
        "specificity_A = [HY_spe1]\n",
        "specificity_B = [HY_spe2]\n",
        "specificity_C = [HY_spe3]\n",
        "\n",
        "\n",
        "# Precision values for datasets A, B, and C\n",
        "precision_A = [HY_ppv1]\n",
        "precision_B = [HY_ppv2]\n",
        "precision_C = [HY_ppv3]\n",
        "\n",
        "# Create a list of labels for the x-axis (accuracy, sensitivity, specificity, precision)\n",
        "labels = ['Accuracy', 'Sensitivity', 'Specificity', 'Precision']\n",
        "\n",
        "# Set the width of the bars\n",
        "bar_width = 0.2\n",
        "\n",
        "# Set the positions of the bars on the x-axis\n",
        "r1 = np.arange(len(labels))\n",
        "r2 = [x + bar_width for x in r1]\n",
        "r3 = [x + bar_width for x in r2]\n",
        "\n",
        "# Create the bar graph\n",
        "plt.figure(figsize=(10, 6))\n",
        "plt.bar(r1, [accuracy_A[0], sensitivity_A[0], specificity_A[0], precision_A[0]], color='blue', width=bar_width, edgecolor='white', label='Set A')\n",
        "plt.bar(r2, [accuracy_B[0], sensitivity_B[0], specificity_B[0], precision_B[0]], color='green', width=bar_width, edgecolor='white', label='Set B')\n",
        "plt.bar(r3, [accuracy_C[0], sensitivity_C[0], specificity_C[0], precision_C[0]], color='orange', width=bar_width, edgecolor='white', label='Set C')\n",
        "\n",
        "# Add labels, title, and legend\n",
        "plt.xlabel('Metrics')\n",
        "plt.ylabel('Scores')\n",
        "plt.title('Metrics evaluation of Hybrid RF-SVM')\n",
        "plt.xticks([r + bar_width for r in range(len(labels))], labels)\n",
        "plt.legend()\n",
        "\n",
        "# Show the plot\n",
        "plt.show()\n"
      ],
      "metadata": {
        "colab": {
          "base_uri": "https://localhost:8080/"
        },
        "id": "A1ztLjGf4-lK",
        "outputId": "c288ab4b-a5b6-4557-ac3f-342f060237bd"
      },
      "execution_count": null,
      "outputs": [
        {
          "output_type": "display_data",
          "data": {
            "text/plain": [
              "<Figure size 1000x600 with 1 Axes>"
            ],
            "image/png": "[encoded data removed]"
          },
          "metadata": {}
        }
      ]
    },
    {
      "cell_type": "markdown",
      "source": [
        "#AU_ROC CURVE (HYBRID RF-SVM)"
      ],
      "metadata": {
        "id": "Y97106kK4_fs"
      }
    },
    {
      "cell_type": "code",
      "source": [
        "from sklearn.metrics import roc_curve, auc\n",
        "import matplotlib.pyplot as plt\n",
        "\n",
        "\n",
        "# Compute false positive rate, true positive rate, and threshold for each dataset\n",
        "fpr_A, tpr_A, thresholds_A = roc_curve(y_test1, HY_svm_predictions1)\n",
        "fpr_B, tpr_B, thresholds_B = roc_curve(y_test2, HY_svm_predictions2)\n",
        "fpr_C, tpr_C, thresholds_C = roc_curve(y_test3, HY_svm_predictions3)\n",
        "\n",
        "# Compute the area under the ROC curve for each dataset\n",
        "roc_auc_A = auc(fpr_A, tpr_A)\n",
        "roc_auc_B = auc(fpr_B, tpr_B)\n",
        "roc_auc_C = auc(fpr_C, tpr_C)\n",
        "\n",
        "# Plot the ROC curves for each dataset\n",
        "plt.figure()\n",
        "plt.plot(fpr_A, tpr_A, color='blue', lw=2, label='SET A ROC curve (AUC = %0.2f)' % roc_auc_A)\n",
        "plt.plot(fpr_B, tpr_B, color='red', lw=2, label='SET B ROC curve (AUC = %0.2f)' % roc_auc_B)\n",
        "plt.plot(fpr_C, tpr_C, color='green', lw=2, label='SET C ROC curve (AUC = %0.2f)' % roc_auc_C)\n",
        "\n",
        "plt.plot([0, 1], [0, 1], color='black', lw=2, linestyle='--')\n",
        "plt.xlim([0.0, 1.0])\n",
        "plt.ylim([0.0, 1.05])\n",
        "plt.xlabel('False Positive Rate')\n",
        "plt.ylabel('True Positive Rate')\n",
        "plt.title('AUC_ROC Curve Hybrid RF-SVM')\n",
        "plt.legend(loc=\"lower right\")\n",
        "plt.show()\n"
      ],
      "metadata": {
        "colab": {
          "base_uri": "https://localhost:8080/"
        },
        "id": "VcjVvtOA48Va",
        "outputId": "f7f0c3ae-84fc-4f73-e27a-8d0361fe7a4f"
      },
      "execution_count": null,
      "outputs": [
        {
          "output_type": "display_data",
          "data": {
            "text/plain": [
              "<Figure size 640x480 with 1 Axes>"
            ],
            "image/png": "[encoded data removed]"
          },
          "metadata": {}
        }
      ]
    },
    {
      "cell_type": "markdown",
      "metadata": {
        "id": "c4PDu4dxb8jb"
      },
      "source": [
        "# **RANDOM FOREST (RF)**"
      ]
    },
    {
      "cell_type": "markdown",
      "metadata": {
        "id": "lW9zrzDAINpL"
      },
      "source": [
        "#SET A"
      ]
    },
    {
      "cell_type": "code",
      "execution_count": null,
      "metadata": {
        "id": "yg2_E6_DBgSP"
      },
      "outputs": [],
      "source": [
        "#Ranfom Forest\n",
        "from sklearn.ensemble import RandomForestClassifier\n",
        "from sklearn.metrics import accuracy_score"
      ]
    },
    {
      "cell_type": "code",
      "execution_count": null,
      "metadata": {
        "id": "PtUw-PvHBiUd",
        "colab": {
          "base_uri": "https://localhost:8080/"
        },
        "outputId": "648d4ca0-916b-4124-c915-69352b634401"
      },
      "outputs": [
        {
          "output_type": "stream",
          "name": "stdout",
          "text": [
            "Initial Accuracy: 0.9513682822288163\n"
          ]
        }
      ],
      "source": [
        "#SetA\n",
        "#Train using training set A\n",
        "rf_classifier1 = RandomForestClassifier(random_state=42, n_estimators=200)\n",
        "rf_classifier1.fit(X_train_selected1,y_train1)\n",
        "\n",
        "#Predict and fit with test set\n",
        "RF_y_pred1 = rf_classifier1.predict(X_test_selected1)\n",
        "ini_accuracy_RF1 = accuracy_score(y_test1,RF_y_pred1)\n",
        "print(\"Initial Accuracy:\", ini_accuracy_RF1)"
      ]
    },
    {
      "cell_type": "code",
      "execution_count": null,
      "metadata": {
        "id": "9OSPp35MLuq7",
        "colab": {
          "base_uri": "https://localhost:8080/"
        },
        "outputId": "a97def46-b4db-4d36-bb0f-af5a4773dc9a"
      },
      "outputs": [
        {
          "output_type": "stream",
          "name": "stdout",
          "text": [
            "best accuracy 0.9530168150346192\n"
          ]
        }
      ],
      "source": [
        "#Improve the Random Forest Classifier to achieve the best accuracy\n",
        "# Iterate over different values of n_estimators and max_depth\n",
        "best_accuracy1 = ini_accuracy_RF1\n",
        "best_n_estimators1 = 200\n",
        "best_max_depth1 = None\n",
        "\n",
        "for n_estimators in [100, 200, 300]:\n",
        "    for max_depth in [None, 5, 10]:\n",
        "        # Train the Random Forest Classifier with current parameters\n",
        "        rf_improved1 = RandomForestClassifier(random_state=42, n_estimators=n_estimators, max_depth=max_depth)\n",
        "        rf_improved1.fit(X_train_selected1, y_train1)\n",
        "\n",
        "        # Get predictions from the improved Random Forest Classifier\n",
        "        y_pred_improved1 = rf_improved1.predict(X_test_selected1)\n",
        "\n",
        "        # Calculate the accuracy\n",
        "        accuracy1 = accuracy_score(y_test1, y_pred_improved1)\n",
        "\n",
        "        # Update the best accuracy and best parameters if current accuracy is higher\n",
        "        if accuracy1 > best_accuracy1:\n",
        "            best_accuracy1 = accuracy1\n",
        "            best_n_estimators1 = n_estimators\n",
        "            best_max_depth1 = max_depth\n",
        "\n",
        "print('best accuracy', best_accuracy1)"
      ]
    },
    {
      "cell_type": "code",
      "execution_count": null,
      "metadata": {
        "id": "aK-TBHZUL8fG",
        "colab": {
          "base_uri": "https://localhost:8080/"
        },
        "outputId": "3dbc79c7-37c1-48cd-a931-4fc40b83cf8f"
      },
      "outputs": [
        {
          "output_type": "stream",
          "name": "stdout",
          "text": [
            "Best n_estimators: 300\n",
            "Best max_depth None\n",
            "Best Accuracy: 0.9530168150346192\n"
          ]
        }
      ],
      "source": [
        "# Train the Random Forest Classifier with the best parameters\n",
        "rf_best1 = RandomForestClassifier(random_state=42, n_estimators=best_n_estimators1, max_depth=best_max_depth1)\n",
        "rf_best1.fit(X_train_selected1, y_train1)\n",
        "\n",
        "# Get predictions from the best Random Forest Classifier\n",
        "RF_y_pred_best1 = rf_best1.predict(X_test_selected1)\n",
        "\n",
        "# Calculate the best accuracy\n",
        "best_accuracy_rf1 = accuracy_score(y_test1, RF_y_pred_best1)\n",
        "print(\"Best n_estimators:\", best_n_estimators1)\n",
        "print(\"Best max_depth\",best_max_depth1)\n",
        "print(\"Best Accuracy:\", best_accuracy_rf1)"
      ]
    },
    {
      "cell_type": "code",
      "execution_count": null,
      "metadata": {
        "id": "Fe5FFXsfZvrI",
        "colab": {
          "base_uri": "https://localhost:8080/"
        },
        "outputId": "0d7ad196-dc82-4f3f-b41c-c939bdcac094"
      },
      "outputs": [
        {
          "output_type": "stream",
          "name": "stdout",
          "text": [
            "Set A RF's Result =>\n",
            "Confusion matrix:\n",
            " [[2906  154]\n",
            " [ 131 2875]]\n",
            "Accuracy:\n",
            " 0.9530168150346192\n",
            "Sensitivity/ Recall:\n",
            " 0.956420492348636\n",
            "Specifity:\n",
            " 0.949673202614379\n",
            "Positive predictive values/ Precision:\n",
            " 0.9491581379993397\n",
            "Negative predictive values:\n",
            " 0.9568653276259467\n",
            "F1-score:\n",
            " 0.9527754763877382\n",
            "Classification Report:\n",
            "               precision    recall  f1-score   support\n",
            "\n",
            "          -1       0.96      0.95      0.95      3060\n",
            "           1       0.95      0.96      0.95      3006\n",
            "\n",
            "    accuracy                           0.95      6066\n",
            "   macro avg       0.95      0.95      0.95      6066\n",
            "weighted avg       0.95      0.95      0.95      6066\n",
            "\n"
          ]
        }
      ],
      "source": [
        "from sklearn.metrics import confusion_matrix, classification_report, fbeta_score\n",
        "\n",
        "print(\"Set A RF's Result =>\")\n",
        "print(\"Confusion matrix:\\n\", confusion_matrix(y_test1, RF_y_pred_best1))\n",
        "tn1, fp1, fn1, tp1 = confusion_matrix(y_test1, RF_y_pred_best1).ravel()\n",
        "\n",
        "accuracy_cmrf1 = ((tp1 + tn1)/(tp1 + fp1 + tn1 + fn1))\n",
        "print (\"Accuracy:\\n\", accuracy_cmrf1)\n",
        "\n",
        "sen1 = (tp1/ (tp1 + fn1))\n",
        "print(\"Sensitivity/ Recall:\\n\", sen1)\n",
        "\n",
        "spe1 = (tn1 / (tn1 + fp1))\n",
        "print(\"Specifity:\\n\", spe1)\n",
        "\n",
        "#PPV - Positive predictive values\n",
        "ppv1 = (tp1/(tp1 + fp1))\n",
        "print (\"Positive predictive values/ Precision:\\n\", ppv1)\n",
        "\n",
        "#NPV - Negative predictive values\n",
        "npv1 = (tn1/(tn1 + fn1))\n",
        "print (\"Negative predictive values:\\n\", npv1)\n",
        "\n",
        "\n",
        "print(\"F1-score:\\n\", fbeta_score(y_test1,  RF_y_pred_best1, beta=1.0))\n",
        "print(\"Classification Report:\\n\", classification_report(y_test1,  RF_y_pred_best1))"
      ]
    },
    {
      "cell_type": "code",
      "execution_count": null,
      "metadata": {
        "id": "PsBnLqlDKrr0",
        "colab": {
          "base_uri": "https://localhost:8080/"
        },
        "outputId": "671cb479-0c65-4e25-8dc7-23af67fd2dc4"
      },
      "outputs": [
        {
          "output_type": "display_data",
          "data": {
            "text/plain": [
              "<Figure size 640x480 with 2 Axes>"
            ],
            "image/png": "[encoded data removed]"
          },
          "metadata": {}
        }
      ],
      "source": [
        "import seaborn as sns\n",
        "import matplotlib.pyplot as plt\n",
        "\n",
        "# Create confusion matrix\n",
        "cm_rf1 = confusion_matrix(y_test1,  RF_y_pred_best1)\n",
        "\n",
        "# Create a heatmap with colors and annotations\n",
        "sns.heatmap(cm_rf1, annot=True, fmt='d', cmap=\"Blues\")\n",
        "plt.title('Confusion Matrix')\n",
        "plt.xlabel('Predicted')\n",
        "plt.ylabel('Actual')\n",
        "plt.show()"
      ]
    },
    {
      "cell_type": "markdown",
      "metadata": {
        "id": "x0-tAabuSOgM"
      },
      "source": [
        "#SET B"
      ]
    },
    {
      "cell_type": "code",
      "execution_count": null,
      "metadata": {
        "id": "5fUWVUeJSRkL"
      },
      "outputs": [],
      "source": [
        "#Ranfom Forest\n",
        "from sklearn.ensemble import RandomForestClassifier"
      ]
    },
    {
      "cell_type": "code",
      "execution_count": null,
      "metadata": {
        "id": "f9gNGnLJSRkL",
        "colab": {
          "base_uri": "https://localhost:8080/"
        },
        "outputId": "354fec2b-47cc-44a0-8044-2f5d20a0a8f1"
      },
      "outputs": [
        {
          "output_type": "stream",
          "name": "stdout",
          "text": [
            "Initial Accuracy: 0.9534780682321666\n"
          ]
        }
      ],
      "source": [
        "#SetB\n",
        "#Train using training set B\n",
        "rf_classifier2 = RandomForestClassifier(random_state=42, n_estimators=200)\n",
        "rf_classifier2.fit(X_train_selected2,y_train2)\n",
        "\n",
        "#Predict and fit with test set\n",
        "RF_y_pred2 = rf_classifier2.predict(X_test_selected2)\n",
        "ini_accuracy_RF2 = accuracy_score(y_test2,RF_y_pred2)\n",
        "print(\"Initial Accuracy:\", ini_accuracy_RF2)"
      ]
    },
    {
      "cell_type": "code",
      "execution_count": null,
      "metadata": {
        "id": "Cqo9xHK0SRkL"
      },
      "outputs": [],
      "source": [
        "#Improve the Random Forest Classifier to achieve the best accuracy\n",
        "# Iterate over different values of n_estimators and max_depth\n",
        "best_accuracy2 = ini_accuracy_RF2\n",
        "best_n_estimators2 = 200\n",
        "best_max_depth2 = None\n",
        "\n",
        "for n_estimators in [100, 200, 300]:\n",
        "    for max_depth in [None, 5, 10]:\n",
        "        # Train the Random Forest Classifier with current parameters\n",
        "        rf_improved2 = RandomForestClassifier(random_state=42, n_estimators=n_estimators, max_depth=max_depth)\n",
        "        rf_improved2.fit(X_train_selected2, y_train2)\n",
        "\n",
        "        # Get predictions from the improved Random Forest Classifier\n",
        "        y_pred_improved2 = rf_improved2.predict(X_test_selected2)\n",
        "\n",
        "        # Calculate the accuracy\n",
        "        accuracy2 = accuracy_score(y_test2, y_pred_improved2)\n",
        "\n",
        "        # Update the best accuracy and best parameters if current accuracy is higher\n",
        "        if accuracy2 > best_accuracy2:\n",
        "            best_accuracy2 = accuracy2\n",
        "            best_n_estimators2 = n_estimators\n",
        "            best_max_depth2 = max_depth"
      ]
    },
    {
      "cell_type": "code",
      "execution_count": null,
      "metadata": {
        "id": "T7qw9CMsSRkL",
        "colab": {
          "base_uri": "https://localhost:8080/"
        },
        "outputId": "631f0509-b633-46da-9ac1-044c13b55bc2"
      },
      "outputs": [
        {
          "output_type": "stream",
          "name": "stdout",
          "text": [
            "Best n_estimators: 300\n",
            "Best max_depth None\n",
            "Best Accuracy: 0.9556933983163491\n"
          ]
        }
      ],
      "source": [
        "# Train the Random Forest Classifier with the best parameters\n",
        "rf_best2 = RandomForestClassifier(random_state=42, n_estimators=best_n_estimators2, max_depth=best_max_depth2)\n",
        "rf_best2.fit(X_train_selected2, y_train2)\n",
        "\n",
        "# Get predictions from the best Random Forest Classifier\n",
        "RF_y_pred_best2 = rf_best2.predict(X_test_selected2)\n",
        "\n",
        "# Calculate the best accuracy\n",
        "best_accuracy_rf2 = accuracy_score(y_test2, RF_y_pred_best2)\n",
        "print(\"Best n_estimators:\", best_n_estimators2)\n",
        "print(\"Best max_depth\",best_max_depth2)\n",
        "print(\"Best Accuracy:\", best_accuracy_rf2)"
      ]
    },
    {
      "cell_type": "code",
      "execution_count": null,
      "metadata": {
        "id": "u6_cKfyxSRkM",
        "colab": {
          "base_uri": "https://localhost:8080/"
        },
        "outputId": "50a93c64-b3b1-461f-b0be-6eda07d69ab7"
      },
      "outputs": [
        {
          "output_type": "stream",
          "name": "stdout",
          "text": [
            "Set B RF's Result =>\n",
            "Confusion matrix:\n",
            " [[1091   45]\n",
            " [  55 1066]]\n",
            "Accuracy:\n",
            " 0.9556933983163491\n",
            "Sensitivity/ Recall:\n",
            " 0.9509366636931311\n",
            "Specifity:\n",
            " 0.960387323943662\n",
            "Positive predictive values/ Precision:\n",
            " 0.9594959495949595\n",
            "Negative predictive values:\n",
            " 0.9520069808027923\n",
            "F1-score:\n",
            " 0.9551971326164875\n",
            "Classification Report:\n",
            "               precision    recall  f1-score   support\n",
            "\n",
            "          -1       0.95      0.96      0.96      1136\n",
            "           1       0.96      0.95      0.96      1121\n",
            "\n",
            "    accuracy                           0.96      2257\n",
            "   macro avg       0.96      0.96      0.96      2257\n",
            "weighted avg       0.96      0.96      0.96      2257\n",
            "\n"
          ]
        }
      ],
      "source": [
        "from sklearn.metrics import confusion_matrix, classification_report, fbeta_score\n",
        "\n",
        "print(\"Set B RF's Result =>\")\n",
        "print(\"Confusion matrix:\\n\", confusion_matrix(y_test2, RF_y_pred_best2))\n",
        "tn2, fp2, fn2, tp2 = confusion_matrix(y_test2, RF_y_pred_best2).ravel()\n",
        "\n",
        "accuracy_cmrf2 = ((tp2 + tn2)/(tp2 + fp2 + tn2 + fn2))\n",
        "print (\"Accuracy:\\n\", accuracy_cmrf2)\n",
        "\n",
        "sen2 = (tp2/ (tp2 + fn2))\n",
        "print(\"Sensitivity/ Recall:\\n\", sen2)\n",
        "\n",
        "spe2 = (tn2 / (tn2 + fp2))\n",
        "print(\"Specifity:\\n\", spe2)\n",
        "\n",
        "#PPV - Positive predictive values\n",
        "ppv2 = (tp2/(tp2 + fp2))\n",
        "print (\"Positive predictive values/ Precision:\\n\", ppv2)\n",
        "\n",
        "#NPV - Negative predictive values\n",
        "npv2 = (tn2/(tn2 + fn2))\n",
        "print (\"Negative predictive values:\\n\", npv2)\n",
        "\n",
        "\n",
        "print(\"F1-score:\\n\", fbeta_score(y_test2,  RF_y_pred_best2, beta=1.0))\n",
        "print(\"Classification Report:\\n\", classification_report(y_test2,  RF_y_pred_best2))"
      ]
    },
    {
      "cell_type": "code",
      "execution_count": null,
      "metadata": {
        "id": "_jhpF0d0SRkM",
        "colab": {
          "base_uri": "https://localhost:8080/"
        },
        "outputId": "e25c7281-3365-4207-9f2d-250fcf863d9a"
      },
      "outputs": [
        {
          "output_type": "display_data",
          "data": {
            "text/plain": [
              "<Figure size 640x480 with 2 Axes>"
            ],
            "image/png": "[encoded data removed]"
          },
          "metadata": {}
        }
      ],
      "source": [
        "import seaborn as sns\n",
        "import matplotlib.pyplot as plt\n",
        "\n",
        "# Create confusion matrix\n",
        "cm_rf2 = confusion_matrix(y_test2,  RF_y_pred_best2)\n",
        "\n",
        "# Create a heatmap with colors and annotations\n",
        "sns.heatmap(cm_rf2, annot=True, fmt='d', cmap=\"Blues\")\n",
        "plt.title('Confusion Matrix')\n",
        "plt.xlabel('Predicted')\n",
        "plt.ylabel('Actual')\n",
        "plt.show()"
      ]
    },
    {
      "cell_type": "markdown",
      "metadata": {
        "id": "T8aVqyZlY4hz"
      },
      "source": [
        "#SET C"
      ]
    },
    {
      "cell_type": "code",
      "execution_count": null,
      "metadata": {
        "id": "KLhcTXIjZOnD"
      },
      "outputs": [],
      "source": [
        "#Ranfom Forest\n",
        "from sklearn.ensemble import RandomForestClassifier"
      ]
    },
    {
      "cell_type": "code",
      "execution_count": null,
      "metadata": {
        "id": "jZE-kc_nZOnE",
        "colab": {
          "base_uri": "https://localhost:8080/"
        },
        "outputId": "9611a8d2-e1a1-4c6e-b6b6-527b9f4fb6c6"
      },
      "outputs": [
        {
          "output_type": "stream",
          "name": "stdout",
          "text": [
            "Initial Accuracy: 0.93480032599837\n"
          ]
        }
      ],
      "source": [
        "#Set C\n",
        "#Train using training set C\n",
        "rf_classifier3 = RandomForestClassifier(random_state=42, n_estimators=200)\n",
        "rf_classifier3.fit(X_train_selected3,y_train3)\n",
        "\n",
        "#Predict and fit with test set\n",
        "RF_y_pred3 = rf_classifier3.predict(X_test_selected3)\n",
        "ini_accuracy_RF3 = accuracy_score(y_test3,RF_y_pred3)\n",
        "print(\"Initial Accuracy:\", ini_accuracy_RF3)"
      ]
    },
    {
      "cell_type": "code",
      "execution_count": null,
      "metadata": {
        "id": "jIseTnQqZOnE"
      },
      "outputs": [],
      "source": [
        "#Improve the Random Forest Classifier to achieve the best accuracy\n",
        "# Iterate over different values of n_estimators and max_depth\n",
        "best_accuracy3 = ini_accuracy_RF3\n",
        "best_n_estimators3 = 200\n",
        "best_max_depth3 = None\n",
        "\n",
        "for n_estimators in [100, 200, 300]:\n",
        "    for max_depth in [None, 5, 10]:\n",
        "        # Train the Random Forest Classifier with current parameters\n",
        "        rf_improved3 = RandomForestClassifier(random_state=42, n_estimators=n_estimators, max_depth=max_depth)\n",
        "        rf_improved3.fit(X_train_selected3, y_train3)\n",
        "\n",
        "        # Get predictions from the improved Random Forest Classifier\n",
        "        y_pred_improved3 = rf_improved3.predict(X_test_selected3)\n",
        "\n",
        "        # Calculate the accuracy\n",
        "        accuracy3 = accuracy_score(y_test3, y_pred_improved3)\n",
        "\n",
        "        # Update the best accuracy and best parameters if current accuracy is higher\n",
        "        if accuracy3 > best_accuracy3:\n",
        "            best_accuracy3 = accuracy3\n",
        "            best_n_estimators3 = n_estimators\n",
        "            best_max_depth3 = max_depth"
      ]
    },
    {
      "cell_type": "code",
      "execution_count": null,
      "metadata": {
        "id": "_oJjBv-dZOnE",
        "colab": {
          "base_uri": "https://localhost:8080/"
        },
        "outputId": "1aa9e063-968e-45e2-9405-ce17ce7f4353"
      },
      "outputs": [
        {
          "output_type": "stream",
          "name": "stdout",
          "text": [
            "Best n_estimators: 200\n",
            "Best max_depth None\n",
            "Best Accuracy: 0.93480032599837\n"
          ]
        }
      ],
      "source": [
        "# Train the Random Forest Classifier with the best parameters\n",
        "rf_best3 = RandomForestClassifier(random_state=42, n_estimators=best_n_estimators3, max_depth=best_max_depth3)\n",
        "rf_best3.fit(X_train_selected3, y_train3)\n",
        "\n",
        "# Get predictions from the best Random Forest Classifier\n",
        "RF_y_pred_best3 = rf_best3.predict(X_test_selected3)\n",
        "\n",
        "# Calculate the best accuracy\n",
        "best_accuracy_rf3 = accuracy_score(y_test3, RF_y_pred_best3)\n",
        "print(\"Best n_estimators:\", best_n_estimators3)\n",
        "print(\"Best max_depth\",best_max_depth3)\n",
        "print(\"Best Accuracy:\", best_accuracy_rf3)"
      ]
    },
    {
      "cell_type": "code",
      "execution_count": null,
      "metadata": {
        "id": "GTwSPt03ZOnE",
        "colab": {
          "base_uri": "https://localhost:8080/"
        },
        "outputId": "99052ed3-3a65-4e11-cde6-8a332f7e317e"
      },
      "outputs": [
        {
          "output_type": "stream",
          "name": "stdout",
          "text": [
            "Set C RF's Result =>\n",
            "Confusion matrix:\n",
            " [[1134   75]\n",
            " [  85 1160]]\n",
            "Accuracy:\n",
            " 0.93480032599837\n",
            "Sensitivity/ Recall:\n",
            " 0.9317269076305221\n",
            "Specifity:\n",
            " 0.9379652605459057\n",
            "Positive predictive values/ Precision:\n",
            " 0.9392712550607287\n",
            "Negative predictive values:\n",
            " 0.9302707136997539\n",
            "F1-score:\n",
            " 0.935483870967742\n",
            "Classification Report:\n",
            "               precision    recall  f1-score   support\n",
            "\n",
            "          -1       0.93      0.94      0.93      1209\n",
            "           1       0.94      0.93      0.94      1245\n",
            "\n",
            "    accuracy                           0.93      2454\n",
            "   macro avg       0.93      0.93      0.93      2454\n",
            "weighted avg       0.93      0.93      0.93      2454\n",
            "\n"
          ]
        }
      ],
      "source": [
        "from sklearn.metrics import confusion_matrix, classification_report, fbeta_score\n",
        "\n",
        "print(\"Set C RF's Result =>\")\n",
        "print(\"Confusion matrix:\\n\", confusion_matrix(y_test3, RF_y_pred_best3))\n",
        "tn3, fp3, fn3, tp3 = confusion_matrix(y_test3, RF_y_pred_best3).ravel()\n",
        "\n",
        "accuracy_cmrf3 = ((tp3 + tn3)/(tp3 + fp3 + tn3 + fn3))\n",
        "print (\"Accuracy:\\n\", accuracy_cmrf3)\n",
        "\n",
        "sen3 = (tp3/ (tp3 + fn3))\n",
        "print(\"Sensitivity/ Recall:\\n\", sen3)\n",
        "\n",
        "spe3 = (tn3 / (tn3 + fp3))\n",
        "print(\"Specifity:\\n\", spe3)\n",
        "\n",
        "#PPV - Positive predictive values\n",
        "ppv3 = (tp3/(tp3 + fp3))\n",
        "print (\"Positive predictive values/ Precision:\\n\", ppv3)\n",
        "\n",
        "#NPV - Negative predictive values\n",
        "npv3 = (tn3/(tn3 + fn3))\n",
        "print (\"Negative predictive values:\\n\", npv3)\n",
        "\n",
        "\n",
        "print(\"F1-score:\\n\", fbeta_score(y_test3,  RF_y_pred_best3, beta=1.0))\n",
        "print(\"Classification Report:\\n\", classification_report(y_test3,  RF_y_pred_best3))"
      ]
    },
    {
      "cell_type": "code",
      "execution_count": null,
      "metadata": {
        "id": "MMv2HZE6ZOnF",
        "colab": {
          "base_uri": "https://localhost:8080/"
        },
        "outputId": "e66660ee-4c8e-49cb-efdc-c36a3949f271"
      },
      "outputs": [
        {
          "output_type": "display_data",
          "data": {
            "text/plain": [
              "<Figure size 640x480 with 2 Axes>"
            ],
            "image/png": "[encoded data removed]"
          },
          "metadata": {}
        }
      ],
      "source": [
        "import seaborn as sns\n",
        "import matplotlib.pyplot as plt\n",
        "\n",
        "# Create confusion matrix\n",
        "cm_rf3 = confusion_matrix(y_test3,  RF_y_pred_best3)\n",
        "\n",
        "# Create a heatmap with colors and annotations\n",
        "sns.heatmap(cm_rf3, annot=True, fmt='d', cmap=\"Blues\")\n",
        "plt.title('Confusion Matrix')\n",
        "plt.xlabel('Predicted')\n",
        "plt.ylabel('Actual')\n",
        "plt.show()"
      ]
    },
    {
      "cell_type": "markdown",
      "source": [
        "#OVERALL RESULT GRAPH RF"
      ],
      "metadata": {
        "id": "SyneiYRGyJBS"
      }
    },
    {
      "cell_type": "code",
      "source": [
        "import numpy as np\n",
        "import matplotlib.pyplot as plt\n",
        "\n",
        "# Accuracy values for datasets A, B, and C\n",
        "accuracy_A = [accuracy_cmrf1]\n",
        "accuracy_B = [accuracy_cmrf2]\n",
        "accuracy_C = [accuracy_cmrf3]\n",
        "\n",
        "# Sensitivity values for datasets A, B, and C\n",
        "sensitivity_A = [sen1]\n",
        "sensitivity_B = [sen2]\n",
        "sensitivity_C = [sen3]\n",
        "\n",
        "\n",
        "# Specificity values for datasets A, B, and C\n",
        "specificity_A = [spe1]\n",
        "specificity_B = [spe2]\n",
        "specificity_C = [spe3]\n",
        "\n",
        "\n",
        "# Precision values for datasets A, B, and C\n",
        "precision_A = [ppv1]\n",
        "precision_B = [ppv2]\n",
        "precision_C = [ppv3]\n",
        "\n",
        "# Create a list of labels for the x-axis (accuracy, sensitivity, specificity, precision)\n",
        "labels = ['Accuracy', 'Sensitivity', 'Specificity', 'Precision']\n",
        "\n",
        "# Set the width of the bars\n",
        "bar_width = 0.2\n",
        "\n",
        "# Set the positions of the bars on the x-axis\n",
        "r1 = np.arange(len(labels))\n",
        "r2 = [x + bar_width for x in r1]\n",
        "r3 = [x + bar_width for x in r2]\n",
        "\n",
        "# Create the bar graph\n",
        "plt.figure(figsize=(10, 6))\n",
        "plt.bar(r1, [accuracy_A[0], sensitivity_A[0], specificity_A[0], precision_A[0]], color='blue', width=bar_width, edgecolor='white', label='Set A')\n",
        "plt.bar(r2, [accuracy_B[0], sensitivity_B[0], specificity_B[0], precision_B[0]], color='green', width=bar_width, edgecolor='white', label='Set B')\n",
        "plt.bar(r3, [accuracy_C[0], sensitivity_C[0], specificity_C[0], precision_C[0]], color='orange', width=bar_width, edgecolor='white', label='Set C')\n",
        "\n",
        "# Add labels, title, and legend\n",
        "plt.xlabel('Metrics')\n",
        "plt.ylabel('Scores')\n",
        "plt.title('Metrics evaluation of Random Forest (RF)')\n",
        "plt.xticks([r + bar_width for r in range(len(labels))], labels)\n",
        "plt.legend()\n",
        "\n",
        "# Show the plot\n",
        "plt.show()\n"
      ],
      "metadata": {
        "id": "9Pb1Eq85yM86",
        "colab": {
          "base_uri": "https://localhost:8080/"
        },
        "outputId": "ebed7dd2-ea14-4fff-f6eb-f957e7ae6764"
      },
      "execution_count": null,
      "outputs": [
        {
          "output_type": "display_data",
          "data": {
            "text/plain": [
              "<Figure size 1000x600 with 1 Axes>"
            ],
            "image/png": "[encoded data removed]"
          },
          "metadata": {}
        }
      ]
    },
    {
      "cell_type": "markdown",
      "source": [
        "#AUC_ROC CURVE (RF)"
      ],
      "metadata": {
        "id": "l5MejJQw3qUb"
      }
    },
    {
      "cell_type": "code",
      "source": [
        "from sklearn.metrics import roc_curve, auc\n",
        "import matplotlib.pyplot as plt\n",
        "\n",
        "\n",
        "# Compute false positive rate, true positive rate, and threshold for each dataset\n",
        "fpr_A, tpr_A, thresholds_A = roc_curve(y_test1, RF_y_pred_best1)\n",
        "fpr_B, tpr_B, thresholds_B = roc_curve(y_test2, RF_y_pred_best2)\n",
        "fpr_C, tpr_C, thresholds_C = roc_curve(y_test3, RF_y_pred_best3)\n",
        "\n",
        "# Compute the area under the ROC curve for each dataset\n",
        "roc_auc_A = auc(fpr_A, tpr_A)\n",
        "roc_auc_B = auc(fpr_B, tpr_B)\n",
        "roc_auc_C = auc(fpr_C, tpr_C)\n",
        "\n",
        "# Plot the ROC curves for each dataset\n",
        "plt.figure()\n",
        "plt.plot(fpr_A, tpr_A, color='blue', lw=2, label='Set A ROC curve (AUC = %0.2f)' % roc_auc_A)\n",
        "plt.plot(fpr_B, tpr_B, color='red', lw=2, label='Set B ROC curve (AUC = %0.2f)' % roc_auc_B)\n",
        "plt.plot(fpr_C, tpr_C, color='green', lw=2, label='Set C ROC curve (AUC = %0.2f)' % roc_auc_C)\n",
        "\n",
        "plt.plot([0, 1], [0, 1], color='black', lw=2, linestyle='--')\n",
        "plt.xlim([0.0, 1.0])\n",
        "plt.ylim([0.0, 1.05])\n",
        "plt.xlabel('False Positive Rate')\n",
        "plt.ylabel('True Positive Rate')\n",
        "plt.title('AUC_ROC Curve Random Forest (RF)')\n",
        "plt.legend(loc=\"lower right\")\n",
        "plt.show()\n"
      ],
      "metadata": {
        "colab": {
          "base_uri": "https://localhost:8080/",
          "height": 472
        },
        "id": "gsbWpY_Y3wrq",
        "outputId": "abebe0fd-9365-40b3-d26e-58d34ed94990"
      },
      "execution_count": null,
      "outputs": [
        {
          "output_type": "display_data",
          "data": {
            "text/plain": [
              "<Figure size 640x480 with 1 Axes>"
            ],
            "image/png": "[encoded data removed]"
          },
          "metadata": {}
        }
      ]
    },
    {
      "cell_type": "markdown",
      "metadata": {
        "id": "bHLPaEvB-L1Z"
      },
      "source": [
        "# **SUPPORT VECTOR MACHINE (SVM)**"
      ]
    },
    {
      "cell_type": "markdown",
      "metadata": {
        "id": "-TBg_wily0pk"
      },
      "source": [
        "#SET A"
      ]
    },
    {
      "cell_type": "code",
      "execution_count": null,
      "metadata": {
        "id": "pDy1mu5s4hQy"
      },
      "outputs": [],
      "source": [
        "from sklearn.svm import SVC\n",
        "from sklearn import metrics\n",
        "from sklearn.model_selection import GridSearchCV\n",
        "from sklearn.metrics import accuracy_score"
      ]
    },
    {
      "cell_type": "code",
      "execution_count": null,
      "metadata": {
        "id": "SgDCU9Ym1f89"
      },
      "outputs": [],
      "source": [
        "#Add gamma value and C values\n",
        "\n",
        "params = {\n",
        "    'C': [0.1, 1, 10],\n",
        "    'gamma': [0.01, 0.1, 1]\n",
        "}"
      ]
    },
    {
      "cell_type": "code",
      "execution_count": null,
      "metadata": {
        "id": "Y3hvFIlX7rwP",
        "colab": {
          "base_uri": "https://localhost:8080/"
        },
        "outputId": "5c001273-1ad1-4b0e-8b41-54391cfa4976"
      },
      "outputs": [
        {
          "output_type": "stream",
          "name": "stdout",
          "text": [
            "Best Parameters: {'C': 10, 'gamma': 1}\n",
            "Best Score: 0.8033064857990674\n"
          ]
        }
      ],
      "source": [
        "# Perform grid search with cross-validation\n",
        "grid_search1 = GridSearchCV(SVC(kernel='rbf'), params, cv=3, scoring='accuracy')\n",
        "grid_search1.fit(X_train_selected1,y_train1)\n",
        "\n",
        "# Get the best parameters and best score\n",
        "best_params1 = grid_search1.best_params_\n",
        "best_score1 = grid_search1.best_score_\n",
        "\n",
        "print(\"Best Parameters:\", best_params1)\n",
        "print(\"Best Score:\", best_score1)"
      ]
    },
    {
      "cell_type": "code",
      "execution_count": null,
      "metadata": {
        "id": "jLI1z1MF59SK",
        "colab": {
          "base_uri": "https://localhost:8080/"
        },
        "outputId": "65cabe11-6c23-4e8d-b4b6-174d96a5e602"
      },
      "outputs": [
        {
          "output_type": "stream",
          "name": "stdout",
          "text": [
            "Test Accuracy: 0.8161885921529839\n"
          ]
        }
      ],
      "source": [
        "# Fit the SVM model with the best parameters on the training data\n",
        "svm1 = SVC(kernel='rbf', **best_params1)\n",
        "svm1.fit(X_train_selected1,y_train1)\n",
        "\n",
        "# Make predictions on the test data\n",
        "SVM_y_pred1 = svm1.predict(X_test_selected1)\n",
        "\n",
        "# Calculate the accuracy score\n",
        "test_accuracy1 = accuracy_score(y_test1, SVM_y_pred1)\n",
        "print(\"Test Accuracy:\", test_accuracy1)"
      ]
    },
    {
      "cell_type": "code",
      "execution_count": null,
      "metadata": {
        "id": "T3i53Va69KZ7",
        "colab": {
          "base_uri": "https://localhost:8080/"
        },
        "outputId": "e83b90b3-439c-420d-b1ba-7e3abb3255ab"
      },
      "outputs": [
        {
          "output_type": "stream",
          "name": "stdout",
          "text": [
            "[[2342  718]\n",
            " [ 397 2609]]\n",
            "model accuracy is: 81.61885921529839 %\n"
          ]
        }
      ],
      "source": [
        "from sklearn.metrics import confusion_matrix\n",
        "\n",
        "cm1 = confusion_matrix(y_test1,SVM_y_pred1)\n",
        "print(cm1)\n",
        "accuracy1 = float(cm1.diagonal().sum())/len(y_test1)\n",
        "print('model accuracy is:',accuracy1*100,'%')"
      ]
    },
    {
      "cell_type": "code",
      "source": [
        "from sklearn.metrics import confusion_matrix, classification_report, fbeta_score\n",
        "\n",
        "print(\"Set A SVM's Result =>\")\n",
        "print(\"Confusion matrix:\\n\", confusion_matrix(y_test1, SVM_y_pred1))\n",
        "tn4, fp4, fn4, tp4 = confusion_matrix(y_test1, SVM_y_pred1).ravel()\n",
        "\n",
        "accuracy_svm1 = ((tp4 + tn4)/(tp4 + fp4 + tn4 + fn4))\n",
        "print (\"Accuracy:\\n\", accuracy_svm1)\n",
        "\n",
        "sen4 = (tp4/ (tp4 + fn4))\n",
        "print(\"Sensitivity/ Recall:\\n\", sen4)\n",
        "\n",
        "spe4 = (tn4 / (tn4 + fp4))\n",
        "print(\"Specifity:\\n\", spe4)\n",
        "\n",
        "#PPV - Positive predictive values\n",
        "ppv4 = (tp4/(tp4 + fp4))\n",
        "print (\"Positive predictive values/ Precision:\\n\", ppv4)\n",
        "\n",
        "#NPV - Negative predictive values\n",
        "npv4 = (tn4/(tn4 + fn4))\n",
        "print (\"Negative predictive values:\\n\", npv4)\n",
        "\n",
        "\n",
        "print(\"F1-score:\\n\", fbeta_score(y_test1, SVM_y_pred1, beta=1.0))\n",
        "print(\"Classification Report:\\n\", classification_report(y_test1, SVM_y_pred1))"
      ],
      "metadata": {
        "colab": {
          "base_uri": "https://localhost:8080/"
        },
        "id": "gz8ZKF-zclpZ",
        "outputId": "7b7e2d6a-0113-41e4-bdf7-d69a6c206c8e"
      },
      "execution_count": null,
      "outputs": [
        {
          "output_type": "stream",
          "name": "stdout",
          "text": [
            "Set A SVM's Result =>\n",
            "Confusion matrix:\n",
            " [[2342  718]\n",
            " [ 397 2609]]\n",
            "Accuracy:\n",
            " 0.8161885921529839\n",
            "Sensitivity/ Recall:\n",
            " 0.8679308050565535\n",
            "Specifity:\n",
            " 0.765359477124183\n",
            "Positive predictive values/ Precision:\n",
            " 0.784189960925759\n",
            "Negative predictive values:\n",
            " 0.855056589996349\n",
            "F1-score:\n",
            " 0.8239381020053687\n",
            "Classification Report:\n",
            "               precision    recall  f1-score   support\n",
            "\n",
            "          -1       0.86      0.77      0.81      3060\n",
            "           1       0.78      0.87      0.82      3006\n",
            "\n",
            "    accuracy                           0.82      6066\n",
            "   macro avg       0.82      0.82      0.82      6066\n",
            "weighted avg       0.82      0.82      0.82      6066\n",
            "\n"
          ]
        }
      ]
    },
    {
      "cell_type": "code",
      "execution_count": null,
      "metadata": {
        "id": "n68xiu577SWP",
        "colab": {
          "base_uri": "https://localhost:8080/"
        },
        "outputId": "d5cad517-7055-4f07-c804-8022bd1b3096"
      },
      "outputs": [
        {
          "output_type": "display_data",
          "data": {
            "text/plain": [
              "<Figure size 640x480 with 2 Axes>"
            ],
            "image/png": "[encoded data removed]"
          },
          "metadata": {}
        }
      ],
      "source": [
        "import seaborn as sns\n",
        "import matplotlib.pyplot as plt\n",
        "\n",
        "# Create confusion matrix\n",
        "cm_svm1 = confusion_matrix(y_test1, SVM_y_pred1)\n",
        "\n",
        "# Create a heatmap with colors and annotations\n",
        "sns.heatmap(cm_svm1, annot=True, fmt='d', cmap=\"Blues\")\n",
        "plt.title('Confusion Matrix')\n",
        "plt.xlabel('Predicted')\n",
        "plt.ylabel('Actual')\n",
        "plt.show()\n"
      ]
    },
    {
      "cell_type": "markdown",
      "metadata": {
        "id": "EhYBUM1BEjOx"
      },
      "source": [
        "# SET B"
      ]
    },
    {
      "cell_type": "code",
      "execution_count": null,
      "metadata": {
        "id": "jhml3JqSF1rW"
      },
      "outputs": [],
      "source": [
        "from sklearn.svm import SVC\n",
        "from sklearn import metrics\n",
        "from sklearn.model_selection import GridSearchCV\n",
        "from sklearn.metrics import accuracy_score"
      ]
    },
    {
      "cell_type": "code",
      "execution_count": null,
      "metadata": {
        "id": "udnh2KsBF1re"
      },
      "outputs": [],
      "source": [
        "#Add gamma value and C values\n",
        "\n",
        "params = {\n",
        "    'C': [0.1, 1, 10],\n",
        "    'gamma': [0.01, 0.1, 1]\n",
        "}"
      ]
    },
    {
      "cell_type": "code",
      "execution_count": null,
      "metadata": {
        "id": "Jx0Yi8XEF1re",
        "colab": {
          "base_uri": "https://localhost:8080/"
        },
        "outputId": "e8967c3d-69ce-4d1a-ef8a-5fd14af93b8f"
      },
      "outputs": [
        {
          "output_type": "stream",
          "name": "stdout",
          "text": [
            "Best Parameters: {'C': 10, 'gamma': 1}\n",
            "Best Score: 0.7724596391263058\n"
          ]
        }
      ],
      "source": [
        "# Perform grid search with cross-validation\n",
        "grid_search2 = GridSearchCV(SVC(kernel='rbf'), params, cv=3, scoring='accuracy')\n",
        "grid_search2.fit(X_train_selected2,y_train2)\n",
        "\n",
        "# Get the best parameters and best score\n",
        "best_params2 = grid_search2.best_params_\n",
        "best_score2 = grid_search2.best_score_\n",
        "\n",
        "print(\"Best Parameters:\", best_params2)\n",
        "print(\"Best Score:\", best_score2)"
      ]
    },
    {
      "cell_type": "code",
      "execution_count": null,
      "metadata": {
        "id": "cJQv3aEUF1re",
        "colab": {
          "base_uri": "https://localhost:8080/"
        },
        "outputId": "3b71f3f5-3e69-479a-a7a9-fd50c757c39e"
      },
      "outputs": [
        {
          "output_type": "stream",
          "name": "stdout",
          "text": [
            "Test Accuracy: 0.7886575099689854\n"
          ]
        }
      ],
      "source": [
        "# Fit the SVM model with the best parameters on the training data\n",
        "svm2 = SVC(kernel='rbf', **best_params2)\n",
        "svm2.fit(X_train_selected2,y_train2)\n",
        "\n",
        "# Make predictions on the test data\n",
        "SVM_y_pred2 = svm2.predict(X_test_selected2)\n",
        "\n",
        "# Calculate the accuracy score\n",
        "test_accuracy2 = accuracy_score(y_test2, SVM_y_pred2)\n",
        "print(\"Test Accuracy:\", test_accuracy2)"
      ]
    },
    {
      "cell_type": "code",
      "execution_count": null,
      "metadata": {
        "id": "Y-EhhWcGF1rf",
        "colab": {
          "base_uri": "https://localhost:8080/"
        },
        "outputId": "afdcc7f0-4986-4a9f-b265-7d776fae7654"
      },
      "outputs": [
        {
          "output_type": "stream",
          "name": "stdout",
          "text": [
            "[[866 270]\n",
            " [207 914]]\n",
            "model accuracy is: 78.86575099689854 %\n"
          ]
        }
      ],
      "source": [
        "from sklearn.metrics import confusion_matrix\n",
        "\n",
        "cm2 = confusion_matrix(y_test2,SVM_y_pred2)\n",
        "print(cm2)\n",
        "accuracy2 = float(cm2.diagonal().sum())/len(y_test2)\n",
        "print('model accuracy is:',accuracy2*100,'%')"
      ]
    },
    {
      "cell_type": "code",
      "source": [
        "from sklearn.metrics import confusion_matrix, classification_report, fbeta_score\n",
        "\n",
        "print(\"Set B SVM's Result =>\")\n",
        "print(\"Confusion matrix:\\n\", confusion_matrix(y_test2, SVM_y_pred2))\n",
        "tn5, fp5, fn5, tp5 = confusion_matrix(y_test2, SVM_y_pred2).ravel()\n",
        "\n",
        "accuracy_svm2 = ((tp5 + tn5)/(tp5 + fp5 + tn5 + fn5))\n",
        "print (\"Accuracy:\\n\", accuracy_svm2)\n",
        "\n",
        "sen5 = (tp5/ (tp5 + fn5))\n",
        "print(\"Sensitivity/ Recall:\\n\", sen5)\n",
        "\n",
        "spe5 = (tn5 / (tn5 + fp5))\n",
        "print(\"Specifity:\\n\", spe5)\n",
        "\n",
        "#PPV - Positive predictive values\n",
        "ppv5 = (tp5/(tp5 + fp5))\n",
        "print (\"Positive predictive values/ Precision:\\n\", ppv5)\n",
        "\n",
        "#NPV - Negative predictive values\n",
        "npv5 = (tn5/(tn5 + fn5))\n",
        "print (\"Negative predictive values:\\n\", npv5)\n",
        "\n",
        "\n",
        "print(\"F1-score:\\n\", fbeta_score(y_test2, SVM_y_pred2, beta=1.0))\n",
        "print(\"Classification Report:\\n\", classification_report(y_test2, SVM_y_pred2))"
      ],
      "metadata": {
        "colab": {
          "base_uri": "https://localhost:8080/"
        },
        "id": "OATaO86wdspd",
        "outputId": "081b14ae-3312-4116-9559-a1129ca4efc9"
      },
      "execution_count": null,
      "outputs": [
        {
          "output_type": "stream",
          "name": "stdout",
          "text": [
            "Set B SVM's Result =>\n",
            "Confusion matrix:\n",
            " [[866 270]\n",
            " [207 914]]\n",
            "Accuracy:\n",
            " 0.7886575099689854\n",
            "Sensitivity/ Recall:\n",
            " 0.8153434433541481\n",
            "Specifity:\n",
            " 0.7623239436619719\n",
            "Positive predictive values/ Precision:\n",
            " 0.7719594594594594\n",
            "Negative predictive values:\n",
            " 0.8070829450139795\n",
            "F1-score:\n",
            " 0.7930585683297179\n",
            "Classification Report:\n",
            "               precision    recall  f1-score   support\n",
            "\n",
            "          -1       0.81      0.76      0.78      1136\n",
            "           1       0.77      0.82      0.79      1121\n",
            "\n",
            "    accuracy                           0.79      2257\n",
            "   macro avg       0.79      0.79      0.79      2257\n",
            "weighted avg       0.79      0.79      0.79      2257\n",
            "\n"
          ]
        }
      ]
    },
    {
      "cell_type": "code",
      "execution_count": null,
      "metadata": {
        "id": "jJJJl7VDF1rf",
        "colab": {
          "base_uri": "https://localhost:8080/"
        },
        "outputId": "6be58815-654e-40ef-e2c7-f1f5faf0b449"
      },
      "outputs": [
        {
          "output_type": "display_data",
          "data": {
            "text/plain": [
              "<Figure size 640x480 with 2 Axes>"
            ],
            "image/png": "[encoded data removed]"
          },
          "metadata": {}
        }
      ],
      "source": [
        "import seaborn as sns\n",
        "import matplotlib.pyplot as plt\n",
        "\n",
        "# Create confusion matrix\n",
        "cm_svm2 = confusion_matrix(y_test2, SVM_y_pred2)\n",
        "\n",
        "# Create a heatmap with colors and annotations\n",
        "sns.heatmap(cm_svm2, annot=True, fmt='d', cmap=\"Blues\")\n",
        "plt.title('Confusion Matrix')\n",
        "plt.xlabel('Predicted')\n",
        "plt.ylabel('Actual')\n",
        "plt.show()\n"
      ]
    },
    {
      "cell_type": "markdown",
      "metadata": {
        "id": "hkS1hkUOG1iH"
      },
      "source": [
        "#SET C"
      ]
    },
    {
      "cell_type": "code",
      "execution_count": null,
      "metadata": {
        "id": "muG2PGtxG3fw"
      },
      "outputs": [],
      "source": [
        "from sklearn.svm import SVC\n",
        "from sklearn import metrics\n",
        "from sklearn.model_selection import GridSearchCV\n",
        "from sklearn.metrics import accuracy_score"
      ]
    },
    {
      "cell_type": "code",
      "execution_count": null,
      "metadata": {
        "id": "t9kJFibjG3fx"
      },
      "outputs": [],
      "source": [
        "#Add gamma value and C values\n",
        "\n",
        "params = {\n",
        "    'C': [0.1, 1, 10],\n",
        "    'gamma': [0.01, 0.1, 1]\n",
        "}"
      ]
    },
    {
      "cell_type": "code",
      "execution_count": null,
      "metadata": {
        "id": "ANFW6dFCG3fx",
        "colab": {
          "base_uri": "https://localhost:8080/"
        },
        "outputId": "4d34140b-c775-4841-d4d8-637b6f18332a"
      },
      "outputs": [
        {
          "output_type": "stream",
          "name": "stdout",
          "text": [
            "Best Parameters: {'C': 10, 'gamma': 1}\n",
            "Best Score: 0.7506988120195667\n"
          ]
        }
      ],
      "source": [
        "# Perform grid search with cross-validation\n",
        "grid_search3 = GridSearchCV(SVC(kernel='rbf'), params, cv=3, scoring='accuracy')\n",
        "grid_search3.fit(X_train_selected3,y_train3)\n",
        "\n",
        "# Get the best parameters and best score\n",
        "best_params3 = grid_search3.best_params_\n",
        "best_score3 = grid_search3.best_score_\n",
        "\n",
        "print(\"Best Parameters:\", best_params3)\n",
        "print(\"Best Score:\", best_score3)"
      ]
    },
    {
      "cell_type": "code",
      "execution_count": null,
      "metadata": {
        "id": "vE4826OSG3fx",
        "colab": {
          "base_uri": "https://localhost:8080/"
        },
        "outputId": "fb9d3d63-69b3-4311-f64e-66c64eabb1cb"
      },
      "outputs": [
        {
          "output_type": "stream",
          "name": "stdout",
          "text": [
            "Test Accuracy: 0.756316218418908\n"
          ]
        }
      ],
      "source": [
        "# Fit the SVM model with the best parameters on the training data\n",
        "svm3 = SVC(kernel='rbf', **best_params3)\n",
        "svm3.fit(X_train_selected3,y_train3)\n",
        "\n",
        "# Make predictions on the test data\n",
        "SVM_y_pred3 = svm3.predict(X_test_selected3)\n",
        "\n",
        "# Calculate the accuracy score\n",
        "test_accuracy3 = accuracy_score(y_test3, SVM_y_pred3)\n",
        "print(\"Test Accuracy:\", test_accuracy3)"
      ]
    },
    {
      "cell_type": "code",
      "execution_count": null,
      "metadata": {
        "id": "dOuy2CB1G3fy",
        "colab": {
          "base_uri": "https://localhost:8080/"
        },
        "outputId": "8195cc28-ef02-4f1f-ebdb-4846ef2e79c0"
      },
      "outputs": [
        {
          "output_type": "stream",
          "name": "stdout",
          "text": [
            "[[859 350]\n",
            " [248 997]]\n",
            "model accuracy is: 75.63162184189079 %\n"
          ]
        }
      ],
      "source": [
        "from sklearn.metrics import confusion_matrix\n",
        "\n",
        "cm3 = confusion_matrix(y_test3,SVM_y_pred3)\n",
        "print(cm3)\n",
        "accuracy3 = float(cm3.diagonal().sum())/len(y_test3)\n",
        "print('model accuracy is:',accuracy3*100,'%')"
      ]
    },
    {
      "cell_type": "code",
      "source": [
        "from sklearn.metrics import confusion_matrix, classification_report, fbeta_score\n",
        "\n",
        "print(\"Set C SVM's Result =>\")\n",
        "print(\"Confusion matrix:\\n\", confusion_matrix(y_test3, SVM_y_pred3))\n",
        "tn6, fp6, fn6, tp6 = confusion_matrix(y_test3, SVM_y_pred3).ravel()\n",
        "\n",
        "accuracy_svm3 = ((tp6 + tn6)/(tp6 + fp6 + tn6 + fn6))\n",
        "print (\"Accuracy:\\n\", accuracy_svm3)\n",
        "\n",
        "sen6 = (tp6/ (tp6 + fn6))\n",
        "print(\"Sensitivity/ Recall:\\n\", sen6)\n",
        "\n",
        "spe6 = (tn6 / (tn6 + fp6))\n",
        "print(\"Specifity:\\n\", spe6)\n",
        "\n",
        "#PPV - Positive predictive values\n",
        "ppv6 = (tp6/(tp6 + fp6))\n",
        "print (\"Positive predictive values/ Precision:\\n\", ppv6)\n",
        "\n",
        "#NPV - Negative predictive values\n",
        "npv6 = (tn6/(tn6 + fn6))\n",
        "print (\"Negative predictive values:\\n\", npv6)\n",
        "\n",
        "\n",
        "print(\"F1-score:\\n\", fbeta_score(y_test3, SVM_y_pred3, beta=1.0))\n",
        "print(\"Classification Report:\\n\", classification_report(y_test3, SVM_y_pred3))"
      ],
      "metadata": {
        "colab": {
          "base_uri": "https://localhost:8080/"
        },
        "id": "0qxofWKDeVUn",
        "outputId": "5fdf30ed-0863-4d6c-ff37-800611ca9bc7"
      },
      "execution_count": null,
      "outputs": [
        {
          "output_type": "stream",
          "name": "stdout",
          "text": [
            "Set C SVM's Result =>\n",
            "Confusion matrix:\n",
            " [[859 350]\n",
            " [248 997]]\n",
            "Accuracy:\n",
            " 0.756316218418908\n",
            "Sensitivity/ Recall:\n",
            " 0.8008032128514057\n",
            "Specifity:\n",
            " 0.7105045492142267\n",
            "Positive predictive values/ Precision:\n",
            " 0.7401633259094283\n",
            "Negative predictive values:\n",
            " 0.7759710930442638\n",
            "F1-score:\n",
            " 0.7692901234567902\n",
            "Classification Report:\n",
            "               precision    recall  f1-score   support\n",
            "\n",
            "          -1       0.78      0.71      0.74      1209\n",
            "           1       0.74      0.80      0.77      1245\n",
            "\n",
            "    accuracy                           0.76      2454\n",
            "   macro avg       0.76      0.76      0.76      2454\n",
            "weighted avg       0.76      0.76      0.76      2454\n",
            "\n"
          ]
        }
      ]
    },
    {
      "cell_type": "code",
      "execution_count": null,
      "metadata": {
        "id": "bSqy72R7G3fy",
        "colab": {
          "base_uri": "https://localhost:8080/"
        },
        "outputId": "d2a609be-96fb-44b5-a797-b52c292ca809"
      },
      "outputs": [
        {
          "output_type": "display_data",
          "data": {
            "text/plain": [
              "<Figure size 640x480 with 2 Axes>"
            ],
            "image/png": "[encoded data removed]"
          },
          "metadata": {}
        }
      ],
      "source": [
        "import seaborn as sns\n",
        "import matplotlib.pyplot as plt\n",
        "\n",
        "# Create confusion matrix\n",
        "cm_svm3 = confusion_matrix(y_test3, SVM_y_pred3)\n",
        "\n",
        "# Create a heatmap with colors and annotations\n",
        "sns.heatmap(cm_svm3, annot=True, fmt='d', cmap=\"Blues\")\n",
        "plt.title('Confusion Matrix')\n",
        "plt.xlabel('Predicted')\n",
        "plt.ylabel('Actual')\n",
        "plt.show()\n"
      ]
    },
    {
      "cell_type": "markdown",
      "source": [
        "#OVERALL RESULT GRAPH (SVM)\n"
      ],
      "metadata": {
        "id": "6JSN9MOQxLoV"
      }
    },
    {
      "cell_type": "code",
      "source": [
        "import numpy as np\n",
        "import matplotlib.pyplot as plt\n",
        "\n",
        "# Accuracy values for datasets A, B, and C\n",
        "accuracy_A = [accuracy_svm1]\n",
        "accuracy_B = [accuracy_svm2]\n",
        "accuracy_C = [accuracy_svm3]\n",
        "\n",
        "# Sensitivity values for datasets A, B, and C\n",
        "sensitivity_A = [sen4]\n",
        "sensitivity_B = [sen5]\n",
        "sensitivity_C = [sen6]\n",
        "\n",
        "\n",
        "# Specificity values for datasets A, B, and C\n",
        "specificity_A = [spe4]\n",
        "specificity_B = [spe5]\n",
        "specificity_C = [spe6]\n",
        "\n",
        "\n",
        "# Precision values for datasets A, B, and C\n",
        "precision_A = [ppv4]\n",
        "precision_B = [ppv5]\n",
        "precision_C = [ppv6]\n",
        "\n",
        "# Create a list of labels for the x-axis (accuracy, sensitivity, specificity, precision)\n",
        "labels = ['Accuracy', 'Sensitivity', 'Specificity', 'Precision']\n",
        "\n",
        "# Set the width of the bars\n",
        "bar_width = 0.2\n",
        "\n",
        "# Set the positions of the bars on the x-axis\n",
        "r1 = np.arange(len(labels))\n",
        "r2 = [x + bar_width for x in r1]\n",
        "r3 = [x + bar_width for x in r2]\n",
        "\n",
        "# Create the bar graph\n",
        "plt.figure(figsize=(10, 6))\n",
        "plt.bar(r1, [accuracy_A[0], sensitivity_A[0], specificity_A[0], precision_A[0]], color='blue', width=bar_width, edgecolor='white', label='Set A')\n",
        "plt.bar(r2, [accuracy_B[0], sensitivity_B[0], specificity_B[0], precision_B[0]], color='green', width=bar_width, edgecolor='white', label='Set B')\n",
        "plt.bar(r3, [accuracy_C[0], sensitivity_C[0], specificity_C[0], precision_C[0]], color='orange', width=bar_width, edgecolor='white', label='Set C')\n",
        "\n",
        "# Add labels, title, and legend\n",
        "plt.xlabel('Metrics')\n",
        "plt.ylabel('Scores')\n",
        "plt.title('Metrics evaluation of Support Vector Machine (SVM)')\n",
        "plt.xticks([r + bar_width for r in range(len(labels))], labels)\n",
        "plt.legend()\n",
        "\n",
        "# Show the plot\n",
        "plt.show()\n"
      ],
      "metadata": {
        "id": "NcG_5llfyATa",
        "colab": {
          "base_uri": "https://localhost:8080/"
        },
        "outputId": "3b8601cb-93c2-43ae-9288-8d056d774f9d"
      },
      "execution_count": null,
      "outputs": [
        {
          "output_type": "display_data",
          "data": {
            "text/plain": [
              "<Figure size 1000x600 with 1 Axes>"
            ],
            "image/png": "[encoded data removed]"
          },
          "metadata": {}
        }
      ]
    },
    {
      "cell_type": "markdown",
      "source": [
        "#ROC_AUC CURVE (SVM)"
      ],
      "metadata": {
        "id": "NBLkjHsu2zI8"
      }
    },
    {
      "cell_type": "code",
      "source": [
        "from sklearn.metrics import roc_curve, auc\n",
        "import matplotlib.pyplot as plt\n",
        "\n",
        "\n",
        "# Compute false positive rate, true positive rate, and threshold for each dataset\n",
        "fpr_A, tpr_A, thresholds_A = roc_curve(y_test1, SVM_y_pred1)\n",
        "fpr_B, tpr_B, thresholds_B = roc_curve(y_test2, SVM_y_pred2)\n",
        "fpr_C, tpr_C, thresholds_C = roc_curve(y_test3, SVM_y_pred3)\n",
        "\n",
        "# Compute the area under the ROC curve for each dataset\n",
        "roc_auc_A = auc(fpr_A, tpr_A)\n",
        "roc_auc_B = auc(fpr_B, tpr_B)\n",
        "roc_auc_C = auc(fpr_C, tpr_C)\n",
        "\n",
        "# Plot the ROC curves for each dataset\n",
        "plt.figure()\n",
        "plt.plot(fpr_A, tpr_A, color='blue', lw=2, label='Set A ROC curve (AUC = %0.2f)' % roc_auc_A)\n",
        "plt.plot(fpr_B, tpr_B, color='red', lw=2, label='Set B ROC curve (AUC = %0.2f)' % roc_auc_B)\n",
        "plt.plot(fpr_C, tpr_C, color='green', lw=2, label='Set C ROC curve (AUC = %0.2f)' % roc_auc_C)\n",
        "\n",
        "plt.plot([0, 1], [0, 1], color='black', lw=2, linestyle='--')\n",
        "plt.xlim([0.0, 1.0])\n",
        "plt.ylim([0.0, 1.05])\n",
        "plt.xlabel('False Positive Rate')\n",
        "plt.ylabel('True Positive Rate')\n",
        "plt.title('AUC_ROC Curve Support Vector Machine (SVM)')\n",
        "plt.legend(loc=\"lower right\")\n",
        "plt.show()\n"
      ],
      "metadata": {
        "colab": {
          "base_uri": "https://localhost:8080/",
          "height": 472
        },
        "id": "sjlp23e52uAC",
        "outputId": "cc0a0da5-7fa8-4c28-ce53-69fda61c6221"
      },
      "execution_count": null,
      "outputs": [
        {
          "output_type": "display_data",
          "data": {
            "text/plain": [
              "<Figure size 640x480 with 1 Axes>"
            ],
            "image/png": "[encoded data removed]"
          },
          "metadata": {}
        }
      ]
    }
  ],
  "metadata": {
    "colab": {
      "collapsed_sections": [
        "mIwRsURgM6c-",
        "_qnBtiirMyzr",
        "ck5HAyeZNCIj",
        "WVkIm5db1CDh",
        "4zHU8MiWkeg4",
        "UdanbJw_l6kh",
        "JR2ItZgIX93v",
        "9Kli3zHBnO_J",
        "Pc8OxL5cnZvA",
        "SOr0Q73n60jB",
        "22cVIDzAdJc4",
        "2qCWypn-1TWs",
        "FZgolI2N40em",
        "Y97106kK4_fs",
        "lW9zrzDAINpL",
        "x0-tAabuSOgM",
        "T8aVqyZlY4hz",
        "SyneiYRGyJBS",
        "l5MejJQw3qUb",
        "-TBg_wily0pk",
        "EhYBUM1BEjOx",
        "hkS1hkUOG1iH",
        "6JSN9MOQxLoV",
        "NBLkjHsu2zI8"
      ],
      "provenance": [],
      "authorship_tag": "ABX9TyMTX1nItrVJFk1voV7INFU+",
      "include_colab_link": true
    },
    "kernelspec": {
      "display_name": "Python 3",
      "name": "python3"
    },
    "language_info": {
      "name": "python"
    }
  },
  "nbformat": 4,
  "nbformat_minor": 0
}